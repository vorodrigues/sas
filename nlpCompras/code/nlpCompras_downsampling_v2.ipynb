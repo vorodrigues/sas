{
 "cells": [
  {
   "cell_type": "markdown",
   "metadata": {},
   "source": [
    "# Categorização de Compras"
   ]
  },
  {
   "cell_type": "markdown",
   "metadata": {},
   "source": [
    "# Importa Bibliotecas"
   ]
  },
  {
   "cell_type": "code",
   "execution_count": 1,
   "metadata": {},
   "outputs": [],
   "source": [
    "from getpass import getpass\n",
    "import numpy as np\n",
    "import pandas as pd\n",
    "import matplotlib.pyplot as plt\n",
    "from swat import *\n",
    "import dlpy\n",
    "from dlpy import *\n",
    "from dlpy import Sequential\n",
    "from dlpy.splitting import three_way_split\n",
    "from dlpy.model import TextParms\n",
    "from dlpy.blocks import Bidirectional\n",
    "from dlpy.applications import TextClassification\n",
    "from dlpy.metrics import accuracy_score, roc_auc_score, confusion_matrix\n",
    "%matplotlib inline"
   ]
  },
  {
   "cell_type": "markdown",
   "metadata": {},
   "source": [
    "# Connect to SAS Viya"
   ]
  },
  {
   "cell_type": "code",
   "execution_count": 2,
   "metadata": {},
   "outputs": [
    {
     "name": "stdout",
     "output_type": "stream",
     "text": [
      "Please enter your passwod:········\n"
     ]
    }
   ],
   "source": [
    "sas = CAS('localhost', 5570, 'sasdemo', getpass('Please enter your passwod:'))"
   ]
  },
  {
   "cell_type": "markdown",
   "metadata": {},
   "source": [
    "# Load Action Sets"
   ]
  },
  {
   "cell_type": "code",
   "execution_count": 3,
   "metadata": {},
   "outputs": [
    {
     "name": "stdout",
     "output_type": "stream",
     "text": [
      "NOTE: Added action set 'fedSql'.\n",
      "NOTE: Added action set 'sampling'.\n",
      "Done!\n"
     ]
    }
   ],
   "source": [
    "sas.loadactionset('fedSql')\n",
    "sas.loadactionset('sampling')\n",
    "print('Done!')"
   ]
  },
  {
   "cell_type": "markdown",
   "metadata": {},
   "source": [
    "# Load Data"
   ]
  },
  {
   "cell_type": "code",
   "execution_count": 4,
   "metadata": {},
   "outputs": [
    {
     "name": "stdout",
     "output_type": "stream",
     "text": [
      "NOTE: Cloud Analytic Services made the uploaded file available as table DES in caslib CASUSER(sasdemo).\n",
      "NOTE: The table DES has been created in caslib CASUSER(sasdemo) from binary data uploaded to Cloud Analytic Services.\n",
      "Index(['ID', 'DESCRI', 'NCM'], dtype='object')\n",
      "(163933, 3)\n"
     ]
    }
   ],
   "source": [
    "des = sas.read_csv('/home/sasdemo/demos/nlpCompras/data/ComprasDescID.csv',\n",
    "                   sep=',',\n",
    "                   quotechar='\"',\n",
    "                   casout=CASTable(name='des', replace=True))\n",
    "print(des.columns)\n",
    "print(des.shape)"
   ]
  },
  {
   "cell_type": "code",
   "execution_count": 5,
   "metadata": {},
   "outputs": [
    {
     "data": {
      "text/html": [
       "<div>\n",
       "<style scoped>\n",
       "    .dataframe tbody tr th:only-of-type {\n",
       "        vertical-align: middle;\n",
       "    }\n",
       "\n",
       "    .dataframe tbody tr th {\n",
       "        vertical-align: top;\n",
       "    }\n",
       "\n",
       "    .dataframe thead th {\n",
       "        text-align: right;\n",
       "    }\n",
       "</style>\n",
       "<table border=\"1\" class=\"dataframe\"><caption>Selected Rows from Table DES</caption>\n",
       "  <thead>\n",
       "    <tr style=\"text-align: right;\">\n",
       "      <th title=\"\"></th>\n",
       "      <th title=\"ID\">ID</th>\n",
       "      <th title=\"DESCRI\">DESCRI</th>\n",
       "      <th title=\"NCM\">NCM</th>\n",
       "    </tr>\n",
       "  </thead>\n",
       "  <tbody>\n",
       "    <tr>\n",
       "      <th>0</th>\n",
       "      <td>80230.0</td>\n",
       "      <td>OB-055 ESCOVA DENTAL ADT OBA OBA CX C/60 DZ</td>\n",
       "      <td>96032100.0</td>\n",
       "    </tr>\n",
       "    <tr>\n",
       "      <th>1</th>\n",
       "      <td>80231.0</td>\n",
       "      <td>OB-056 ESCOVA DENTAL ADT OBA OBA CX C/60 DZ</td>\n",
       "      <td>96032100.0</td>\n",
       "    </tr>\n",
       "    <tr>\n",
       "      <th>2</th>\n",
       "      <td>80232.0</td>\n",
       "      <td>OB-057 ESCOVA DENTAL ADT OBA OBA CX C/60 DZ</td>\n",
       "      <td>96032100.0</td>\n",
       "    </tr>\n",
       "    <tr>\n",
       "      <th>3</th>\n",
       "      <td>80233.0</td>\n",
       "      <td>OB-058 ESCOVA DENTAL ADT OBA OBA CX C/60 DZ</td>\n",
       "      <td>96032100.0</td>\n",
       "    </tr>\n",
       "    <tr>\n",
       "      <th>4</th>\n",
       "      <td>80234.0</td>\n",
       "      <td>OB-059 ESCOVA DENTAL ADT OBA OBA CX C/60 DZ</td>\n",
       "      <td>96032100.0</td>\n",
       "    </tr>\n",
       "  </tbody>\n",
       "</table>\n",
       "</div>"
      ],
      "text/plain": [
       "Selected Rows from Table DES\n",
       "\n",
       "        ID                                       DESCRI         NCM\n",
       "0  80230.0  OB-055 ESCOVA DENTAL ADT OBA OBA CX C/60 DZ  96032100.0\n",
       "1  80231.0  OB-056 ESCOVA DENTAL ADT OBA OBA CX C/60 DZ  96032100.0\n",
       "2  80232.0  OB-057 ESCOVA DENTAL ADT OBA OBA CX C/60 DZ  96032100.0\n",
       "3  80233.0  OB-058 ESCOVA DENTAL ADT OBA OBA CX C/60 DZ  96032100.0\n",
       "4  80234.0  OB-059 ESCOVA DENTAL ADT OBA OBA CX C/60 DZ  96032100.0"
      ]
     },
     "execution_count": 5,
     "metadata": {},
     "output_type": "execute_result"
    }
   ],
   "source": [
    "des.head()"
   ]
  },
  {
   "cell_type": "code",
   "execution_count": 6,
   "metadata": {},
   "outputs": [
    {
     "name": "stdout",
     "output_type": "stream",
     "text": [
      "NOTE: Cloud Analytic Services made the uploaded file available as table CAT in caslib CASUSER(sasdemo).\n",
      "NOTE: The table CAT has been created in caslib CASUSER(sasdemo) from binary data uploaded to Cloud Analytic Services.\n",
      "Index(['ncm', 'cat'], dtype='object')\n",
      "(6, 2)\n"
     ]
    }
   ],
   "source": [
    "cat = sas.read_csv('/home/sasdemo/demos/nlpCompras/data/ComprasCat2.csv',\n",
    "                   sep=',',\n",
    "                   quotechar='\"',\n",
    "                   casout=CASTable(name='cat', replace=True))\n",
    "print(cat.columns)\n",
    "print(cat.shape)"
   ]
  },
  {
   "cell_type": "code",
   "execution_count": 7,
   "metadata": {},
   "outputs": [
    {
     "data": {
      "text/html": [
       "<div>\n",
       "<style scoped>\n",
       "    .dataframe tbody tr th:only-of-type {\n",
       "        vertical-align: middle;\n",
       "    }\n",
       "\n",
       "    .dataframe tbody tr th {\n",
       "        vertical-align: top;\n",
       "    }\n",
       "\n",
       "    .dataframe thead th {\n",
       "        text-align: right;\n",
       "    }\n",
       "</style>\n",
       "<table border=\"1\" class=\"dataframe\"><caption>Selected Rows from Table CAT</caption>\n",
       "  <thead>\n",
       "    <tr style=\"text-align: right;\">\n",
       "      <th title=\"\"></th>\n",
       "      <th title=\"ncm\">ncm</th>\n",
       "      <th title=\"cat\">cat</th>\n",
       "    </tr>\n",
       "  </thead>\n",
       "  <tbody>\n",
       "    <tr>\n",
       "      <th>0</th>\n",
       "      <td>33.0</td>\n",
       "      <td>ÓLEOS</td>\n",
       "    </tr>\n",
       "    <tr>\n",
       "      <th>1</th>\n",
       "      <td>34.0</td>\n",
       "      <td>SABÕES</td>\n",
       "    </tr>\n",
       "    <tr>\n",
       "      <th>2</th>\n",
       "      <td>96.0</td>\n",
       "      <td>OBRAS DIVERSAS</td>\n",
       "    </tr>\n",
       "    <tr>\n",
       "      <th>3</th>\n",
       "      <td>48.0</td>\n",
       "      <td>PAPÉIS</td>\n",
       "    </tr>\n",
       "    <tr>\n",
       "      <th>4</th>\n",
       "      <td>39.0</td>\n",
       "      <td>PLÁSTICOS</td>\n",
       "    </tr>\n",
       "  </tbody>\n",
       "</table>\n",
       "</div>"
      ],
      "text/plain": [
       "Selected Rows from Table CAT\n",
       "\n",
       "    ncm             cat\n",
       "0  33.0           ÓLEOS\n",
       "1  34.0          SABÕES\n",
       "2  96.0  OBRAS DIVERSAS\n",
       "3  48.0          PAPÉIS\n",
       "4  39.0       PLÁSTICOS"
      ]
     },
     "execution_count": 7,
     "metadata": {},
     "output_type": "execute_result"
    }
   ],
   "source": [
    "cat.head()"
   ]
  },
  {
   "cell_type": "markdown",
   "metadata": {},
   "source": [
    "# Prepare Data"
   ]
  },
  {
   "cell_type": "code",
   "execution_count": 8,
   "metadata": {},
   "outputs": [
    {
     "name": "stdout",
     "output_type": "stream",
     "text": [
      "NOTE: Table DATA was created in caslib CASUSER(sasdemo) with 163933 rows returned.\n",
      "Index(['ID', 'DES', 'CAT'], dtype='object')\n",
      "(163933, 3)\n"
     ]
    }
   ],
   "source": [
    "sas.fedsql.execdirect(\n",
    "    '''\n",
    "    create table data {options replace=True} as select\n",
    "        a.ID as ID,\n",
    "        a.DESCRI as DES,\n",
    "        nvl(b.CAT,'OUTROS') as CAT\n",
    "    from des as a\n",
    "    left join cat as b\n",
    "    on floor(a.NCM/1e6) = b.NCM\n",
    "    '''\n",
    ")\n",
    "data = sas.CASTable('data')\n",
    "print(data.columns)\n",
    "print(data.shape)"
   ]
  },
  {
   "cell_type": "code",
   "execution_count": 9,
   "metadata": {
    "scrolled": true
   },
   "outputs": [
    {
     "data": {
      "text/html": [
       "<div>\n",
       "<style scoped>\n",
       "    .dataframe tbody tr th:only-of-type {\n",
       "        vertical-align: middle;\n",
       "    }\n",
       "\n",
       "    .dataframe tbody tr th {\n",
       "        vertical-align: top;\n",
       "    }\n",
       "\n",
       "    .dataframe thead th {\n",
       "        text-align: right;\n",
       "    }\n",
       "</style>\n",
       "<table border=\"1\" class=\"dataframe\"><caption>Selected Rows from Table DATA</caption>\n",
       "  <thead>\n",
       "    <tr style=\"text-align: right;\">\n",
       "      <th title=\"\"></th>\n",
       "      <th title=\"ID\">ID</th>\n",
       "      <th title=\"DES\">DES</th>\n",
       "      <th title=\"CAT\">CAT</th>\n",
       "    </tr>\n",
       "  </thead>\n",
       "  <tbody>\n",
       "    <tr>\n",
       "      <th>0</th>\n",
       "      <td>80230.0</td>\n",
       "      <td>OB-055 ESCOVA DENTAL ADT OBA OBA CX C/60 DZ</td>\n",
       "      <td>OBRAS DIVERSAS</td>\n",
       "    </tr>\n",
       "    <tr>\n",
       "      <th>1</th>\n",
       "      <td>80231.0</td>\n",
       "      <td>OB-056 ESCOVA DENTAL ADT OBA OBA CX C/60 DZ</td>\n",
       "      <td>OBRAS DIVERSAS</td>\n",
       "    </tr>\n",
       "    <tr>\n",
       "      <th>2</th>\n",
       "      <td>80232.0</td>\n",
       "      <td>OB-057 ESCOVA DENTAL ADT OBA OBA CX C/60 DZ</td>\n",
       "      <td>OBRAS DIVERSAS</td>\n",
       "    </tr>\n",
       "    <tr>\n",
       "      <th>3</th>\n",
       "      <td>80233.0</td>\n",
       "      <td>OB-058 ESCOVA DENTAL ADT OBA OBA CX C/60 DZ</td>\n",
       "      <td>OBRAS DIVERSAS</td>\n",
       "    </tr>\n",
       "    <tr>\n",
       "      <th>4</th>\n",
       "      <td>80234.0</td>\n",
       "      <td>OB-059 ESCOVA DENTAL ADT OBA OBA CX C/60 DZ</td>\n",
       "      <td>OBRAS DIVERSAS</td>\n",
       "    </tr>\n",
       "  </tbody>\n",
       "</table>\n",
       "</div>"
      ],
      "text/plain": [
       "Selected Rows from Table DATA\n",
       "\n",
       "        ID                                          DES             CAT\n",
       "0  80230.0  OB-055 ESCOVA DENTAL ADT OBA OBA CX C/60 DZ  OBRAS DIVERSAS\n",
       "1  80231.0  OB-056 ESCOVA DENTAL ADT OBA OBA CX C/60 DZ  OBRAS DIVERSAS\n",
       "2  80232.0  OB-057 ESCOVA DENTAL ADT OBA OBA CX C/60 DZ  OBRAS DIVERSAS\n",
       "3  80233.0  OB-058 ESCOVA DENTAL ADT OBA OBA CX C/60 DZ  OBRAS DIVERSAS\n",
       "4  80234.0  OB-059 ESCOVA DENTAL ADT OBA OBA CX C/60 DZ  OBRAS DIVERSAS"
      ]
     },
     "execution_count": 9,
     "metadata": {},
     "output_type": "execute_result"
    }
   ],
   "source": [
    "data.head()"
   ]
  },
  {
   "cell_type": "code",
   "execution_count": 10,
   "metadata": {},
   "outputs": [
    {
     "data": {
      "text/html": [
       "<div class=\"cas-results-key\"><b>&#167; Result Set</b></div>\n",
       "<div class=\"cas-results-body\">\n",
       "<div>\n",
       "<style scoped>\n",
       "    .dataframe tbody tr th:only-of-type {\n",
       "        vertical-align: middle;\n",
       "    }\n",
       "\n",
       "    .dataframe tbody tr th {\n",
       "        vertical-align: top;\n",
       "    }\n",
       "\n",
       "    .dataframe thead th {\n",
       "        text-align: right;\n",
       "    }\n",
       "</style>\n",
       "<table border=\"1\" class=\"dataframe\">\n",
       "  <thead>\n",
       "    <tr style=\"text-align: right;\">\n",
       "      <th title=\"\"></th>\n",
       "      <th title=\"CAT\">CAT</th>\n",
       "      <th title=\"CNT\">CNT</th>\n",
       "    </tr>\n",
       "  </thead>\n",
       "  <tbody>\n",
       "    <tr>\n",
       "      <th>0</th>\n",
       "      <td>ÓLEOS</td>\n",
       "      <td>131954</td>\n",
       "    </tr>\n",
       "    <tr>\n",
       "      <th>1</th>\n",
       "      <td>SABÕES</td>\n",
       "      <td>11886</td>\n",
       "    </tr>\n",
       "    <tr>\n",
       "      <th>2</th>\n",
       "      <td>OBRAS DIVERSAS</td>\n",
       "      <td>9464</td>\n",
       "    </tr>\n",
       "    <tr>\n",
       "      <th>3</th>\n",
       "      <td>OUTROS</td>\n",
       "      <td>2971</td>\n",
       "    </tr>\n",
       "    <tr>\n",
       "      <th>4</th>\n",
       "      <td>PAPÉIS</td>\n",
       "      <td>2958</td>\n",
       "    </tr>\n",
       "    <tr>\n",
       "      <th>5</th>\n",
       "      <td>PLÁSTICOS</td>\n",
       "      <td>2505</td>\n",
       "    </tr>\n",
       "    <tr>\n",
       "      <th>6</th>\n",
       "      <td>FERRAMENTAS</td>\n",
       "      <td>2195</td>\n",
       "    </tr>\n",
       "  </tbody>\n",
       "</table>\n",
       "</div>\n",
       "</div>\n",
       "<div class=\"cas-output-area\"></div>\n",
       "<p class=\"cas-results-performance\"><small><span class=\"cas-elapsed\">elapsed 3.39s</span> &#183; <span class=\"cas-user\">user 0.099s</span> &#183; <span class=\"cas-sys\">sys 1.05s</span> &#183; <span class=\"cas-memory\">mem 67.3MB</span></small></p>"
      ],
      "text/plain": [
       "[Result Set]\n",
       "\n",
       "               CAT     CNT\n",
       " 0           ÓLEOS  131954\n",
       " 1          SABÕES   11886\n",
       " 2  OBRAS DIVERSAS    9464\n",
       " 3          OUTROS    2971\n",
       " 4          PAPÉIS    2958\n",
       " 5       PLÁSTICOS    2505\n",
       " 6     FERRAMENTAS    2195\n",
       "\n",
       "+ Elapsed: 3.39s, user: 0.099s, sys: 1.05s, mem: 67.3mb"
      ]
     },
     "execution_count": 10,
     "metadata": {},
     "output_type": "execute_result"
    }
   ],
   "source": [
    "sas.fedsql.execdirect(\n",
    "    '''\n",
    "    select cat, sum(1) as cnt from data group by cat order by cnt desc\n",
    "    '''\n",
    ")"
   ]
  },
  {
   "cell_type": "markdown",
   "metadata": {},
   "source": [
    "# Stratified Sampling"
   ]
  },
  {
   "cell_type": "code",
   "execution_count": 11,
   "metadata": {},
   "outputs": [
    {
     "name": "stdout",
     "output_type": "stream",
     "text": [
      "NOTE: Using SEED=1916804427 for sampling.\n",
      "NOTE: Using SEED=623185916 for sampling.\n",
      "NOTE: Using SEED=63077535 for sampling.\n",
      "(45174, 4)\n"
     ]
    }
   ],
   "source": [
    "data.query('cat <> \"ÓLEOS\"') \\\n",
    "    .groupby('cat') \\\n",
    "    .stratified(output={'casOut':{'name':'work01', 'replace':True}, 'copyVars':'ALL'},\n",
    "                samppct=80,\n",
    "                samppct2=10,\n",
    "                partind=True)\n",
    "\n",
    "data.query('cat = \"ÓLEOS\"') \\\n",
    "    .stratified(output={'casOut':{'name':'work02', 'replace':True}, 'copyVars':'ALL'},\n",
    "                samppct=10,\n",
    "                partind=True)\n",
    "\n",
    "sas.stratified(table=sas.CASTable('work02').query('_PartInd_ = 1'),\n",
    "               output={'casOut':{'name':'work03', 'replace':True}, 'copyVars':['ID','DES','CAT']},\n",
    "               samppct=80,\n",
    "               samppct2=10,\n",
    "               partind=True)\n",
    "\n",
    "work01 = sas.CASTable('work01')\n",
    "work03 = sas.CASTable('work03')\n",
    "data = work01.append(work03, casout='data')\n",
    "print(data.shape)"
   ]
  },
  {
   "cell_type": "code",
   "execution_count": 13,
   "metadata": {},
   "outputs": [
    {
     "data": {
      "text/html": [
       "<div class=\"cas-results-key\"><b>&#167; Result Set</b></div>\n",
       "<div class=\"cas-results-body\">\n",
       "<div>\n",
       "<style scoped>\n",
       "    .dataframe tbody tr th:only-of-type {\n",
       "        vertical-align: middle;\n",
       "    }\n",
       "\n",
       "    .dataframe tbody tr th {\n",
       "        vertical-align: top;\n",
       "    }\n",
       "\n",
       "    .dataframe thead th {\n",
       "        text-align: right;\n",
       "    }\n",
       "</style>\n",
       "<table border=\"1\" class=\"dataframe\">\n",
       "  <thead>\n",
       "    <tr style=\"text-align: right;\">\n",
       "      <th title=\"\"></th>\n",
       "      <th title=\"CAT\">CAT</th>\n",
       "      <th title=\"CNT\">CNT</th>\n",
       "    </tr>\n",
       "  </thead>\n",
       "  <tbody>\n",
       "    <tr>\n",
       "      <th>0</th>\n",
       "      <td>ÓLEOS</td>\n",
       "      <td>13195</td>\n",
       "    </tr>\n",
       "    <tr>\n",
       "      <th>1</th>\n",
       "      <td>SABÕES</td>\n",
       "      <td>11886</td>\n",
       "    </tr>\n",
       "    <tr>\n",
       "      <th>2</th>\n",
       "      <td>OBRAS DIVERSAS</td>\n",
       "      <td>9464</td>\n",
       "    </tr>\n",
       "    <tr>\n",
       "      <th>3</th>\n",
       "      <td>OUTROS</td>\n",
       "      <td>2971</td>\n",
       "    </tr>\n",
       "    <tr>\n",
       "      <th>4</th>\n",
       "      <td>PAPÉIS</td>\n",
       "      <td>2958</td>\n",
       "    </tr>\n",
       "    <tr>\n",
       "      <th>5</th>\n",
       "      <td>PLÁSTICOS</td>\n",
       "      <td>2505</td>\n",
       "    </tr>\n",
       "    <tr>\n",
       "      <th>6</th>\n",
       "      <td>FERRAMENTAS</td>\n",
       "      <td>2195</td>\n",
       "    </tr>\n",
       "  </tbody>\n",
       "</table>\n",
       "</div>\n",
       "</div>\n",
       "<div class=\"cas-output-area\"></div>\n",
       "<p class=\"cas-results-performance\"><small><span class=\"cas-elapsed\">elapsed 3.8s</span> &#183; <span class=\"cas-sys\">sys 1.05s</span> &#183; <span class=\"cas-memory\">mem 58.1MB</span></small></p>"
      ],
      "text/plain": [
       "[Result Set]\n",
       "\n",
       "               CAT    CNT\n",
       " 0           ÓLEOS  13195\n",
       " 1          SABÕES  11886\n",
       " 2  OBRAS DIVERSAS   9464\n",
       " 3          OUTROS   2971\n",
       " 4          PAPÉIS   2958\n",
       " 5       PLÁSTICOS   2505\n",
       " 6     FERRAMENTAS   2195\n",
       "\n",
       "+ Elapsed: 3.8s, sys: 1.05s, mem: 58.1mb"
      ]
     },
     "execution_count": 13,
     "metadata": {},
     "output_type": "execute_result"
    }
   ],
   "source": [
    "sas.fedsql.execdirect(\n",
    "    '''\n",
    "    select cat, sum(1) as cnt from data group by cat order by cnt desc\n",
    "    '''\n",
    ")"
   ]
  },
  {
   "cell_type": "markdown",
   "metadata": {},
   "source": [
    "# Load Embeddings"
   ]
  },
  {
   "cell_type": "markdown",
   "metadata": {},
   "source": [
    "Repositório de Word Embeddings do NILC (Núcleo Interinstitucional de Linguística Computacional)\n",
    "- http://nilc.icmc.usp.br/embeddings"
   ]
  },
  {
   "cell_type": "code",
   "execution_count": null,
   "metadata": {},
   "outputs": [],
   "source": [
    "emb = sas.read_csv('/home/sasdemo/demos/nlpCompras/data/glove_s50.txt',\n",
    "                   sep=' ',\n",
    "                   header=None,\n",
    "                   skiprows=1,\n",
    "                   casout=CASTable(name='emb', replace=True))\n",
    "print(emb.columns)\n",
    "print(emb.shape)"
   ]
  },
  {
   "cell_type": "code",
   "execution_count": null,
   "metadata": {},
   "outputs": [],
   "source": [
    "emb.head()"
   ]
  },
  {
   "cell_type": "markdown",
   "metadata": {},
   "source": [
    "# Train Model"
   ]
  },
  {
   "cell_type": "code",
   "execution_count": null,
   "metadata": {},
   "outputs": [],
   "source": [
    "model = TextClassification(sas,\n",
    "                           model_table='bdlstm001',\n",
    "                           neurons=100,\n",
    "                           n_blocks=1,\n",
    "                           rnn_type='LSTM')"
   ]
  },
  {
   "cell_type": "code",
   "execution_count": null,
   "metadata": {},
   "outputs": [],
   "source": [
    "model.plot_network()"
   ]
  },
  {
   "cell_type": "code",
   "execution_count": null,
   "metadata": {
    "scrolled": true
   },
   "outputs": [],
   "source": [
    "model.fit(data=data[data['_PartInd_']==0], \n",
    "          valid_table=data[data['_PartInd_']==1],\n",
    "          inputs='des',\n",
    "          texts='des',\n",
    "          target='cat',\n",
    "          nominals='cat',\n",
    "          text_parms=TextParms(init_input_embeddings='emb', language='portuguese'),\n",
    "          mini_batch_size=4, \n",
    "          max_epochs=100,\n",
    "          lr=0.01,\n",
    "          log_level=2)"
   ]
  },
  {
   "cell_type": "code",
   "execution_count": null,
   "metadata": {},
   "outputs": [],
   "source": [
    "model.plot_training_history(tick_frequency=5)"
   ]
  },
  {
   "cell_type": "code",
   "execution_count": null,
   "metadata": {},
   "outputs": [],
   "source": [
    "res = \\\n",
    "model.predict(data[data['_PartInd_']==2],\n",
    "              text_parms=TextParms(init_input_embeddings='emb', model_output_embeddings='bdsltm001'),\n",
    "              use_best_weights=True,\n",
    "              top_probs=2)\n",
    "preds = res['OutputCasTables']['casTable'][0]\n",
    "print(res['ScoreInfo'])"
   ]
  },
  {
   "cell_type": "code",
   "execution_count": null,
   "metadata": {},
   "outputs": [],
   "source": [
    "cmx = preds.crosstab(row='CAT', col='_DL_PredName_')\n",
    "print(cmx.Crosstab)"
   ]
  },
  {
   "cell_type": "markdown",
   "metadata": {},
   "source": [
    "# Train New Embeddings"
   ]
  },
  {
   "cell_type": "code",
   "execution_count": 14,
   "metadata": {},
   "outputs": [
    {
     "name": "stdout",
     "output_type": "stream",
     "text": [
      "NOTE: Added action set 'textMining'.\n"
     ]
    },
    {
     "data": {
      "text/html": [
       "<div class=\"cas-results-key\"><b>&#167; OutputCasTablesFull</b></div>\n",
       "<div class=\"cas-results-body\">\n",
       "<div>\n",
       "<style scoped>\n",
       "    .dataframe tbody tr th:only-of-type {\n",
       "        vertical-align: middle;\n",
       "    }\n",
       "\n",
       "    .dataframe tbody tr th {\n",
       "        vertical-align: top;\n",
       "    }\n",
       "\n",
       "    .dataframe thead th {\n",
       "        text-align: right;\n",
       "    }\n",
       "</style>\n",
       "<table border=\"1\" class=\"dataframe\">\n",
       "  <thead>\n",
       "    <tr style=\"text-align: right;\">\n",
       "      <th title=\"\"></th>\n",
       "      <th title=\"CAS Library\">casLib</th>\n",
       "      <th title=\"Name\">Name</th>\n",
       "      <th title=\"Label\">Label</th>\n",
       "      <th title=\"Number of Rows\">Rows</th>\n",
       "      <th title=\"Number of Columns\">Columns</th>\n",
       "      <th title=\"Table\">casTable</th>\n",
       "    </tr>\n",
       "  </thead>\n",
       "  <tbody>\n",
       "    <tr>\n",
       "      <th>0</th>\n",
       "      <td>CASUSER(sasdemo)</td>\n",
       "      <td>pos</td>\n",
       "      <td></td>\n",
       "      <td>262424</td>\n",
       "      <td>9</td>\n",
       "      <td>CASTable('pos', caslib='CASUSER(sasdemo)')</td>\n",
       "    </tr>\n",
       "    <tr>\n",
       "      <th>1</th>\n",
       "      <td>CASUSER(sasdemo)</td>\n",
       "      <td>terms</td>\n",
       "      <td></td>\n",
       "      <td>21370</td>\n",
       "      <td>11</td>\n",
       "      <td>CASTable('terms', caslib='CASUSER(sasdemo)')</td>\n",
       "    </tr>\n",
       "  </tbody>\n",
       "</table>\n",
       "</div>\n",
       "</div>\n",
       "<div class=\"cas-output-area\"></div>\n",
       "<p class=\"cas-results-performance\"><small><span class=\"cas-elapsed\">elapsed 11.9s</span> &#183; <span class=\"cas-user\">user 7.54s</span> &#183; <span class=\"cas-sys\">sys 5.15s</span> &#183; <span class=\"cas-memory\">mem 72.3MB</span></small></p>"
      ],
      "text/plain": [
       "[OutputCasTablesFull]\n",
       "\n",
       "              casLib   Name Label    Rows  Columns  \\\n",
       " 0  CASUSER(sasdemo)    pos        262424        9   \n",
       " 1  CASUSER(sasdemo)  terms         21370       11   \n",
       " \n",
       "                                        casTable  \n",
       " 0    CASTable('pos', caslib='CASUSER(sasdemo)')  \n",
       " 1  CASTable('terms', caslib='CASUSER(sasdemo)')  \n",
       "\n",
       "+ Elapsed: 11.9s, user: 7.54s, sys: 5.15s, mem: 72.3mb"
      ]
     },
     "execution_count": 14,
     "metadata": {},
     "output_type": "execute_result"
    }
   ],
   "source": [
    "sas.loadactionset('textMining')\n",
    "sas.tmMine(docId=\"ID\",\n",
    "           documents=\"data\", \n",
    "           entities=\"NONE\",\n",
    "           nounGroups=False,\n",
    "           offset=dict(name='pos', replace=True),\n",
    "           reduce=1,\n",
    "           stemming=False,\n",
    "           tagging=False,\n",
    "           terms=dict(name='terms', replace=True),\n",
    "           text=\"DES\"\n",
    "        )"
   ]
  },
  {
   "cell_type": "code",
   "execution_count": 15,
   "metadata": {},
   "outputs": [
    {
     "name": "stdout",
     "output_type": "stream",
     "text": [
      "NOTE: Added action set 'textUtil'.\n"
     ]
    },
    {
     "data": {
      "text/html": [
       "<div class=\"cas-results-key\"><b>&#167; NObs</b></div>\n",
       "<div class=\"cas-results-body\">\n",
       "<div>\n",
       "<style scoped>\n",
       "    .dataframe tbody tr th:only-of-type {\n",
       "        vertical-align: middle;\n",
       "    }\n",
       "\n",
       "    .dataframe tbody tr th {\n",
       "        vertical-align: top;\n",
       "    }\n",
       "\n",
       "    .dataframe thead th {\n",
       "        text-align: right;\n",
       "    }\n",
       "</style>\n",
       "<table border=\"1\" class=\"dataframe\"><caption>Input Data Statistics</caption>\n",
       "  <thead>\n",
       "    <tr style=\"text-align: right;\">\n",
       "      <th title=\"\"></th>\n",
       "      <th title=\"Description\">Description</th>\n",
       "      <th title=\"Value\">Value</th>\n",
       "    </tr>\n",
       "  </thead>\n",
       "  <tbody>\n",
       "    <tr>\n",
       "      <th>0</th>\n",
       "      <td>Number of sentences processed</td>\n",
       "      <td>47665.0</td>\n",
       "    </tr>\n",
       "    <tr>\n",
       "      <th>1</th>\n",
       "      <td>Number of terms processed</td>\n",
       "      <td>21370.0</td>\n",
       "    </tr>\n",
       "    <tr>\n",
       "      <th>2</th>\n",
       "      <td>Number of term pairs processed</td>\n",
       "      <td>617461.0</td>\n",
       "    </tr>\n",
       "  </tbody>\n",
       "</table>\n",
       "</div>\n",
       "</div>\n",
       "<div class=\"cas-results-key\"><hr/><b>&#167; OutputCasTablesFull</b></div>\n",
       "<div class=\"cas-results-body\">\n",
       "<div>\n",
       "<style scoped>\n",
       "    .dataframe tbody tr th:only-of-type {\n",
       "        vertical-align: middle;\n",
       "    }\n",
       "\n",
       "    .dataframe tbody tr th {\n",
       "        vertical-align: top;\n",
       "    }\n",
       "\n",
       "    .dataframe thead th {\n",
       "        text-align: right;\n",
       "    }\n",
       "</style>\n",
       "<table border=\"1\" class=\"dataframe\">\n",
       "  <thead>\n",
       "    <tr style=\"text-align: right;\">\n",
       "      <th title=\"\"></th>\n",
       "      <th title=\"CAS Library\">casLib</th>\n",
       "      <th title=\"Name\">Name</th>\n",
       "      <th title=\"Label\">Label</th>\n",
       "      <th title=\"Number of Rows\">Rows</th>\n",
       "      <th title=\"Number of Columns\">Columns</th>\n",
       "      <th title=\"Table\">casTable</th>\n",
       "    </tr>\n",
       "  </thead>\n",
       "  <tbody>\n",
       "    <tr>\n",
       "      <th>0</th>\n",
       "      <td>CASUSER(sasdemo)</td>\n",
       "      <td>cooc</td>\n",
       "      <td></td>\n",
       "      <td>436960</td>\n",
       "      <td>6</td>\n",
       "      <td>CASTable('cooc', caslib='CASUSER(sasdemo)')</td>\n",
       "    </tr>\n",
       "  </tbody>\n",
       "</table>\n",
       "</div>\n",
       "</div>\n",
       "<div class=\"cas-output-area\"></div>\n",
       "<p class=\"cas-results-performance\"><small><span class=\"cas-elapsed\">elapsed 2.74s</span> &#183; <span class=\"cas-user\">user 3.09s</span> &#183; <span class=\"cas-sys\">sys 1.08s</span> &#183; <span class=\"cas-memory\">mem 152MB</span></small></p>"
      ],
      "text/plain": [
       "[NObs]\n",
       "\n",
       " Input Data Statistics\n",
       " \n",
       "                       Description     Value\n",
       " 0   Number of sentences processed   47665.0\n",
       " 1       Number of terms processed   21370.0\n",
       " 2  Number of term pairs processed  617461.0\n",
       "\n",
       "[OutputCasTablesFull]\n",
       "\n",
       "              casLib  Name Label    Rows  Columns  \\\n",
       " 0  CASUSER(sasdemo)  cooc        436960        6   \n",
       " \n",
       "                                       casTable  \n",
       " 0  CASTable('cooc', caslib='CASUSER(sasdemo)')  \n",
       "\n",
       "+ Elapsed: 2.74s, user: 3.09s, sys: 1.08s, mem: 152mb"
      ]
     },
     "execution_count": 15,
     "metadata": {},
     "output_type": "execute_result"
    }
   ],
   "source": [
    "sas.loadactionset('textUtil')\n",
    "sas.tmCooccur(cooccurrence=dict(name='cooc', replace=True),\n",
    "            maxDist=5,\n",
    "            minCount=0,\n",
    "            offset={\"name\":\"pos\"},\n",
    "            ordered=False,\n",
    "            terms={\"name\":\"terms\"},  \n",
    "            useParentId=True\n",
    "           )"
   ]
  },
  {
   "cell_type": "code",
   "execution_count": 16,
   "metadata": {},
   "outputs": [
    {
     "data": {
      "text/html": [
       "<div class=\"cas-results-key\"><b>&#167; OutputCasTablesFull</b></div>\n",
       "<div class=\"cas-results-body\">\n",
       "<div>\n",
       "<style scoped>\n",
       "    .dataframe tbody tr th:only-of-type {\n",
       "        vertical-align: middle;\n",
       "    }\n",
       "\n",
       "    .dataframe tbody tr th {\n",
       "        vertical-align: top;\n",
       "    }\n",
       "\n",
       "    .dataframe thead th {\n",
       "        text-align: right;\n",
       "    }\n",
       "</style>\n",
       "<table border=\"1\" class=\"dataframe\">\n",
       "  <thead>\n",
       "    <tr style=\"text-align: right;\">\n",
       "      <th title=\"\"></th>\n",
       "      <th title=\"CAS Library\">casLib</th>\n",
       "      <th title=\"Name\">Name</th>\n",
       "      <th title=\"Label\">Label</th>\n",
       "      <th title=\"Number of Rows\">Rows</th>\n",
       "      <th title=\"Number of Columns\">Columns</th>\n",
       "      <th title=\"Table\">casTable</th>\n",
       "    </tr>\n",
       "  </thead>\n",
       "  <tbody>\n",
       "    <tr>\n",
       "      <th>0</th>\n",
       "      <td>CASUSER(sasdemo)</td>\n",
       "      <td>wordPro</td>\n",
       "      <td></td>\n",
       "      <td>21370</td>\n",
       "      <td>51</td>\n",
       "      <td>CASTable('wordPro', caslib='CASUSER(sasdemo)')</td>\n",
       "    </tr>\n",
       "  </tbody>\n",
       "</table>\n",
       "</div>\n",
       "</div>\n",
       "<div class=\"cas-results-key\"><hr/><b>&#167; 0</b></div>\n",
       "<div class=\"cas-results-body\">\n",
       "<div>0</div>\n",
       "</div>\n",
       "<div class=\"cas-output-area\"></div>\n",
       "<p class=\"cas-results-performance\"><small><span class=\"cas-elapsed\">elapsed 15.5s</span> &#183; <span class=\"cas-user\">user 12.9s</span> &#183; <span class=\"cas-sys\">sys 3.14s</span> &#183; <span class=\"cas-memory\">mem 87.2MB</span></small></p>"
      ],
      "text/plain": [
       "[OutputCasTablesFull]\n",
       "\n",
       "              casLib     Name Label   Rows  Columns  \\\n",
       " 0  CASUSER(sasdemo)  wordPro        21370       51   \n",
       " \n",
       "                                          casTable  \n",
       " 0  CASTable('wordPro', caslib='CASUSER(sasdemo)')  \n",
       "\n",
       "[0]\n",
       "\n",
       " 0\n",
       "\n",
       "+ Elapsed: 15.5s, user: 12.9s, sys: 3.14s, mem: 87.2mb"
      ]
     },
     "execution_count": 16,
     "metadata": {},
     "output_type": "execute_result"
    }
   ],
   "source": [
    "sas.tmSvd(count=\"_association_\",\n",
    "        docId=\"_termid2_\",\n",
    "        maxK=50,\n",
    "        parent={\"name\":\"cooc\"}, \n",
    "        termId=\"_termid1_\",\n",
    "        wordPro=dict(name='wordPro', replace=True)\n",
    "       )"
   ]
  },
  {
   "cell_type": "code",
   "execution_count": 17,
   "metadata": {},
   "outputs": [
    {
     "name": "stdout",
     "output_type": "stream",
     "text": [
      "NOTE: Table wordEmbedding was created in caslib CASUSER(sasdemo) with 21370 rows returned.\n"
     ]
    },
    {
     "data": {
      "text/html": [
       "<div class=\"cas-output-area\"></div>\n",
       "<p class=\"cas-results-performance\"><small><span class=\"cas-elapsed\">elapsed 0.149s</span> &#183; <span class=\"cas-user\">user 0.294s</span> &#183; <span class=\"cas-sys\">sys 0.102s</span> &#183; <span class=\"cas-memory\">mem 66.5MB</span></small></p>"
      ],
      "text/plain": [
       "+ Elapsed: 0.149s, user: 0.294s, sys: 0.102s, mem: 66.5mb"
      ]
     },
     "execution_count": 17,
     "metadata": {},
     "output_type": "execute_result"
    }
   ],
   "source": [
    "sas.execDirect(casout=dict(name='wordEmbedding', replace=True),\n",
    "             query='select t._term_, d.* from wordPro d, terms t where d._termnum_=t._termnum_')"
   ]
  },
  {
   "cell_type": "code",
   "execution_count": 18,
   "metadata": {},
   "outputs": [
    {
     "data": {
      "text/html": [
       "<div class=\"cas-results-key\"><b>&#167; InputCasTables</b></div>\n",
       "<div class=\"cas-results-body\">\n",
       "<div>\n",
       "<style scoped>\n",
       "    .dataframe tbody tr th:only-of-type {\n",
       "        vertical-align: middle;\n",
       "    }\n",
       "\n",
       "    .dataframe tbody tr th {\n",
       "        vertical-align: top;\n",
       "    }\n",
       "\n",
       "    .dataframe thead th {\n",
       "        text-align: right;\n",
       "    }\n",
       "</style>\n",
       "<table border=\"1\" class=\"dataframe\">\n",
       "  <thead>\n",
       "    <tr style=\"text-align: right;\">\n",
       "      <th title=\"\"></th>\n",
       "      <th title=\"CAS Library\">casLib</th>\n",
       "      <th title=\"Name\">Name</th>\n",
       "      <th title=\"Number of Rows\">Rows</th>\n",
       "      <th title=\"Number of Columns\">Columns</th>\n",
       "      <th title=\"Table\">casTable</th>\n",
       "    </tr>\n",
       "  </thead>\n",
       "  <tbody>\n",
       "    <tr>\n",
       "      <th>0</th>\n",
       "      <td>CASUSER(sasdemo)</td>\n",
       "      <td>wordEmbedding</td>\n",
       "      <td>21370</td>\n",
       "      <td>52</td>\n",
       "      <td>CASTable('wordEmbedding', caslib='CASUSER(sasd...</td>\n",
       "    </tr>\n",
       "  </tbody>\n",
       "</table>\n",
       "</div>\n",
       "</div>\n",
       "<div class=\"cas-results-key\"><hr/><b>&#167; OutputCasTables</b></div>\n",
       "<div class=\"cas-results-body\">\n",
       "<div>\n",
       "<style scoped>\n",
       "    .dataframe tbody tr th:only-of-type {\n",
       "        vertical-align: middle;\n",
       "    }\n",
       "\n",
       "    .dataframe tbody tr th {\n",
       "        vertical-align: top;\n",
       "    }\n",
       "\n",
       "    .dataframe thead th {\n",
       "        text-align: right;\n",
       "    }\n",
       "</style>\n",
       "<table border=\"1\" class=\"dataframe\">\n",
       "  <thead>\n",
       "    <tr style=\"text-align: right;\">\n",
       "      <th title=\"\"></th>\n",
       "      <th title=\"CAS Library\">casLib</th>\n",
       "      <th title=\"Name\">Name</th>\n",
       "      <th title=\"Number of Rows\">Rows</th>\n",
       "      <th title=\"Number of Columns\">Columns</th>\n",
       "      <th title=\"Number of Rows Appended\">Append</th>\n",
       "      <th title=\"Table\">casTable</th>\n",
       "    </tr>\n",
       "  </thead>\n",
       "  <tbody>\n",
       "    <tr>\n",
       "      <th>0</th>\n",
       "      <td>CASUSER(sasdemo)</td>\n",
       "      <td>wordEmbedding</td>\n",
       "      <td>21370</td>\n",
       "      <td>51</td>\n",
       "      <td>NaN</td>\n",
       "      <td>CASTable('wordEmbedding', caslib='CASUSER(sasd...</td>\n",
       "    </tr>\n",
       "  </tbody>\n",
       "</table>\n",
       "</div>\n",
       "</div>\n",
       "<div class=\"cas-output-area\"></div>\n",
       "<p class=\"cas-results-performance\"><small><span class=\"cas-elapsed\">elapsed 0.0539s</span> &#183; <span class=\"cas-user\">user 0.099s</span> &#183; <span class=\"cas-sys\">sys 0.035s</span> &#183; <span class=\"cas-memory\">mem 7.5MB</span></small></p>"
      ],
      "text/plain": [
       "[InputCasTables]\n",
       "\n",
       "              casLib           Name   Rows  Columns  \\\n",
       " 0  CASUSER(sasdemo)  wordEmbedding  21370       52   \n",
       " \n",
       "                                             casTable  \n",
       " 0  CASTable('wordEmbedding', caslib='CASUSER(sasd...  \n",
       "\n",
       "[OutputCasTables]\n",
       "\n",
       "              casLib           Name   Rows  Columns  Append  \\\n",
       " 0  CASUSER(sasdemo)  wordEmbedding  21370       51     NaN   \n",
       " \n",
       "                                             casTable  \n",
       " 0  CASTable('wordEmbedding', caslib='CASUSER(sasd...  \n",
       "\n",
       "+ Elapsed: 0.0539s, user: 0.099s, sys: 0.035s, mem: 7.5mb"
      ]
     },
     "execution_count": 18,
     "metadata": {},
     "output_type": "execute_result"
    }
   ],
   "source": [
    "sas.datastep.runcode('data wordEmbedding(replace=yes); set wordEmbedding; drop _TermNum_; run;')"
   ]
  },
  {
   "cell_type": "code",
   "execution_count": 19,
   "metadata": {},
   "outputs": [
    {
     "data": {
      "text/html": [
       "<div>\n",
       "<style scoped>\n",
       "    .dataframe tbody tr th:only-of-type {\n",
       "        vertical-align: middle;\n",
       "    }\n",
       "\n",
       "    .dataframe tbody tr th {\n",
       "        vertical-align: top;\n",
       "    }\n",
       "\n",
       "    .dataframe thead th {\n",
       "        text-align: right;\n",
       "    }\n",
       "</style>\n",
       "<table border=\"1\" class=\"dataframe\"><caption>Selected Rows from Table WORDEMBEDDING</caption>\n",
       "  <thead>\n",
       "    <tr style=\"text-align: right;\">\n",
       "      <th title=\"\"></th>\n",
       "      <th title=\"Term\">_Term_</th>\n",
       "      <th title=\"_Col1_\">_Col1_</th>\n",
       "      <th title=\"_Col2_\">_Col2_</th>\n",
       "      <th title=\"_Col3_\">_Col3_</th>\n",
       "      <th title=\"_Col4_\">_Col4_</th>\n",
       "      <th title=\"_Col5_\">_Col5_</th>\n",
       "      <th title=\"_Col6_\">_Col6_</th>\n",
       "      <th title=\"_Col7_\">_Col7_</th>\n",
       "      <th title=\"_Col8_\">_Col8_</th>\n",
       "      <th title=\"_Col9_\">_Col9_</th>\n",
       "      <th title=\"...\">...</th>\n",
       "      <th title=\"_Col41_\">_Col41_</th>\n",
       "      <th title=\"_Col42_\">_Col42_</th>\n",
       "      <th title=\"_Col43_\">_Col43_</th>\n",
       "      <th title=\"_Col44_\">_Col44_</th>\n",
       "      <th title=\"_Col45_\">_Col45_</th>\n",
       "      <th title=\"_Col46_\">_Col46_</th>\n",
       "      <th title=\"_Col47_\">_Col47_</th>\n",
       "      <th title=\"_Col48_\">_Col48_</th>\n",
       "      <th title=\"_Col49_\">_Col49_</th>\n",
       "      <th title=\"_Col50_\">_Col50_</th>\n",
       "    </tr>\n",
       "  </thead>\n",
       "  <tbody>\n",
       "    <tr>\n",
       "      <th>0</th>\n",
       "      <td>adst2</td>\n",
       "      <td>0.302401</td>\n",
       "      <td>-0.179095</td>\n",
       "      <td>-0.269440</td>\n",
       "      <td>-0.233528</td>\n",
       "      <td>0.087033</td>\n",
       "      <td>0.053620</td>\n",
       "      <td>-0.059986</td>\n",
       "      <td>-0.065822</td>\n",
       "      <td>0.027693</td>\n",
       "      <td>...</td>\n",
       "      <td>-0.030305</td>\n",
       "      <td>-0.003509</td>\n",
       "      <td>-0.099825</td>\n",
       "      <td>0.148674</td>\n",
       "      <td>0.020010</td>\n",
       "      <td>-0.116575</td>\n",
       "      <td>0.043521</td>\n",
       "      <td>-0.012953</td>\n",
       "      <td>-0.257594</td>\n",
       "      <td>0.224465</td>\n",
       "    </tr>\n",
       "    <tr>\n",
       "      <th>1</th>\n",
       "      <td>e80gr</td>\n",
       "      <td>0.388314</td>\n",
       "      <td>0.039887</td>\n",
       "      <td>-0.171849</td>\n",
       "      <td>-0.347756</td>\n",
       "      <td>-0.069608</td>\n",
       "      <td>0.034213</td>\n",
       "      <td>0.125915</td>\n",
       "      <td>0.134440</td>\n",
       "      <td>-0.084221</td>\n",
       "      <td>...</td>\n",
       "      <td>-0.067970</td>\n",
       "      <td>0.280854</td>\n",
       "      <td>0.081228</td>\n",
       "      <td>0.072984</td>\n",
       "      <td>-0.217170</td>\n",
       "      <td>-0.191507</td>\n",
       "      <td>-0.007355</td>\n",
       "      <td>0.111472</td>\n",
       "      <td>-0.088817</td>\n",
       "      <td>0.033383</td>\n",
       "    </tr>\n",
       "    <tr>\n",
       "      <th>2</th>\n",
       "      <td>efeit</td>\n",
       "      <td>0.199837</td>\n",
       "      <td>-0.002537</td>\n",
       "      <td>0.194089</td>\n",
       "      <td>0.028786</td>\n",
       "      <td>0.088385</td>\n",
       "      <td>-0.110641</td>\n",
       "      <td>-0.080827</td>\n",
       "      <td>0.141533</td>\n",
       "      <td>0.257831</td>\n",
       "      <td>...</td>\n",
       "      <td>0.248109</td>\n",
       "      <td>-0.312510</td>\n",
       "      <td>-0.127455</td>\n",
       "      <td>-0.154488</td>\n",
       "      <td>0.035899</td>\n",
       "      <td>0.235613</td>\n",
       "      <td>-0.062220</td>\n",
       "      <td>-0.050346</td>\n",
       "      <td>-0.217597</td>\n",
       "      <td>0.142771</td>\n",
       "    </tr>\n",
       "    <tr>\n",
       "      <th>3</th>\n",
       "      <td>fired</td>\n",
       "      <td>0.170072</td>\n",
       "      <td>-0.058604</td>\n",
       "      <td>0.121378</td>\n",
       "      <td>0.072116</td>\n",
       "      <td>-0.015832</td>\n",
       "      <td>-0.089873</td>\n",
       "      <td>-0.080445</td>\n",
       "      <td>0.094140</td>\n",
       "      <td>0.284350</td>\n",
       "      <td>...</td>\n",
       "      <td>0.193184</td>\n",
       "      <td>-0.339570</td>\n",
       "      <td>0.048124</td>\n",
       "      <td>0.048584</td>\n",
       "      <td>-0.092374</td>\n",
       "      <td>0.263337</td>\n",
       "      <td>-0.053973</td>\n",
       "      <td>0.128996</td>\n",
       "      <td>-0.160409</td>\n",
       "      <td>0.180899</td>\n",
       "    </tr>\n",
       "    <tr>\n",
       "      <th>4</th>\n",
       "      <td>monet</td>\n",
       "      <td>0.360996</td>\n",
       "      <td>-0.242305</td>\n",
       "      <td>-0.010277</td>\n",
       "      <td>0.204622</td>\n",
       "      <td>0.000974</td>\n",
       "      <td>-0.064244</td>\n",
       "      <td>0.020460</td>\n",
       "      <td>0.069263</td>\n",
       "      <td>0.151883</td>\n",
       "      <td>...</td>\n",
       "      <td>0.342590</td>\n",
       "      <td>-0.135516</td>\n",
       "      <td>-0.062631</td>\n",
       "      <td>0.131355</td>\n",
       "      <td>0.025950</td>\n",
       "      <td>0.145692</td>\n",
       "      <td>-0.041331</td>\n",
       "      <td>0.008104</td>\n",
       "      <td>-0.229598</td>\n",
       "      <td>0.131597</td>\n",
       "    </tr>\n",
       "  </tbody>\n",
       "</table>\n",
       "<p>5 rows × 51 columns</p>\n",
       "</div>"
      ],
      "text/plain": [
       "Selected Rows from Table WORDEMBEDDING\n",
       "\n",
       "  _Term_    _Col1_    _Col2_    _Col3_    _Col4_    _Col5_    _Col6_  \\\n",
       "0  adst2  0.302401 -0.179095 -0.269440 -0.233528  0.087033  0.053620   \n",
       "1  e80gr  0.388314  0.039887 -0.171849 -0.347756 -0.069608  0.034213   \n",
       "2  efeit  0.199837 -0.002537  0.194089  0.028786  0.088385 -0.110641   \n",
       "3  fired  0.170072 -0.058604  0.121378  0.072116 -0.015832 -0.089873   \n",
       "4  monet  0.360996 -0.242305 -0.010277  0.204622  0.000974 -0.064244   \n",
       "\n",
       "     _Col7_    _Col8_    _Col9_  ...   _Col41_   _Col42_   _Col43_   _Col44_  \\\n",
       "0 -0.059986 -0.065822  0.027693  ... -0.030305 -0.003509 -0.099825  0.148674   \n",
       "1  0.125915  0.134440 -0.084221  ... -0.067970  0.280854  0.081228  0.072984   \n",
       "2 -0.080827  0.141533  0.257831  ...  0.248109 -0.312510 -0.127455 -0.154488   \n",
       "3 -0.080445  0.094140  0.284350  ...  0.193184 -0.339570  0.048124  0.048584   \n",
       "4  0.020460  0.069263  0.151883  ...  0.342590 -0.135516 -0.062631  0.131355   \n",
       "\n",
       "    _Col45_   _Col46_   _Col47_   _Col48_   _Col49_   _Col50_  \n",
       "0  0.020010 -0.116575  0.043521 -0.012953 -0.257594  0.224465  \n",
       "1 -0.217170 -0.191507 -0.007355  0.111472 -0.088817  0.033383  \n",
       "2  0.035899  0.235613 -0.062220 -0.050346 -0.217597  0.142771  \n",
       "3 -0.092374  0.263337 -0.053973  0.128996 -0.160409  0.180899  \n",
       "4  0.025950  0.145692 -0.041331  0.008104 -0.229598  0.131597  \n",
       "\n",
       "[5 rows x 51 columns]"
      ]
     },
     "execution_count": 19,
     "metadata": {},
     "output_type": "execute_result"
    }
   ],
   "source": [
    "sas.CASTable('wordEmbedding').head()"
   ]
  },
  {
   "cell_type": "markdown",
   "metadata": {},
   "source": [
    "# Visualize the New Word Embeddings"
   ]
  },
  {
   "cell_type": "code",
   "execution_count": null,
   "metadata": {},
   "outputs": [],
   "source": [
    "sas.loadactionset(\"tSne\")\n",
    "sas.tSne(output        = {\"casOut\":{\"name\":\"tsne\", \"replace\":True},\n",
    "                          \"copyVars\":'_Term_'},\n",
    "         inputs        = ['_Col%d_' % x for x in range(1,51)],\n",
    "         nDimensions   = 2,\n",
    "         perplexity    = 5,\n",
    "         learningRate  = 100,\n",
    "         maxIters      = 500,\n",
    "         table         = 'wordEmbedding')\n",
    "\n",
    "tsne_out=sas.CASTable('tsne')"
   ]
  },
  {
   "cell_type": "code",
   "execution_count": null,
   "metadata": {},
   "outputs": [],
   "source": [
    "#plot"
   ]
  },
  {
   "cell_type": "markdown",
   "metadata": {},
   "source": [
    "# Train New Model"
   ]
  },
  {
   "cell_type": "code",
   "execution_count": 53,
   "metadata": {},
   "outputs": [
    {
     "name": "stdout",
     "output_type": "stream",
     "text": [
      "NOTE: Output layer added.\n",
      "NOTE: Model compiled successfully.\n"
     ]
    }
   ],
   "source": [
    "model = TextClassification(sas,\n",
    "                           model_table='bdlstm002',\n",
    "                           neurons=100,\n",
    "                           n_blocks=3,\n",
    "                           rnn_type='LSTM')"
   ]
  },
  {
   "cell_type": "code",
   "execution_count": 54,
   "metadata": {},
   "outputs": [
    {
     "data": {
      "image/svg+xml": [
       "<?xml version=\"1.0\" encoding=\"UTF-8\" standalone=\"no\"?>\n",
       "<!DOCTYPE svg PUBLIC \"-//W3C//DTD SVG 1.1//EN\"\n",
       " \"http://www.w3.org/Graphics/SVG/1.1/DTD/svg11.dtd\">\n",
       "<!-- Generated by graphviz version 2.40.1 (20161225.0304)\n",
       " -->\n",
       "<!-- Title: bdlstm002 Pages: 1 -->\n",
       "<svg width=\"534pt\" height=\"311pt\"\n",
       " viewBox=\"0.00 0.00 534.00 311.00\" xmlns=\"http://www.w3.org/2000/svg\" xmlns:xlink=\"http://www.w3.org/1999/xlink\">\n",
       "<g id=\"graph0\" class=\"graph\" transform=\"scale(1 1) rotate(0) translate(4 307)\">\n",
       "<title>bdlstm002</title>\n",
       "<polygon fill=\"#ffffff\" stroke=\"transparent\" points=\"-4,4 -4,-307 530,-307 530,4 -4,4\"/>\n",
       "<!-- input_layer_to_bidirectional_rnn -->\n",
       "<g id=\"node1\" class=\"node\">\n",
       "<title>input_layer_to_bidirectional_rnn</title>\n",
       "<polygon fill=\"#3288bd\" fill-opacity=\"0.250980\" stroke=\"#3288bd\" points=\"129,-280.5 129,-302.5 387,-302.5 387,-280.5 129,-280.5\"/>\n",
       "<text text-anchor=\"middle\" x=\"258\" y=\"-287.8\" font-family=\"Helvetica,sans-Serif\" font-size=\"14.00\" fill=\"#000000\">input_layer_to_bidirectional_rnn(input)</text>\n",
       "</g>\n",
       "<!-- bi_LSTM_layer_0B1 -->\n",
       "<g id=\"node2\" class=\"node\">\n",
       "<title>bi_LSTM_layer_0B1</title>\n",
       "<polygon fill=\"#abdda4\" fill-opacity=\"0.250980\" stroke=\"#abdda4\" points=\"25.5,-210.5 25.5,-232.5 240.5,-232.5 240.5,-210.5 25.5,-210.5\"/>\n",
       "<text text-anchor=\"middle\" x=\"133\" y=\"-217.8\" font-family=\"Helvetica,sans-Serif\" font-size=\"14.00\" fill=\"#000000\">bi_LSTM_layer_0B1(recurrent)</text>\n",
       "</g>\n",
       "<!-- input_layer_to_bidirectional_rnn&#45;&gt;bi_LSTM_layer_0B1 -->\n",
       "<g id=\"edge1\" class=\"edge\">\n",
       "<title>input_layer_to_bidirectional_rnn&#45;&gt;bi_LSTM_layer_0B1</title>\n",
       "<path fill=\"none\" stroke=\"#5677f3\" d=\"M238.1934,-280.4083C217.5303,-268.837 184.9415,-250.5872 161.5112,-237.4662\"/>\n",
       "<polygon fill=\"#5677f3\" stroke=\"#5677f3\" points=\"163.1492,-234.3721 152.714,-232.5398 159.7289,-240.4797 163.1492,-234.3721\"/>\n",
       "<text text-anchor=\"middle\" x=\"209\" y=\"-254\" font-family=\"Helvetica,sans-Serif\" font-size=\"10.00\" fill=\"#000000\"> 0 </text>\n",
       "</g>\n",
       "<!-- bi_LSTM_layer_1B1 -->\n",
       "<g id=\"node3\" class=\"node\">\n",
       "<title>bi_LSTM_layer_1B1</title>\n",
       "<polygon fill=\"#abdda4\" fill-opacity=\"0.250980\" stroke=\"#abdda4\" points=\"276.5,-210.5 276.5,-232.5 491.5,-232.5 491.5,-210.5 276.5,-210.5\"/>\n",
       "<text text-anchor=\"middle\" x=\"384\" y=\"-217.8\" font-family=\"Helvetica,sans-Serif\" font-size=\"14.00\" fill=\"#000000\">bi_LSTM_layer_1B1(recurrent)</text>\n",
       "</g>\n",
       "<!-- input_layer_to_bidirectional_rnn&#45;&gt;bi_LSTM_layer_1B1 -->\n",
       "<g id=\"edge3\" class=\"edge\">\n",
       "<title>input_layer_to_bidirectional_rnn&#45;&gt;bi_LSTM_layer_1B1</title>\n",
       "<path fill=\"none\" stroke=\"#5677f3\" d=\"M277.9651,-280.4083C298.7934,-268.837 331.643,-250.5872 355.2608,-237.4662\"/>\n",
       "<polygon fill=\"#5677f3\" stroke=\"#5677f3\" points=\"357.0865,-240.4558 364.1283,-232.5398 353.687,-234.3367 357.0865,-240.4558\"/>\n",
       "<text text-anchor=\"middle\" x=\"334\" y=\"-254\" font-family=\"Helvetica,sans-Serif\" font-size=\"10.00\" fill=\"#000000\"> 0 </text>\n",
       "</g>\n",
       "<!-- bi_LSTM_layer_0B1&#45;&gt;bi_LSTM_layer_0B1 -->\n",
       "<g id=\"edge2\" class=\"edge\">\n",
       "<title>bi_LSTM_layer_0B1&#45;&gt;bi_LSTM_layer_0B1</title>\n",
       "<path fill=\"none\" stroke=\"#5677f3\" d=\"M240.5584,-226.7404C251.5091,-225.7038 258.5,-223.957 258.5,-221.5 258.5,-219.926 255.6309,-218.6434 250.6897,-217.6523\"/>\n",
       "<polygon fill=\"#5677f3\" stroke=\"#5677f3\" points=\"250.9419,-214.1542 240.5584,-216.2596 249.9885,-221.089 250.9419,-214.1542\"/>\n",
       "</g>\n",
       "<!-- bi_LSTM_layer_0B2 -->\n",
       "<g id=\"node4\" class=\"node\">\n",
       "<title>bi_LSTM_layer_0B2</title>\n",
       "<polygon fill=\"#abdda4\" fill-opacity=\"0.250980\" stroke=\"#abdda4\" points=\"25.5,-140.5 25.5,-162.5 240.5,-162.5 240.5,-140.5 25.5,-140.5\"/>\n",
       "<text text-anchor=\"middle\" x=\"133\" y=\"-147.8\" font-family=\"Helvetica,sans-Serif\" font-size=\"14.00\" fill=\"#000000\">bi_LSTM_layer_0B2(recurrent)</text>\n",
       "</g>\n",
       "<!-- bi_LSTM_layer_0B1&#45;&gt;bi_LSTM_layer_0B2 -->\n",
       "<g id=\"edge5\" class=\"edge\">\n",
       "<title>bi_LSTM_layer_0B1&#45;&gt;bi_LSTM_layer_0B2</title>\n",
       "<path fill=\"none\" stroke=\"#5677f3\" d=\"M133,-210.2533C133,-200.3113 133,-185.5277 133,-173.2776\"/>\n",
       "<polygon fill=\"#5677f3\" stroke=\"#5677f3\" points=\"136.5001,-172.9513 133,-162.9513 129.5001,-172.9514 136.5001,-172.9513\"/>\n",
       "<text text-anchor=\"middle\" x=\"144\" y=\"-184\" font-family=\"Helvetica,sans-Serif\" font-size=\"10.00\" fill=\"#000000\"> 100 </text>\n",
       "</g>\n",
       "<!-- bi_LSTM_layer_1B2 -->\n",
       "<g id=\"node5\" class=\"node\">\n",
       "<title>bi_LSTM_layer_1B2</title>\n",
       "<polygon fill=\"#abdda4\" fill-opacity=\"0.250980\" stroke=\"#abdda4\" points=\"276.5,-140.5 276.5,-162.5 491.5,-162.5 491.5,-140.5 276.5,-140.5\"/>\n",
       "<text text-anchor=\"middle\" x=\"384\" y=\"-147.8\" font-family=\"Helvetica,sans-Serif\" font-size=\"14.00\" fill=\"#000000\">bi_LSTM_layer_1B2(recurrent)</text>\n",
       "</g>\n",
       "<!-- bi_LSTM_layer_0B1&#45;&gt;bi_LSTM_layer_1B2 -->\n",
       "<g id=\"edge8\" class=\"edge\">\n",
       "<title>bi_LSTM_layer_0B1&#45;&gt;bi_LSTM_layer_1B2</title>\n",
       "<path fill=\"none\" stroke=\"#5677f3\" d=\"M152.3058,-210.4525C169.1461,-201.2724 194.4954,-188.5359 218,-181 239.7309,-174.0327 263.6217,-168.5731 286.3414,-164.349\"/>\n",
       "<polygon fill=\"#5677f3\" stroke=\"#5677f3\" points=\"287.1158,-167.7661 296.34,-162.5541 285.8788,-160.8762 287.1158,-167.7661\"/>\n",
       "<text text-anchor=\"middle\" x=\"229\" y=\"-184\" font-family=\"Helvetica,sans-Serif\" font-size=\"10.00\" fill=\"#000000\"> 100 </text>\n",
       "</g>\n",
       "<!-- bi_LSTM_layer_1B1&#45;&gt;bi_LSTM_layer_1B1 -->\n",
       "<g id=\"edge4\" class=\"edge\">\n",
       "<title>bi_LSTM_layer_1B1&#45;&gt;bi_LSTM_layer_1B1</title>\n",
       "<path fill=\"none\" stroke=\"#5677f3\" d=\"M491.5584,-226.7404C502.5091,-225.7038 509.5,-223.957 509.5,-221.5 509.5,-219.926 506.6309,-218.6434 501.6897,-217.6523\"/>\n",
       "<polygon fill=\"#5677f3\" stroke=\"#5677f3\" points=\"501.9419,-214.1542 491.5584,-216.2596 500.9885,-221.089 501.9419,-214.1542\"/>\n",
       "</g>\n",
       "<!-- bi_LSTM_layer_1B1&#45;&gt;bi_LSTM_layer_0B2 -->\n",
       "<g id=\"edge6\" class=\"edge\">\n",
       "<title>bi_LSTM_layer_1B1&#45;&gt;bi_LSTM_layer_0B2</title>\n",
       "<path fill=\"none\" stroke=\"#5677f3\" d=\"M344.5051,-210.4855C300.6829,-198.2642 229.9038,-178.525 182.4359,-165.2869\"/>\n",
       "<polygon fill=\"#5677f3\" stroke=\"#5677f3\" points=\"183.2513,-161.8808 172.6786,-162.5658 181.3708,-168.6235 183.2513,-161.8808\"/>\n",
       "<text text-anchor=\"middle\" x=\"285\" y=\"-184\" font-family=\"Helvetica,sans-Serif\" font-size=\"10.00\" fill=\"#000000\"> 100 </text>\n",
       "</g>\n",
       "<!-- bi_LSTM_layer_1B1&#45;&gt;bi_LSTM_layer_1B2 -->\n",
       "<g id=\"edge9\" class=\"edge\">\n",
       "<title>bi_LSTM_layer_1B1&#45;&gt;bi_LSTM_layer_1B2</title>\n",
       "<path fill=\"none\" stroke=\"#5677f3\" d=\"M384,-210.2533C384,-200.3113 384,-185.5277 384,-173.2776\"/>\n",
       "<polygon fill=\"#5677f3\" stroke=\"#5677f3\" points=\"387.5001,-172.9513 384,-162.9513 380.5001,-172.9514 387.5001,-172.9513\"/>\n",
       "<text text-anchor=\"middle\" x=\"395\" y=\"-184\" font-family=\"Helvetica,sans-Serif\" font-size=\"10.00\" fill=\"#000000\"> 100 </text>\n",
       "</g>\n",
       "<!-- bi_LSTM_layer_0B2&#45;&gt;bi_LSTM_layer_0B2 -->\n",
       "<g id=\"edge7\" class=\"edge\">\n",
       "<title>bi_LSTM_layer_0B2&#45;&gt;bi_LSTM_layer_0B2</title>\n",
       "<path fill=\"none\" stroke=\"#5677f3\" d=\"M240.5584,-156.7404C251.5091,-155.7038 258.5,-153.957 258.5,-151.5 258.5,-149.926 255.6309,-148.6434 250.6897,-147.6523\"/>\n",
       "<polygon fill=\"#5677f3\" stroke=\"#5677f3\" points=\"250.9419,-144.1542 240.5584,-146.2596 249.9885,-151.089 250.9419,-144.1542\"/>\n",
       "</g>\n",
       "<!-- bi_LSTM_lastlayer_0B1 -->\n",
       "<g id=\"node6\" class=\"node\">\n",
       "<title>bi_LSTM_lastlayer_0B1</title>\n",
       "<polygon fill=\"#abdda4\" fill-opacity=\"0.250980\" stroke=\"#abdda4\" points=\"0,-70.5 0,-92.5 236,-92.5 236,-70.5 0,-70.5\"/>\n",
       "<text text-anchor=\"middle\" x=\"118\" y=\"-77.8\" font-family=\"Helvetica,sans-Serif\" font-size=\"14.00\" fill=\"#000000\">bi_LSTM_lastlayer_0B1(recurrent)</text>\n",
       "</g>\n",
       "<!-- bi_LSTM_layer_0B2&#45;&gt;bi_LSTM_lastlayer_0B1 -->\n",
       "<g id=\"edge11\" class=\"edge\">\n",
       "<title>bi_LSTM_layer_0B2&#45;&gt;bi_LSTM_lastlayer_0B1</title>\n",
       "<path fill=\"none\" stroke=\"#5677f3\" d=\"M130.59,-140.2533C128.4378,-130.2098 125.2269,-115.2255 122.5864,-102.9034\"/>\n",
       "<polygon fill=\"#5677f3\" stroke=\"#5677f3\" points=\"125.9715,-101.996 120.4539,-92.9513 119.1269,-103.4628 125.9715,-101.996\"/>\n",
       "<text text-anchor=\"middle\" x=\"138\" y=\"-114\" font-family=\"Helvetica,sans-Serif\" font-size=\"10.00\" fill=\"#000000\"> 100 </text>\n",
       "</g>\n",
       "<!-- bi_LSTM_lastlayer_1B1 -->\n",
       "<g id=\"node7\" class=\"node\">\n",
       "<title>bi_LSTM_lastlayer_1B1</title>\n",
       "<polygon fill=\"#abdda4\" fill-opacity=\"0.250980\" stroke=\"#abdda4\" points=\"272,-70.5 272,-92.5 508,-92.5 508,-70.5 272,-70.5\"/>\n",
       "<text text-anchor=\"middle\" x=\"390\" y=\"-77.8\" font-family=\"Helvetica,sans-Serif\" font-size=\"14.00\" fill=\"#000000\">bi_LSTM_lastlayer_1B1(recurrent)</text>\n",
       "</g>\n",
       "<!-- bi_LSTM_layer_0B2&#45;&gt;bi_LSTM_lastlayer_1B1 -->\n",
       "<g id=\"edge14\" class=\"edge\">\n",
       "<title>bi_LSTM_layer_0B2&#45;&gt;bi_LSTM_lastlayer_1B1</title>\n",
       "<path fill=\"none\" stroke=\"#5677f3\" d=\"M167.5462,-140.4555C194.5136,-131.9806 232.9854,-120.2109 267,-111 287.8569,-105.3521 310.8522,-99.6877 331.2608,-94.8538\"/>\n",
       "<polygon fill=\"#5677f3\" stroke=\"#5677f3\" points=\"332.1179,-98.2478 341.051,-92.5512 330.5153,-91.4337 332.1179,-98.2478\"/>\n",
       "<text text-anchor=\"middle\" x=\"278\" y=\"-114\" font-family=\"Helvetica,sans-Serif\" font-size=\"10.00\" fill=\"#000000\"> 100 </text>\n",
       "</g>\n",
       "<!-- bi_LSTM_layer_1B2&#45;&gt;bi_LSTM_layer_1B2 -->\n",
       "<g id=\"edge10\" class=\"edge\">\n",
       "<title>bi_LSTM_layer_1B2&#45;&gt;bi_LSTM_layer_1B2</title>\n",
       "<path fill=\"none\" stroke=\"#5677f3\" d=\"M491.5584,-156.7404C502.5091,-155.7038 509.5,-153.957 509.5,-151.5 509.5,-149.926 506.6309,-148.6434 501.6897,-147.6523\"/>\n",
       "<polygon fill=\"#5677f3\" stroke=\"#5677f3\" points=\"501.9419,-144.1542 491.5584,-146.2596 500.9885,-151.089 501.9419,-144.1542\"/>\n",
       "</g>\n",
       "<!-- bi_LSTM_layer_1B2&#45;&gt;bi_LSTM_lastlayer_0B1 -->\n",
       "<g id=\"edge12\" class=\"edge\">\n",
       "<title>bi_LSTM_layer_1B2&#45;&gt;bi_LSTM_lastlayer_0B1</title>\n",
       "<path fill=\"none\" stroke=\"#5677f3\" d=\"M361.8928,-140.3338C342.9768,-131.2072 314.7946,-118.6107 289,-111 265.3821,-104.0315 239.4133,-98.5056 215.0026,-94.2114\"/>\n",
       "<polygon fill=\"#5677f3\" stroke=\"#5677f3\" points=\"215.4582,-90.7386 205.0118,-92.5061 214.2803,-97.6388 215.4582,-90.7386\"/>\n",
       "<text text-anchor=\"middle\" x=\"329\" y=\"-114\" font-family=\"Helvetica,sans-Serif\" font-size=\"10.00\" fill=\"#000000\"> 100 </text>\n",
       "</g>\n",
       "<!-- bi_LSTM_layer_1B2&#45;&gt;bi_LSTM_lastlayer_1B1 -->\n",
       "<g id=\"edge15\" class=\"edge\">\n",
       "<title>bi_LSTM_layer_1B2&#45;&gt;bi_LSTM_lastlayer_1B1</title>\n",
       "<path fill=\"none\" stroke=\"#5677f3\" d=\"M384.964,-140.2533C385.8162,-130.3113 387.0833,-115.5277 388.1333,-103.2776\"/>\n",
       "<polygon fill=\"#5677f3\" stroke=\"#5677f3\" points=\"391.6516,-103.2137 389.0185,-92.9513 384.6771,-102.6159 391.6516,-103.2137\"/>\n",
       "<text text-anchor=\"middle\" x=\"398\" y=\"-114\" font-family=\"Helvetica,sans-Serif\" font-size=\"10.00\" fill=\"#000000\"> 100 </text>\n",
       "</g>\n",
       "<!-- bi_LSTM_lastlayer_0B1&#45;&gt;bi_LSTM_lastlayer_0B1 -->\n",
       "<g id=\"edge13\" class=\"edge\">\n",
       "<title>bi_LSTM_lastlayer_0B1&#45;&gt;bi_LSTM_lastlayer_0B1</title>\n",
       "<path fill=\"none\" stroke=\"#5677f3\" d=\"M236.4435,-86.5661C247.221,-85.5129 254,-83.8242 254,-81.5 254,-80.011 251.2179,-78.7829 246.3847,-77.8156\"/>\n",
       "<polygon fill=\"#5677f3\" stroke=\"#5677f3\" points=\"246.8302,-74.344 236.4435,-76.4339 245.8665,-81.2773 246.8302,-74.344\"/>\n",
       "</g>\n",
       "<!-- Output1 -->\n",
       "<g id=\"node8\" class=\"node\">\n",
       "<title>Output1</title>\n",
       "<polygon fill=\"#5e4fa2\" fill-opacity=\"0.125490\" stroke=\"#5e4fa2\" points=\"191,-.5 191,-22.5 315,-22.5 315,-.5 191,-.5\"/>\n",
       "<text text-anchor=\"middle\" x=\"253\" y=\"-7.8\" font-family=\"Helvetica,sans-Serif\" font-size=\"14.00\" fill=\"#000000\">Output1(output)</text>\n",
       "</g>\n",
       "<!-- bi_LSTM_lastlayer_0B1&#45;&gt;Output1 -->\n",
       "<g id=\"edge17\" class=\"edge\">\n",
       "<title>bi_LSTM_lastlayer_0B1&#45;&gt;Output1</title>\n",
       "<path fill=\"none\" stroke=\"#5677f3\" d=\"M139.3912,-70.4083C161.806,-58.7858 197.2149,-40.4256 222.5433,-27.2924\"/>\n",
       "<polygon fill=\"#5677f3\" stroke=\"#5677f3\" points=\"224.4425,-30.2502 231.7089,-22.5398 221.2202,-24.0359 224.4425,-30.2502\"/>\n",
       "<text text-anchor=\"middle\" x=\"205\" y=\"-44\" font-family=\"Helvetica,sans-Serif\" font-size=\"10.00\" fill=\"#000000\"> 100 </text>\n",
       "</g>\n",
       "<!-- bi_LSTM_lastlayer_1B1&#45;&gt;bi_LSTM_lastlayer_1B1 -->\n",
       "<g id=\"edge16\" class=\"edge\">\n",
       "<title>bi_LSTM_lastlayer_1B1&#45;&gt;bi_LSTM_lastlayer_1B1</title>\n",
       "<path fill=\"none\" stroke=\"#5677f3\" d=\"M508.4435,-86.5661C519.221,-85.5129 526,-83.8242 526,-81.5 526,-80.011 523.2179,-78.7829 518.3847,-77.8156\"/>\n",
       "<polygon fill=\"#5677f3\" stroke=\"#5677f3\" points=\"518.8302,-74.344 508.4435,-76.4339 517.8665,-81.2773 518.8302,-74.344\"/>\n",
       "</g>\n",
       "<!-- bi_LSTM_lastlayer_1B1&#45;&gt;Output1 -->\n",
       "<g id=\"edge18\" class=\"edge\">\n",
       "<title>bi_LSTM_lastlayer_1B1&#45;&gt;Output1</title>\n",
       "<path fill=\"none\" stroke=\"#5677f3\" d=\"M368.2919,-70.4083C345.4448,-58.7346 309.2947,-40.2637 283.5688,-27.1191\"/>\n",
       "<polygon fill=\"#5677f3\" stroke=\"#5677f3\" points=\"285.1039,-23.9731 274.6065,-22.5398 281.9189,-30.2066 285.1039,-23.9731\"/>\n",
       "<text text-anchor=\"middle\" x=\"340\" y=\"-44\" font-family=\"Helvetica,sans-Serif\" font-size=\"10.00\" fill=\"#000000\"> 100 </text>\n",
       "</g>\n",
       "</g>\n",
       "</svg>\n"
      ],
      "text/plain": [
       "<graphviz.dot.Digraph at 0x7fc8d75c3f28>"
      ]
     },
     "execution_count": 54,
     "metadata": {},
     "output_type": "execute_result"
    }
   ],
   "source": [
    "model.plot_network()"
   ]
  },
  {
   "cell_type": "code",
   "execution_count": null,
   "metadata": {
    "scrolled": false
   },
   "outputs": [
    {
     "name": "stdout",
     "output_type": "stream",
     "text": [
      "NOTE: Training based on existing weights.\n",
      "NOTE:  Synchronous mode is enabled.\n",
      "NOTE:  The total number of parameters is 605607.\n",
      "NOTE:  The approximate memory cost is 58.00 MB.\n",
      "NOTE:  Loading weights cost       0.01 (s).\n",
      "NOTE:  Initializing each layer cost       7.08 (s).\n",
      "NOTE:  The total number of threads on each worker is 10.\n",
      "NOTE:  The total mini-batch size per thread on each worker is 4.\n",
      "NOTE:  The maximum mini-batch size across all workers for the synchronous mode is 40.\n",
      "NOTE:  Target variable: CAT\n",
      "NOTE:  Number of levels for the target variable:      7\n",
      "NOTE:  Levels for the target variable:\n",
      "NOTE:  Level      0: FERRAMENTAS   \n",
      "NOTE:  Level      1: OBRAS DIVERSAS\n",
      "NOTE:  Level      2: ÓLEOS        \n",
      "NOTE:  Level      3: OUTROS        \n",
      "NOTE:  Level      4: PAPÉIS       \n",
      "NOTE:  Level      5: PLÁSTICOS    \n",
      "NOTE:  Level      6: SABÕES       \n",
      "NOTE:  Number of input variables:     1\n",
      "NOTE:  Number of text input variables:      1\n",
      "NOTE:  Epoch Learning Rate        Loss  Fit Error  Validation Loss Validation Error   Time(s)\n",
      "NOTE:  0          0.01           1.635     0.6333            2.929           0.7369    19.94\n",
      "NOTE:  1          0.01           1.651      0.622            2.854           0.7369    22.37\n",
      "NOTE:  2          0.01           1.643     0.6163            2.821           0.7369    19.68\n",
      "NOTE:  3          0.01           1.637     0.6065            2.832           0.7369    19.21\n",
      "NOTE:  4          0.01           1.627     0.6076            2.757           0.7369    19.52\n",
      "NOTE:  5          0.01           1.623     0.6036            2.776           0.7369    23.72\n",
      "NOTE:  6          0.01           1.617     0.6032            2.777           0.7369    19.59\n",
      "NOTE:  7          0.01           1.603      0.595            2.728           0.7369    24.26\n",
      "NOTE:  8          0.01           1.595     0.6036            2.773           0.7369    21.16\n",
      "NOTE:  9          0.01           1.591     0.5946            2.802           0.7369    19.63\n",
      "NOTE:  10         0.01           1.581     0.5906            2.767           0.7369    19.95\n",
      "NOTE:  11         0.01           1.579     0.5908            2.759           0.7369    22.34\n",
      "NOTE:  12         0.01           1.554     0.5846            2.725            0.722    20.73\n",
      "NOTE:  13         0.01           1.531     0.5766            2.733           0.7369    24.38\n",
      "NOTE:  14         0.01           1.515     0.5722            2.751           0.7369    19.69\n",
      "NOTE:  15         0.01           1.538     0.5762            2.605            0.709    19.03\n",
      "NOTE:  16         0.01           1.471      0.558            2.717           0.7369    19.05\n",
      "NOTE:  17         0.01           1.508     0.5678            2.593           0.7047    19.24\n",
      "NOTE:  18         0.01            1.42     0.5376            2.577           0.7048    24.54\n",
      "NOTE:  19         0.01           1.348     0.5007            2.889           0.7369    23.34\n",
      "NOTE:  20         0.01           1.408     0.5208             2.52           0.7369    18.80\n",
      "NOTE:  21         0.01           1.252     0.4544            2.362            0.689    18.77\n",
      "NOTE:  22         0.01           1.162     0.4088            2.408           0.6891    19.82\n",
      "NOTE:  23         0.01           1.068     0.3612            2.504           0.6839    19.91\n",
      "NOTE:  24         0.01          0.9973      0.326            2.354           0.6603    23.05\n",
      "NOTE:  25         0.01          0.8962     0.2896            2.394           0.6816    24.86\n",
      "NOTE:  26         0.01          0.9246     0.2954            2.219            0.652    19.86\n",
      "NOTE:  27         0.01          0.8259     0.2662            3.217           0.7369    18.42\n",
      "NOTE:  28         0.01           1.013     0.3286            2.759           0.7122    18.78\n",
      "NOTE:  29         0.01          0.8477     0.2868            2.725           0.6788    19.02\n",
      "NOTE:  30         0.01          0.8107     0.2671            2.579           0.6884    18.99\n",
      "NOTE:  31         0.01           0.723       0.24            2.269           0.6596    22.60\n",
      "NOTE:  32         0.01           0.719     0.2403            2.121           0.6558    23.46\n",
      "NOTE:  33         0.01          0.6886     0.2321            1.734            0.645    18.45\n",
      "NOTE:  34         0.01          0.6558     0.2188            1.844           0.6433    18.46\n",
      "NOTE:  35         0.01          0.6523     0.2157            1.374           0.6084    18.80\n",
      "NOTE:  36         0.01          0.6295     0.2024            1.744           0.6436    19.93\n",
      "NOTE:  37         0.01          0.6253     0.2004            1.438           0.5904    25.89\n",
      "NOTE:  38         0.01          0.5891     0.1871            1.796           0.6111    23.57\n",
      "NOTE:  39         0.01          0.6001     0.1942            1.307           0.6072    19.14\n",
      "NOTE:  40         0.01           0.576     0.1836            1.457           0.6038    19.71\n",
      "NOTE:  41         0.01          0.5553     0.1789            1.499           0.5806    19.59\n",
      "NOTE:  42         0.01          0.5628     0.1825            1.376           0.5716    19.61\n",
      "NOTE:  43         0.01          0.5363     0.1647            1.117           0.4782    24.46\n",
      "NOTE:  44         0.01          0.5094     0.1599            1.305           0.5308    22.26\n",
      "NOTE:  45         0.01           0.514      0.163            1.543           0.5927    20.13\n",
      "NOTE:  46         0.01          0.5408     0.1694            1.589           0.5873    19.88\n",
      "NOTE:  47         0.01          0.4871     0.1517            1.421           0.5076    19.04\n",
      "NOTE:  48         0.01          0.4667      0.143            1.259           0.4791    20.58\n",
      "NOTE:  49         0.01          0.4489     0.1331            1.602           0.5301    24.31\n",
      "NOTE:  50         0.01          0.5044     0.1539            1.192            0.441    19.22\n",
      "NOTE:  51         0.01          0.4644     0.1362            1.217           0.4611    23.90\n",
      "NOTE:  52         0.01          0.4371     0.1335            1.226           0.3923    19.16\n",
      "NOTE:  53         0.01           0.436     0.1318           0.9898           0.3426    19.01\n",
      "NOTE:  54         0.01          0.4119     0.1216            1.555           0.5623    20.23\n",
      "NOTE:  55         0.01          0.4553     0.1408             1.77           0.5511    25.32\n",
      "NOTE:  56         0.01          0.4695     0.1428            1.005           0.3402    20.02\n",
      "NOTE:  57         0.01          0.4096     0.1231            1.068           0.3616    24.78\n",
      "NOTE:  58         0.01          0.4138     0.1256            1.105           0.3682    20.22\n",
      "NOTE:  59         0.01          0.4668     0.1391            1.356           0.4707    20.53\n",
      "NOTE:  60         0.01          0.4352     0.1329            1.747           0.6175    20.05\n",
      "NOTE:  61         0.01          0.4882     0.1546            1.018           0.3601    19.96\n",
      "NOTE:  62         0.01          0.4129     0.1207            1.188           0.4009    21.30\n",
      "NOTE:  63         0.01          0.4135     0.1222            1.125           0.4088    23.56\n",
      "NOTE:  64         0.01          0.3845     0.1151            1.031            0.337    18.66\n",
      "NOTE:  65         0.01          0.4073     0.1187            1.895            0.606    19.72\n",
      "NOTE:  66         0.01          0.5435     0.1716            1.237           0.4112    20.49\n",
      "NOTE:  67         0.01          0.4441     0.1346             1.16           0.3817    18.89\n",
      "NOTE:  68         0.01           0.414     0.1207            1.478           0.4822    23.82\n",
      "NOTE:  69         0.01          0.4019     0.1225             1.16           0.3639    23.96\n",
      "NOTE:  70         0.01          0.3933     0.1194            1.299           0.3969    21.10\n",
      "NOTE:  71         0.01           0.397     0.1218            1.083           0.3433    19.04\n",
      "NOTE:  72         0.01          0.3794     0.1147             1.13           0.3665    18.73\n",
      "NOTE:  73         0.01          0.3881     0.1147            1.012           0.3194    18.92\n",
      "NOTE:  74         0.01          0.3732     0.1105            1.699           0.5456    24.21\n",
      "NOTE:  75         0.01          0.4458     0.1404            1.101           0.3785    19.96\n",
      "NOTE:  76         0.01          0.3746     0.1116           0.9253           0.2954    20.81\n",
      "NOTE:  77         0.01          0.3582     0.1054           0.9144           0.2982    19.54\n",
      "NOTE:  78         0.01          0.3604     0.1094            1.091           0.3275    19.43\n"
     ]
    }
   ],
   "source": [
    "model.fit(data=data[data['_PartInd_']==0], \n",
    "          valid_table=data[data['_PartInd_']==1],\n",
    "          inputs='des',\n",
    "          texts='des',\n",
    "          target='cat',\n",
    "          nominals='cat',\n",
    "          text_parms=TextParms(init_input_embeddings='wordEmbedding', language='portuguese'),\n",
    "          mini_batch_size=4, \n",
    "          max_epochs=100,\n",
    "          lr=0.01,\n",
    "          log_level=2)"
   ]
  },
  {
   "cell_type": "code",
   "execution_count": null,
   "metadata": {},
   "outputs": [],
   "source": [
    "model.plot_training_history(tick_frequency=5)"
   ]
  },
  {
   "cell_type": "code",
   "execution_count": null,
   "metadata": {},
   "outputs": [],
   "source": [
    "res = \\\n",
    "model.predict(data[data['_PartInd_']==2],\n",
    "              text_parms=TextParms(init_input_embeddings='wordEmbedding', model_output_embeddings='bdsltm002'),\n",
    "              use_best_weights=True,\n",
    "              top_probs=2)\n",
    "preds = res['OutputCasTables']['casTable'][0]\n",
    "print(res['ScoreInfo'])"
   ]
  },
  {
   "cell_type": "code",
   "execution_count": null,
   "metadata": {},
   "outputs": [],
   "source": [
    "t = preds.tableinfo()['TableInfo']['Name'][0]\n",
    "tmp = sas.CASTable('filtered')\n",
    "for cat in ['FERRAMENTAS','OBRAS DIVERSAS','OUTROS','PAPÉIS','PLÁSTICOS','SABÕES','ÓLEOS']:\n",
    "    sas.fedsql.execdirect('create table filtered {options replace=True} as select * from '+t+' where cat = \\''+cat+'\\'')\n",
    "    acc = accuracy_score(tmp['CAT'], tmp['_DL_PredName_'], id_vars='ID')\n",
    "    print('%s: %.4f' % (cat, acc))"
   ]
  },
  {
   "cell_type": "code",
   "execution_count": null,
   "metadata": {},
   "outputs": [],
   "source": [
    "cmx = preds.crosstab(row='_DL_PredName_', col='CAT')\n",
    "print(cmx.Crosstab)"
   ]
  },
  {
   "cell_type": "markdown",
   "metadata": {},
   "source": [
    "# Save Models"
   ]
  },
  {
   "cell_type": "code",
   "execution_count": 49,
   "metadata": {},
   "outputs": [
    {
     "name": "stdout",
     "output_type": "stream",
     "text": [
      "NOTE: Model table saved successfully.\n"
     ]
    }
   ],
   "source": [
    "model.save_to_table('/home/sasdemo/demos/nlpCompras/models/bdlstm002')"
   ]
  },
  {
   "cell_type": "markdown",
   "metadata": {},
   "source": [
    "# Save Predictions"
   ]
  },
  {
   "cell_type": "code",
   "execution_count": 50,
   "metadata": {},
   "outputs": [
    {
     "name": "stdout",
     "output_type": "stream",
     "text": [
      "NOTE: Caslib compras already exists.\n"
     ]
    },
    {
     "name": "stderr",
     "output_type": "stream",
     "text": [
      "ERROR: The action stopped due to errors.\n"
     ]
    },
    {
     "data": {
      "text/html": [
       "<div class=\"cas-output-area\"></div>\n",
       "<p class=\"cas-results-performance\"><small><span class=\"cas-elapsed\">elapsed 0.00171s</span> &#183; <span class=\"cas-memory\">mem 0.346MB</span></small></p>"
      ],
      "text/plain": [
       "+ Elapsed: 0.00171s, mem: 0.346mb"
      ]
     },
     "execution_count": 50,
     "metadata": {},
     "output_type": "execute_result"
    }
   ],
   "source": [
    "sas.addcaslib(name='compras',\n",
    "              path='/home/sasdemo/demos/nlpCompras/data',\n",
    "              datasource='path',\n",
    "              session=False)"
   ]
  },
  {
   "cell_type": "code",
   "execution_count": 52,
   "metadata": {},
   "outputs": [
    {
     "name": "stdout",
     "output_type": "stream",
     "text": [
      "NOTE: Cloud Analytic Services saved the file ComprasScored.sashdat in caslib compras.\n"
     ]
    },
    {
     "data": {
      "text/html": [
       "<div class=\"cas-results-key\"><b>&#167; caslib</b></div>\n",
       "<div class=\"cas-results-body\">\n",
       "<div>compras</div>\n",
       "</div>\n",
       "<div class=\"cas-results-key\"><hr/><b>&#167; name</b></div>\n",
       "<div class=\"cas-results-body\">\n",
       "<div>ComprasScored.sashdat</div>\n",
       "</div>\n",
       "<div class=\"cas-output-area\"></div>\n",
       "<p class=\"cas-results-performance\"><small><span class=\"cas-elapsed\">elapsed 0.0124s</span> &#183; <span class=\"cas-sys\">sys 0.008s</span> &#183; <span class=\"cas-memory\">mem 16.5MB</span></small></p>"
      ],
      "text/plain": [
       "[caslib]\n",
       "\n",
       " 'compras'\n",
       "\n",
       "[name]\n",
       "\n",
       " 'ComprasScored.sashdat'\n",
       "\n",
       "+ Elapsed: 0.0124s, sys: 0.008s, mem: 16.5mb"
      ]
     },
     "execution_count": 52,
     "metadata": {},
     "output_type": "execute_result"
    }
   ],
   "source": [
    "preds.save(caslib='compras', name='ComprasScored', replace=True)\n",
    "# preds.to_csv('/home/sasdemo/demos/nlpCompras/data/ComprasScored.csv')"
   ]
  },
  {
   "cell_type": "markdown",
   "metadata": {},
   "source": [
    "# Terminate Session"
   ]
  },
  {
   "cell_type": "code",
   "execution_count": null,
   "metadata": {},
   "outputs": [],
   "source": [
    "sas.terminate()"
   ]
  },
  {
   "cell_type": "code",
   "execution_count": null,
   "metadata": {},
   "outputs": [],
   "source": []
  },
  {
   "cell_type": "code",
   "execution_count": null,
   "metadata": {},
   "outputs": [],
   "source": []
  },
  {
   "cell_type": "code",
   "execution_count": null,
   "metadata": {},
   "outputs": [],
   "source": [
    "model = TextClassification(sas,\n",
    "                           model_table='bdlstm002',\n",
    "                           neurons=100,\n",
    "                           n_blocks=1,\n",
    "                           rnn_type='LSTM')"
   ]
  },
  {
   "cell_type": "code",
   "execution_count": null,
   "metadata": {},
   "outputs": [],
   "source": [
    "model.load('/home/sasdemo/demos/nlpCompras/models/bdlstm002/bdlstm002.sashdat')"
   ]
  }
 ],
 "metadata": {
  "kernelspec": {
   "display_name": "Python 3",
   "language": "python",
   "name": "python3"
  },
  "language_info": {
   "codemirror_mode": {
    "name": "ipython",
    "version": 3
   },
   "file_extension": ".py",
   "mimetype": "text/x-python",
   "name": "python",
   "nbconvert_exporter": "python",
   "pygments_lexer": "ipython3",
   "version": "3.7.3"
  }
 },
 "nbformat": 4,
 "nbformat_minor": 2
}
