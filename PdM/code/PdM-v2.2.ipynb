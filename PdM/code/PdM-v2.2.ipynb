{
 "cells": [
  {
   "cell_type": "markdown",
   "metadata": {},
   "source": [
    "# Manutenção Preditiva (PdM)\n",
    "\n",
    "O dataset de manutenção preditiva contém dados de 21 sensores e 3 configurações operacionais de turbinas aeronáuticas. A variável target fornecida indica a `RUL` (remaining useful life) do equipamento.\n",
    "\n",
    "O objetivo deste experimento será determinar se estes equipamentos apresentarão alguma falha dentro da uma janela de tempo suficiente para que a sua manutenção seja realizada."
   ]
  },
  {
   "cell_type": "markdown",
   "metadata": {},
   "source": [
    "# Importa Bibliotecas"
   ]
  },
  {
   "cell_type": "markdown",
   "metadata": {},
   "source": [
    "#### DLPy:\n",
    "- https://sassoftware.github.io/python-dlpy/index.html\n",
    "- https://github.com/sassoftware/python-dlpy\n",
    "\n",
    "#### Swat: \n",
    "- https://sassoftware.github.io/python-swat/index.html\n",
    "- https://github.com/sassoftware/python-swat\n",
    "\n",
    "#### Exemplos:\n",
    "- https://github.com/sassoftware/sas-viya-programming\n",
    "- https://github.com/sassoftware/sas-viya-machine-learning"
   ]
  },
  {
   "cell_type": "code",
   "execution_count": 1,
   "metadata": {},
   "outputs": [],
   "source": [
    "from getpass import getpass\n",
    "import numpy as np\n",
    "import pandas as pd\n",
    "import matplotlib.pyplot as plt\n",
    "from swat import *\n",
    "import dlpy\n",
    "from dlpy.timeseries import plot_timeseries\n",
    "from dlpy.splitting import two_way_split\n",
    "from dlpy import Sequential\n",
    "from dlpy.layers import * \n",
    "from dlpy.model import Optimizer, AdamSolver, Sequence\n",
    "from dlpy.metrics import accuracy_score, roc_auc_score, confusion_matrix\n",
    "%matplotlib inline"
   ]
  },
  {
   "cell_type": "markdown",
   "metadata": {},
   "source": [
    "# Parameters"
   ]
  },
  {
   "cell_type": "code",
   "execution_count": 2,
   "metadata": {},
   "outputs": [],
   "source": [
    "period = 30\n",
    "seq_len = 50"
   ]
  },
  {
   "cell_type": "markdown",
   "metadata": {},
   "source": [
    "# Connect to SAS Viya"
   ]
  },
  {
   "cell_type": "code",
   "execution_count": 3,
   "metadata": {},
   "outputs": [
    {
     "name": "stdout",
     "output_type": "stream",
     "text": [
      "Please enter your passwod:········\n"
     ]
    }
   ],
   "source": [
    "sas = CAS('localhost', 5570, 'sasdemo', getpass('Please enter your passwod:'))"
   ]
  },
  {
   "cell_type": "markdown",
   "metadata": {},
   "source": [
    "# Load Action Sets"
   ]
  },
  {
   "cell_type": "code",
   "execution_count": 4,
   "metadata": {
    "scrolled": false
   },
   "outputs": [
    {
     "name": "stdout",
     "output_type": "stream",
     "text": [
      "NOTE: Added action set 'fedSql'.\n",
      "Done!\n"
     ]
    }
   ],
   "source": [
    "sas.loadactionset('fedSql')\n",
    "print('Done!')"
   ]
  },
  {
   "cell_type": "markdown",
   "metadata": {},
   "source": [
    "# Prepare Train Data"
   ]
  },
  {
   "cell_type": "code",
   "execution_count": 5,
   "metadata": {},
   "outputs": [
    {
     "name": "stdout",
     "output_type": "stream",
     "text": [
      "NOTE: Cloud Analytic Services made the uploaded file available as table TRAIN in caslib CASUSER(sasdemo).\n",
      "NOTE: The table TRAIN has been created in caslib CASUSER(sasdemo) from binary data uploaded to Cloud Analytic Services.\n",
      "Index(['id', 'cycle', 'setting1', 'setting2', 'setting3', 's1', 's2', 's3',\n",
      "       's4', 's5', 's6', 's7', 's8', 's9', 's10', 's11', 's12', 's13', 's14',\n",
      "       's15', 's16', 's17', 's18', 's19', 's20', 's21', 'Unnamed: 26',\n",
      "       'Unnamed: 27'],\n",
      "      dtype='object')\n",
      "(20631, 28)\n"
     ]
    }
   ],
   "source": [
    "train = sas.read_csv('/sasdata/pdm/PM_train.txt', sep=' ', casout=CASTable(name='train', replace=True))\n",
    "print(train.columns)\n",
    "print(train.shape)"
   ]
  },
  {
   "cell_type": "code",
   "execution_count": 6,
   "metadata": {},
   "outputs": [
    {
     "name": "stdout",
     "output_type": "stream",
     "text": [
      "Index(['id', 'cycle', 'setting1', 'setting2', 'setting3', 's1', 's2', 's3',\n",
      "       's4', 's5', 's6', 's7', 's8', 's9', 's10', 's11', 's12', 's13', 's14',\n",
      "       's15', 's16', 's17', 's18', 's19', 's20', 's21'],\n",
      "      dtype='object')\n",
      "(20631, 26)\n"
     ]
    }
   ],
   "source": [
    "train.altertable(columns=[{'name':'Unnamed: 26', 'drop':True},\n",
    "                          {'name':'Unnamed: 27', 'drop':True}])\n",
    "print(train.columns)\n",
    "print(train.shape)"
   ]
  },
  {
   "cell_type": "code",
   "execution_count": 7,
   "metadata": {},
   "outputs": [
    {
     "name": "stdout",
     "output_type": "stream",
     "text": [
      "NOTE: Table TRAIN was created in caslib CASUSER(sasdemo) with 20631 rows returned.\n",
      "Index(['id', 'cycle', 'setting1', 'setting2', 'setting3', 's1', 's2', 's3',\n",
      "       's4', 's5', 's6', 's7', 's8', 's9', 's10', 's11', 's12', 's13', 's14',\n",
      "       's15', 's16', 's17', 's18', 's19', 's20', 's21', 'age', 'ttf',\n",
      "       'nearfailure'],\n",
      "      dtype='object')\n",
      "(20631, 29)\n"
     ]
    }
   ],
   "source": [
    "sas.fedsql.execdirect(\n",
    "    '''\n",
    "    create table train {options replace=true} as select \n",
    "      a.*, \n",
    "      a.\"cycle\" as \"age\", \n",
    "      b.\"max_cycle\" - a.\"cycle\" as \"ttf\", \n",
    "      case when b.\"max_cycle\" - a.\"cycle\" <= %d then 1 else 0 end as \"nearfailure\" \n",
    "    from train as a \n",
    "    left join (\n",
    "      select \n",
    "        \"id\", \n",
    "        max(\"cycle\") as \"max_cycle\" \n",
    "      from train \n",
    "      group by \"id\") as b \n",
    "    on a.\"id\" = b.\"id\"\n",
    "    ''' % period)\n",
    "print(train.columns)\n",
    "print(train.shape)"
   ]
  },
  {
   "cell_type": "markdown",
   "metadata": {},
   "source": [
    "# Prepare Test Data"
   ]
  },
  {
   "cell_type": "code",
   "execution_count": 8,
   "metadata": {},
   "outputs": [
    {
     "name": "stdout",
     "output_type": "stream",
     "text": [
      "NOTE: Cloud Analytic Services made the uploaded file available as table TEST in caslib CASUSER(sasdemo).\n",
      "NOTE: The table TEST has been created in caslib CASUSER(sasdemo) from binary data uploaded to Cloud Analytic Services.\n",
      "Index(['id', 'cycle', 'setting1', 'setting2', 'setting3', 's1', 's2', 's3',\n",
      "       's4', 's5', 's6', 's7', 's8', 's9', 's10', 's11', 's12', 's13', 's14',\n",
      "       's15', 's16', 's17', 's18', 's19', 's20', 's21', 'Unnamed: 26',\n",
      "       'Unnamed: 27'],\n",
      "      dtype='object')\n",
      "(13096, 28)\n"
     ]
    }
   ],
   "source": [
    "test = sas.read_csv('/sasdata/pdm/PM_test.txt', sep=' ', casout=CASTable(name='test', replace=True))\n",
    "print(test.columns)\n",
    "print(test.shape)"
   ]
  },
  {
   "cell_type": "code",
   "execution_count": 9,
   "metadata": {},
   "outputs": [
    {
     "name": "stdout",
     "output_type": "stream",
     "text": [
      "Index(['id', 'cycle', 'setting1', 'setting2', 'setting3', 's1', 's2', 's3',\n",
      "       's4', 's5', 's6', 's7', 's8', 's9', 's10', 's11', 's12', 's13', 's14',\n",
      "       's15', 's16', 's17', 's18', 's19', 's20', 's21'],\n",
      "      dtype='object')\n",
      "(13096, 26)\n"
     ]
    }
   ],
   "source": [
    "test.altertable(columns=[{'name':'Unnamed: 26', 'drop':True},\n",
    "                         {'name':'Unnamed: 27', 'drop':True}])\n",
    "print(test.columns)\n",
    "print(test.shape)"
   ]
  },
  {
   "cell_type": "code",
   "execution_count": 10,
   "metadata": {},
   "outputs": [
    {
     "name": "stdout",
     "output_type": "stream",
     "text": [
      "NOTE: Cloud Analytic Services made the uploaded file available as table TRUTH in caslib CASUSER(sasdemo).\n",
      "NOTE: The table TRUTH has been created in caslib CASUSER(sasdemo) from binary data uploaded to Cloud Analytic Services.\n",
      "Index(['id', 'more'], dtype='object')\n",
      "(100, 2)\n"
     ]
    }
   ],
   "source": [
    "truth = sas.read_csv('/sasdata/pdm/PM_truth.txt', sep=' ', casout=CASTable(name='truth', replace=True))\n",
    "print(truth.columns)\n",
    "print(truth.shape)"
   ]
  },
  {
   "cell_type": "code",
   "execution_count": 11,
   "metadata": {},
   "outputs": [
    {
     "name": "stdout",
     "output_type": "stream",
     "text": [
      "NOTE: Table TEST was created in caslib CASUSER(sasdemo) with 13096 rows returned.\n",
      "Index(['id', 'cycle', 'setting1', 'setting2', 'setting3', 's1', 's2', 's3',\n",
      "       's4', 's5', 's6', 's7', 's8', 's9', 's10', 's11', 's12', 's13', 's14',\n",
      "       's15', 's16', 's17', 's18', 's19', 's20', 's21', 'age', 'ttf',\n",
      "       'nearfailure', 'truth'],\n",
      "      dtype='object')\n",
      "(13096, 30)\n"
     ]
    }
   ],
   "source": [
    "sas.fedsql.execdirect(\n",
    "    '''\n",
    "    create table test {options replace=true} as select\n",
    "        a.*,\n",
    "        a.cycle as \"age\",\n",
    "        b.max_cycle + c.more - a.cycle as \"ttf\",\n",
    "        0 as \"nearfailure\",\n",
    "        case when b.max_cycle + c.more - a.cycle <= %d then 1 else 0 end as \"truth\"\n",
    "    from test as a\n",
    "    left join (\n",
    "        select \n",
    "            \"id\", \n",
    "            max(\"cycle\") as \"max_cycle\" \n",
    "        from test \n",
    "        group by \"id\") as b \n",
    "    on a.\"id\" = b.\"id\"\n",
    "    left join truth as c\n",
    "    on a.\"id\" = c.\"id\"\n",
    "    ''' % period)\n",
    "print(test.columns)\n",
    "print(test.shape)"
   ]
  },
  {
   "cell_type": "markdown",
   "metadata": {},
   "source": [
    "# List all series"
   ]
  },
  {
   "cell_type": "code",
   "execution_count": 12,
   "metadata": {},
   "outputs": [
    {
     "name": "stdout",
     "output_type": "stream",
     "text": [
      "['setting1', 'setting2', 'setting3', 's1', 's2', 's3', 's4', 's5', 's6', 's7', 's8', 's9', 's10', 's11', 's12', 's13', 's14', 's15', 's16', 's17', 's18', 's19', 's20', 's21', 'age', 'nearfailure']\n"
     ]
    }
   ],
   "source": [
    "series = train.columns.drop(['id','cycle','ttf']).values.tolist()\n",
    "print(series)"
   ]
  },
  {
   "cell_type": "markdown",
   "metadata": {},
   "source": [
    "# Preprocess Train and Validation Data"
   ]
  },
  {
   "cell_type": "code",
   "execution_count": 13,
   "metadata": {},
   "outputs": [
    {
     "data": {
      "text/plain": [
       "(20631, 29)"
      ]
     },
     "execution_count": 13,
     "metadata": {},
     "output_type": "execute_result"
    }
   ],
   "source": [
    "ts_train = dlpy.TimeseriesTable.from_table(train)\n",
    "ts_train.shape"
   ]
  },
  {
   "cell_type": "code",
   "execution_count": 14,
   "metadata": {},
   "outputs": [
    {
     "name": "stdout",
     "output_type": "stream",
     "text": [
      "NOTE: Timeseries formatting is completed.\n"
     ]
    }
   ],
   "source": [
    "ts_train.timeseries_formatting(timeid='cycle',\n",
    "                               timeseries=series)"
   ]
  },
  {
   "cell_type": "code",
   "execution_count": 15,
   "metadata": {},
   "outputs": [
    {
     "name": "stdout",
     "output_type": "stream",
     "text": [
      "NOTE: Added action set 'timeData'.\n",
      "NOTE: Timeseries are accumulated to the frequency of obs\n"
     ]
    }
   ],
   "source": [
    "ts_train.timeseries_accumlation(acc_interval='obs',\n",
    "                                groupby='id')"
   ]
  },
  {
   "cell_type": "code",
   "execution_count": 16,
   "metadata": {},
   "outputs": [
    {
     "name": "stdout",
     "output_type": "stream",
     "text": [
      "NOTE: timeseries subsequences are prepared with subsequence length = 50\n"
     ]
    }
   ],
   "source": [
    "ts_train.prepare_subsequences(seq_len=seq_len, \n",
    "                              target='nearfailure', \n",
    "                              predictor_timeseries=series)"
   ]
  },
  {
   "cell_type": "code",
   "execution_count": 17,
   "metadata": {},
   "outputs": [
    {
     "data": {
      "text/plain": [
       "(15631, 1305)"
      ]
     },
     "execution_count": 17,
     "metadata": {},
     "output_type": "execute_result"
    }
   ],
   "source": [
    "ts_train.shape"
   ]
  },
  {
   "cell_type": "code",
   "execution_count": 18,
   "metadata": {},
   "outputs": [
    {
     "name": "stdout",
     "output_type": "stream",
     "text": [
      "(14068, 1305)\n",
      "(1563, 1305)\n"
     ]
    }
   ],
   "source": [
    "smp_train, smp_valid = two_way_split(ts_train, test_rate=10, seed=42, im_table=False, stratify_by='nearfailure')\n",
    "print(smp_train.shape)\n",
    "print(smp_valid.shape)"
   ]
  },
  {
   "cell_type": "markdown",
   "metadata": {},
   "source": [
    "# Preprocess Test Data"
   ]
  },
  {
   "cell_type": "code",
   "execution_count": 19,
   "metadata": {},
   "outputs": [
    {
     "data": {
      "text/plain": [
       "(13096, 30)"
      ]
     },
     "execution_count": 19,
     "metadata": {},
     "output_type": "execute_result"
    }
   ],
   "source": [
    "ts_test = dlpy.TimeseriesTable.from_table(test)\n",
    "ts_test.shape"
   ]
  },
  {
   "cell_type": "code",
   "execution_count": 20,
   "metadata": {},
   "outputs": [
    {
     "name": "stdout",
     "output_type": "stream",
     "text": [
      "NOTE: Timeseries formatting is completed.\n"
     ]
    }
   ],
   "source": [
    "ts_test.timeseries_formatting(timeid='cycle',\n",
    "                              timeseries=series,\n",
    "                              extra_columns=['id','truth'])"
   ]
  },
  {
   "cell_type": "code",
   "execution_count": 21,
   "metadata": {},
   "outputs": [
    {
     "name": "stdout",
     "output_type": "stream",
     "text": [
      "NOTE: Added action set 'timeData'.\n",
      "NOTE: Timeseries are accumulated to the frequency of obs\n"
     ]
    }
   ],
   "source": [
    "ts_test.timeseries_accumlation(acc_interval='obs',\n",
    "                               extra_num_columns='truth',\n",
    "                               groupby='id')"
   ]
  },
  {
   "cell_type": "code",
   "execution_count": 22,
   "metadata": {},
   "outputs": [
    {
     "name": "stdout",
     "output_type": "stream",
     "text": [
      "NOTE: timeseries subsequences are prepared with subsequence length = 50\n"
     ]
    }
   ],
   "source": [
    "ts_test.prepare_subsequences(seq_len=seq_len, \n",
    "                             target='nearfailure', \n",
    "                             predictor_timeseries=series)"
   ]
  },
  {
   "cell_type": "code",
   "execution_count": 23,
   "metadata": {},
   "outputs": [
    {
     "data": {
      "text/plain": [
       "(8162, 1306)"
      ]
     },
     "execution_count": 23,
     "metadata": {},
     "output_type": "execute_result"
    }
   ],
   "source": [
    "ts_test.shape"
   ]
  },
  {
   "cell_type": "markdown",
   "metadata": {},
   "source": [
    "# Model 1"
   ]
  },
  {
   "cell_type": "code",
   "execution_count": null,
   "metadata": {},
   "outputs": [],
   "source": [
    "name = 'lstm_001'"
   ]
  },
  {
   "cell_type": "code",
   "execution_count": null,
   "metadata": {},
   "outputs": [],
   "source": [
    "model = Sequential(sas, model_table=name)\n",
    "\n",
    "model.add(InputLayer(std='STD'))\n",
    "model.add(Recurrent(rnn_type='LSTM', output_type='samelength', n=100, dropout=0.1, act='sigmoid'))\n",
    "model.add(Recurrent(rnn_type='LSTM', output_type='encoding',  n=50, dropout=0.1, act='sigmoid'))\n",
    "model.add(OutputLayer(n=1, full_connect=True, act='sigmoid', error='entropy'))\n",
    "\n",
    "model.plot_network()"
   ]
  },
  {
   "cell_type": "code",
   "execution_count": null,
   "metadata": {},
   "outputs": [],
   "source": [
    "optimizer = Optimizer(algorithm=AdamSolver(), \n",
    "                      max_epochs=100, \n",
    "                      mini_batch_size=200,\n",
    "                      seed=1234)"
   ]
  },
  {
   "cell_type": "code",
   "execution_count": null,
   "metadata": {},
   "outputs": [],
   "source": [
    "seq_spec  = Sequence(**ts_train.sequence_opt)"
   ]
  },
  {
   "cell_type": "code",
   "execution_count": null,
   "metadata": {},
   "outputs": [],
   "source": [
    "result = model.train(smp_train,\n",
    "                     valid_table = smp_valid,\n",
    "                     optimizer=optimizer,\n",
    "                     sequence=seq_spec, \n",
    "                     **ts_train.inputs_target,\n",
    "                     model=name,\n",
    "                     model_weights=sas.CASTable(name+'_weights', replace=True))"
   ]
  },
  {
   "cell_type": "code",
   "execution_count": null,
   "metadata": {},
   "outputs": [],
   "source": [
    "# model.plot_training_history(tick_frequency=1)\n",
    "result.OptIterHistory[['Loss','FitError','ValidError']][0:].plot(figsize=(12,5))\n",
    "ax = plt.gca()\n",
    "ax.get_xaxis().set_tick_params(labelsize=14)\n",
    "ax.get_yaxis().set_tick_params(labelsize=14)\n",
    "ax.legend(['Fit Loss','Fit Error','Valid Error'], loc='upper right', prop={'size': 14})\n",
    "ax.set_xlabel('Iterations',fontsize=16)\n",
    "ax.set_ylabel('Error / Loss',fontsize=16)\n",
    "plt.show()"
   ]
  },
  {
   "cell_type": "code",
   "execution_count": null,
   "metadata": {
    "scrolled": true
   },
   "outputs": [],
   "source": [
    "result"
   ]
  },
  {
   "cell_type": "markdown",
   "metadata": {},
   "source": [
    "# Model 2"
   ]
  },
  {
   "cell_type": "code",
   "execution_count": 67,
   "metadata": {},
   "outputs": [],
   "source": [
    "name = 'lstm_002'"
   ]
  },
  {
   "cell_type": "code",
   "execution_count": 68,
   "metadata": {},
   "outputs": [
    {
     "name": "stdout",
     "output_type": "stream",
     "text": [
      "NOTE: Input layer added.\n",
      "NOTE: Recurrent layer added.\n",
      "NOTE: Recurrent layer added.\n",
      "NOTE: Output layer added.\n",
      "NOTE: Model compiled successfully.\n"
     ]
    },
    {
     "data": {
      "image/svg+xml": [
       "<?xml version=\"1.0\" encoding=\"UTF-8\" standalone=\"no\"?>\n",
       "<!DOCTYPE svg PUBLIC \"-//W3C//DTD SVG 1.1//EN\"\n",
       " \"http://www.w3.org/Graphics/SVG/1.1/DTD/svg11.dtd\">\n",
       "<!-- Generated by graphviz version 2.40.1 (20161225.0304)\n",
       " -->\n",
       "<!-- Title: lstm_002 Pages: 1 -->\n",
       "<svg width=\"157pt\" height=\"241pt\"\n",
       " viewBox=\"0.00 0.00 157.00 241.00\" xmlns=\"http://www.w3.org/2000/svg\" xmlns:xlink=\"http://www.w3.org/1999/xlink\">\n",
       "<g id=\"graph0\" class=\"graph\" transform=\"scale(1 1) rotate(0) translate(4 237)\">\n",
       "<title>lstm_002</title>\n",
       "<polygon fill=\"#ffffff\" stroke=\"transparent\" points=\"-4,4 -4,-237 153,-237 153,4 -4,4\"/>\n",
       "<!-- Input1 -->\n",
       "<g id=\"node1\" class=\"node\">\n",
       "<title>Input1</title>\n",
       "<polygon fill=\"#3288bd\" fill-opacity=\"0.250980\" stroke=\"#3288bd\" points=\"15.5,-210.5 15.5,-232.5 119.5,-232.5 119.5,-210.5 15.5,-210.5\"/>\n",
       "<text text-anchor=\"middle\" x=\"67.5\" y=\"-217.8\" font-family=\"Helvetica,sans-Serif\" font-size=\"14.00\" fill=\"#000000\">Input1(input)</text>\n",
       "</g>\n",
       "<!-- Rec.1 -->\n",
       "<g id=\"node2\" class=\"node\">\n",
       "<title>Rec.1</title>\n",
       "<polygon fill=\"#abdda4\" fill-opacity=\"0.250980\" stroke=\"#abdda4\" points=\"4,-140.5 4,-162.5 131,-162.5 131,-140.5 4,-140.5\"/>\n",
       "<text text-anchor=\"middle\" x=\"67.5\" y=\"-147.8\" font-family=\"Helvetica,sans-Serif\" font-size=\"14.00\" fill=\"#000000\">Rec.1(recurrent)</text>\n",
       "</g>\n",
       "<!-- Input1&#45;&gt;Rec.1 -->\n",
       "<g id=\"edge1\" class=\"edge\">\n",
       "<title>Input1&#45;&gt;Rec.1</title>\n",
       "<path fill=\"none\" stroke=\"#5677f3\" d=\"M67.5,-210.2533C67.5,-200.3113 67.5,-185.5277 67.5,-173.2776\"/>\n",
       "<polygon fill=\"#5677f3\" stroke=\"#5677f3\" points=\"71.0001,-172.9513 67.5,-162.9513 64.0001,-172.9514 71.0001,-172.9513\"/>\n",
       "<text text-anchor=\"middle\" x=\"73.5\" y=\"-184\" font-family=\"Helvetica,sans-Serif\" font-size=\"10.00\" fill=\"#000000\"> 0 </text>\n",
       "</g>\n",
       "<!-- Rec.1&#45;&gt;Rec.1 -->\n",
       "<g id=\"edge2\" class=\"edge\">\n",
       "<title>Rec.1&#45;&gt;Rec.1</title>\n",
       "<path fill=\"none\" stroke=\"#5677f3\" d=\"M131.058,-157.4252C141.6744,-156.5962 149,-154.6211 149,-151.5 149,-149.5005 145.9936,-147.9714 141.0415,-146.9126\"/>\n",
       "<polygon fill=\"#5677f3\" stroke=\"#5677f3\" points=\"141.4343,-143.4341 131.058,-145.5748 140.5046,-150.3721 141.4343,-143.4341\"/>\n",
       "</g>\n",
       "<!-- Rec.2 -->\n",
       "<g id=\"node3\" class=\"node\">\n",
       "<title>Rec.2</title>\n",
       "<polygon fill=\"#abdda4\" fill-opacity=\"0.250980\" stroke=\"#abdda4\" points=\"4,-70.5 4,-92.5 131,-92.5 131,-70.5 4,-70.5\"/>\n",
       "<text text-anchor=\"middle\" x=\"67.5\" y=\"-77.8\" font-family=\"Helvetica,sans-Serif\" font-size=\"14.00\" fill=\"#000000\">Rec.2(recurrent)</text>\n",
       "</g>\n",
       "<!-- Rec.1&#45;&gt;Rec.2 -->\n",
       "<g id=\"edge3\" class=\"edge\">\n",
       "<title>Rec.1&#45;&gt;Rec.2</title>\n",
       "<path fill=\"none\" stroke=\"#5677f3\" d=\"M67.5,-140.2533C67.5,-130.3113 67.5,-115.5277 67.5,-103.2776\"/>\n",
       "<polygon fill=\"#5677f3\" stroke=\"#5677f3\" points=\"71.0001,-102.9513 67.5,-92.9513 64.0001,-102.9514 71.0001,-102.9513\"/>\n",
       "<text text-anchor=\"middle\" x=\"78.5\" y=\"-114\" font-family=\"Helvetica,sans-Serif\" font-size=\"10.00\" fill=\"#000000\"> 100 </text>\n",
       "</g>\n",
       "<!-- Rec.2&#45;&gt;Rec.2 -->\n",
       "<g id=\"edge4\" class=\"edge\">\n",
       "<title>Rec.2&#45;&gt;Rec.2</title>\n",
       "<path fill=\"none\" stroke=\"#5677f3\" d=\"M131.058,-87.4252C141.6744,-86.5962 149,-84.6211 149,-81.5 149,-79.5005 145.9936,-77.9714 141.0415,-76.9126\"/>\n",
       "<polygon fill=\"#5677f3\" stroke=\"#5677f3\" points=\"141.4343,-73.4341 131.058,-75.5748 140.5046,-80.3721 141.4343,-73.4341\"/>\n",
       "</g>\n",
       "<!-- Output1 -->\n",
       "<g id=\"node4\" class=\"node\">\n",
       "<title>Output1</title>\n",
       "<polygon fill=\"#5e4fa2\" fill-opacity=\"0.125490\" stroke=\"#5e4fa2\" points=\"0,-.5 0,-22.5 135,-22.5 135,-.5 0,-.5\"/>\n",
       "<text text-anchor=\"middle\" x=\"67.5\" y=\"-7.8\" font-family=\"Helvetica,sans-Serif\" font-size=\"14.00\" fill=\"#000000\">1 Output1(output)</text>\n",
       "</g>\n",
       "<!-- Rec.2&#45;&gt;Output1 -->\n",
       "<g id=\"edge5\" class=\"edge\">\n",
       "<title>Rec.2&#45;&gt;Output1</title>\n",
       "<path fill=\"none\" stroke=\"#5677f3\" d=\"M67.5,-70.2533C67.5,-60.3113 67.5,-45.5277 67.5,-33.2776\"/>\n",
       "<polygon fill=\"#5677f3\" stroke=\"#5677f3\" points=\"71.0001,-32.9513 67.5,-22.9513 64.0001,-32.9514 71.0001,-32.9513\"/>\n",
       "<text text-anchor=\"middle\" x=\"76\" y=\"-44\" font-family=\"Helvetica,sans-Serif\" font-size=\"10.00\" fill=\"#000000\"> 50 </text>\n",
       "</g>\n",
       "</g>\n",
       "</svg>\n"
      ],
      "text/plain": [
       "<graphviz.dot.Digraph at 0x7fc2677decf8>"
      ]
     },
     "execution_count": 68,
     "metadata": {},
     "output_type": "execute_result"
    }
   ],
   "source": [
    "model = Sequential(sas, model_table=name)\n",
    "\n",
    "model.add(InputLayer(std='STD'))\n",
    "model.add(Recurrent(rnn_type='LSTM', output_type='samelength', n=100, dropout=0.1, act='tanh'))\n",
    "model.add(Recurrent(rnn_type='LSTM', output_type='encoding',  n=50, dropout=0.1, act='tanh'))\n",
    "model.add(OutputLayer(n=1, full_connect=True, act='sigmoid', error='entropy'))\n",
    "\n",
    "model.plot_network()"
   ]
  },
  {
   "cell_type": "code",
   "execution_count": 69,
   "metadata": {},
   "outputs": [],
   "source": [
    "optimizer = Optimizer(algorithm=AdamSolver(), \n",
    "                      max_epochs=100, \n",
    "                      mini_batch_size=200,\n",
    "                      seed=1234)"
   ]
  },
  {
   "cell_type": "code",
   "execution_count": 70,
   "metadata": {},
   "outputs": [],
   "source": [
    "seq_spec  = Sequence(**ts_train.sequence_opt)"
   ]
  },
  {
   "cell_type": "code",
   "execution_count": 71,
   "metadata": {},
   "outputs": [
    {
     "name": "stdout",
     "output_type": "stream",
     "text": [
      "NOTE: Training based on existing weights.\n"
     ]
    }
   ],
   "source": [
    "result = model.fit(smp_train,\n",
    "                   valid_table=smp_valid,\n",
    "                   optimizer=optimizer,\n",
    "                   sequence=seq_spec, \n",
    "                   **ts_train.inputs_target)"
   ]
  },
  {
   "cell_type": "code",
   "execution_count": 72,
   "metadata": {},
   "outputs": [
    {
     "data": {
      "text/plain": [
       "<matplotlib.axes._subplots.AxesSubplot at 0x7fc26a00a438>"
      ]
     },
     "execution_count": 72,
     "metadata": {},
     "output_type": "execute_result"
    },
    {
     "data": {
      "image/png": "[encoded data removed]",
      "text/plain": [
       "<Figure size 864x360 with 1 Axes>"
      ]
     },
     "metadata": {
      "needs_background": "light"
     },
     "output_type": "display_data"
    }
   ],
   "source": [
    "model.plot_training_history(tick_frequency=5)"
   ]
  },
  {
   "cell_type": "code",
   "execution_count": 73,
   "metadata": {
    "scrolled": true
   },
   "outputs": [
    {
     "data": {
      "text/html": [
       "<div class=\"cas-results-key\"><b>&#167; ModelInfo</b></div>\n",
       "<div class=\"cas-results-body\">\n",
       "<div>\n",
       "<style scoped>\n",
       "    .dataframe tbody tr th:only-of-type {\n",
       "        vertical-align: middle;\n",
       "    }\n",
       "\n",
       "    .dataframe tbody tr th {\n",
       "        vertical-align: top;\n",
       "    }\n",
       "\n",
       "    .dataframe thead th {\n",
       "        text-align: right;\n",
       "    }\n",
       "</style>\n",
       "<table border=\"1\" class=\"dataframe\">\n",
       "  <thead>\n",
       "    <tr style=\"text-align: right;\">\n",
       "      <th title=\"\"></th>\n",
       "      <th title=\"Descr\">Descr</th>\n",
       "      <th title=\"Value\">Value</th>\n",
       "    </tr>\n",
       "  </thead>\n",
       "  <tbody>\n",
       "    <tr>\n",
       "      <th>0</th>\n",
       "      <td>Model Name</td>\n",
       "      <td>lstm_002</td>\n",
       "    </tr>\n",
       "    <tr>\n",
       "      <th>1</th>\n",
       "      <td>Model Type</td>\n",
       "      <td>Recurrent Neural Network</td>\n",
       "    </tr>\n",
       "    <tr>\n",
       "      <th>2</th>\n",
       "      <td>Number of Layers</td>\n",
       "      <td>4</td>\n",
       "    </tr>\n",
       "    <tr>\n",
       "      <th>3</th>\n",
       "      <td>Number of Input Layers</td>\n",
       "      <td>1</td>\n",
       "    </tr>\n",
       "    <tr>\n",
       "      <th>4</th>\n",
       "      <td>Number of Output Layers</td>\n",
       "      <td>1</td>\n",
       "    </tr>\n",
       "    <tr>\n",
       "      <th>5</th>\n",
       "      <td>Number of Convolutional Layers</td>\n",
       "      <td>0</td>\n",
       "    </tr>\n",
       "    <tr>\n",
       "      <th>6</th>\n",
       "      <td>Number of Pooling Layers</td>\n",
       "      <td>0</td>\n",
       "    </tr>\n",
       "    <tr>\n",
       "      <th>7</th>\n",
       "      <td>Number of Fully Connected Layers</td>\n",
       "      <td>0</td>\n",
       "    </tr>\n",
       "    <tr>\n",
       "      <th>8</th>\n",
       "      <td>Number of Recurrent Layers</td>\n",
       "      <td>2</td>\n",
       "    </tr>\n",
       "    <tr>\n",
       "      <th>9</th>\n",
       "      <td>Number of Weight Parameters</td>\n",
       "      <td>80900</td>\n",
       "    </tr>\n",
       "    <tr>\n",
       "      <th>10</th>\n",
       "      <td>Number of Bias Parameters</td>\n",
       "      <td>601</td>\n",
       "    </tr>\n",
       "    <tr>\n",
       "      <th>11</th>\n",
       "      <td>Total Number of Model Parameters</td>\n",
       "      <td>81501</td>\n",
       "    </tr>\n",
       "    <tr>\n",
       "      <th>12</th>\n",
       "      <td>Approximate Memory Cost for Training (MB)</td>\n",
       "      <td>490</td>\n",
       "    </tr>\n",
       "  </tbody>\n",
       "</table>\n",
       "</div>\n",
       "</div>\n",
       "<div class=\"cas-results-key\"><hr/><b>&#167; OptIterHistory</b></div>\n",
       "<div class=\"cas-results-body\">\n",
       "<div>\n",
       "<style scoped>\n",
       "    .dataframe tbody tr th:only-of-type {\n",
       "        vertical-align: middle;\n",
       "    }\n",
       "\n",
       "    .dataframe tbody tr th {\n",
       "        vertical-align: top;\n",
       "    }\n",
       "\n",
       "    .dataframe thead th {\n",
       "        text-align: right;\n",
       "    }\n",
       "</style>\n",
       "<table border=\"1\" class=\"dataframe\">\n",
       "  <thead>\n",
       "    <tr style=\"text-align: right;\">\n",
       "      <th title=\"\"></th>\n",
       "      <th title=\"Epoch\">Epoch</th>\n",
       "      <th title=\"LearningRate\">LearningRate</th>\n",
       "      <th title=\"Loss\">Loss</th>\n",
       "      <th title=\"FitError\">FitError</th>\n",
       "      <th title=\"ValidLoss\">ValidLoss</th>\n",
       "      <th title=\"ValidError\">ValidError</th>\n",
       "    </tr>\n",
       "  </thead>\n",
       "  <tbody>\n",
       "    <tr>\n",
       "      <th>0</th>\n",
       "      <td>1</td>\n",
       "      <td>0.001</td>\n",
       "      <td>0.181589</td>\n",
       "      <td>0.086342</td>\n",
       "      <td>0.069140</td>\n",
       "      <td>0.021590</td>\n",
       "    </tr>\n",
       "    <tr>\n",
       "      <th>1</th>\n",
       "      <td>2</td>\n",
       "      <td>0.001</td>\n",
       "      <td>0.108261</td>\n",
       "      <td>0.060705</td>\n",
       "      <td>0.053524</td>\n",
       "      <td>0.016837</td>\n",
       "    </tr>\n",
       "    <tr>\n",
       "      <th>2</th>\n",
       "      <td>3</td>\n",
       "      <td>0.001</td>\n",
       "      <td>0.084118</td>\n",
       "      <td>0.028278</td>\n",
       "      <td>0.061081</td>\n",
       "      <td>0.017677</td>\n",
       "    </tr>\n",
       "    <tr>\n",
       "      <th>3</th>\n",
       "      <td>4</td>\n",
       "      <td>0.001</td>\n",
       "      <td>0.030559</td>\n",
       "      <td>0.020146</td>\n",
       "      <td>0.034991</td>\n",
       "      <td>0.010393</td>\n",
       "    </tr>\n",
       "    <tr>\n",
       "      <th>4</th>\n",
       "      <td>5</td>\n",
       "      <td>0.001</td>\n",
       "      <td>0.066664</td>\n",
       "      <td>0.018157</td>\n",
       "      <td>0.070074</td>\n",
       "      <td>0.018131</td>\n",
       "    </tr>\n",
       "    <tr>\n",
       "      <th>5</th>\n",
       "      <td>6</td>\n",
       "      <td>0.001</td>\n",
       "      <td>0.053491</td>\n",
       "      <td>0.015158</td>\n",
       "      <td>0.027392</td>\n",
       "      <td>0.010483</td>\n",
       "    </tr>\n",
       "    <tr>\n",
       "      <th>6</th>\n",
       "      <td>7</td>\n",
       "      <td>0.001</td>\n",
       "      <td>0.031760</td>\n",
       "      <td>0.011114</td>\n",
       "      <td>0.034849</td>\n",
       "      <td>0.010705</td>\n",
       "    </tr>\n",
       "    <tr>\n",
       "      <th>7</th>\n",
       "      <td>8</td>\n",
       "      <td>0.001</td>\n",
       "      <td>0.029853</td>\n",
       "      <td>0.010571</td>\n",
       "      <td>0.026939</td>\n",
       "      <td>0.009364</td>\n",
       "    </tr>\n",
       "    <tr>\n",
       "      <th>8</th>\n",
       "      <td>9</td>\n",
       "      <td>0.001</td>\n",
       "      <td>0.027616</td>\n",
       "      <td>0.009567</td>\n",
       "      <td>0.025945</td>\n",
       "      <td>0.009085</td>\n",
       "    </tr>\n",
       "    <tr>\n",
       "      <th>9</th>\n",
       "      <td>10</td>\n",
       "      <td>0.001</td>\n",
       "      <td>0.026032</td>\n",
       "      <td>0.010026</td>\n",
       "      <td>0.030167</td>\n",
       "      <td>0.009158</td>\n",
       "    </tr>\n",
       "    <tr>\n",
       "      <th>10</th>\n",
       "      <td>11</td>\n",
       "      <td>0.001</td>\n",
       "      <td>0.026068</td>\n",
       "      <td>0.010104</td>\n",
       "      <td>0.026812</td>\n",
       "      <td>0.008782</td>\n",
       "    </tr>\n",
       "    <tr>\n",
       "      <th>11</th>\n",
       "      <td>12</td>\n",
       "      <td>0.001</td>\n",
       "      <td>0.026065</td>\n",
       "      <td>0.010020</td>\n",
       "      <td>0.030548</td>\n",
       "      <td>0.009038</td>\n",
       "    </tr>\n",
       "    <tr>\n",
       "      <th>12</th>\n",
       "      <td>13</td>\n",
       "      <td>0.001</td>\n",
       "      <td>0.027041</td>\n",
       "      <td>0.009630</td>\n",
       "      <td>0.022379</td>\n",
       "      <td>0.008429</td>\n",
       "    </tr>\n",
       "    <tr>\n",
       "      <th>13</th>\n",
       "      <td>14</td>\n",
       "      <td>0.001</td>\n",
       "      <td>0.024052</td>\n",
       "      <td>0.009140</td>\n",
       "      <td>0.028345</td>\n",
       "      <td>0.008966</td>\n",
       "    </tr>\n",
       "    <tr>\n",
       "      <th>14</th>\n",
       "      <td>15</td>\n",
       "      <td>0.001</td>\n",
       "      <td>0.024912</td>\n",
       "      <td>0.009952</td>\n",
       "      <td>0.029703</td>\n",
       "      <td>0.009096</td>\n",
       "    </tr>\n",
       "    <tr>\n",
       "      <th>15</th>\n",
       "      <td>16</td>\n",
       "      <td>0.001</td>\n",
       "      <td>0.025407</td>\n",
       "      <td>0.009585</td>\n",
       "      <td>0.027855</td>\n",
       "      <td>0.008806</td>\n",
       "    </tr>\n",
       "    <tr>\n",
       "      <th>16</th>\n",
       "      <td>17</td>\n",
       "      <td>0.001</td>\n",
       "      <td>0.026684</td>\n",
       "      <td>0.009796</td>\n",
       "      <td>0.023557</td>\n",
       "      <td>0.008283</td>\n",
       "    </tr>\n",
       "    <tr>\n",
       "      <th>17</th>\n",
       "      <td>18</td>\n",
       "      <td>0.001</td>\n",
       "      <td>0.025878</td>\n",
       "      <td>0.009811</td>\n",
       "      <td>0.026821</td>\n",
       "      <td>0.008757</td>\n",
       "    </tr>\n",
       "    <tr>\n",
       "      <th>18</th>\n",
       "      <td>19</td>\n",
       "      <td>0.001</td>\n",
       "      <td>0.026094</td>\n",
       "      <td>0.009511</td>\n",
       "      <td>0.028500</td>\n",
       "      <td>0.008945</td>\n",
       "    </tr>\n",
       "    <tr>\n",
       "      <th>19</th>\n",
       "      <td>20</td>\n",
       "      <td>0.001</td>\n",
       "      <td>0.023393</td>\n",
       "      <td>0.009674</td>\n",
       "      <td>0.033939</td>\n",
       "      <td>0.009696</td>\n",
       "    </tr>\n",
       "    <tr>\n",
       "      <th>20</th>\n",
       "      <td>21</td>\n",
       "      <td>0.001</td>\n",
       "      <td>0.031459</td>\n",
       "      <td>0.010242</td>\n",
       "      <td>0.018432</td>\n",
       "      <td>0.007615</td>\n",
       "    </tr>\n",
       "    <tr>\n",
       "      <th>21</th>\n",
       "      <td>22</td>\n",
       "      <td>0.001</td>\n",
       "      <td>0.023467</td>\n",
       "      <td>0.008748</td>\n",
       "      <td>0.031719</td>\n",
       "      <td>0.009264</td>\n",
       "    </tr>\n",
       "    <tr>\n",
       "      <th>22</th>\n",
       "      <td>23</td>\n",
       "      <td>0.001</td>\n",
       "      <td>0.027046</td>\n",
       "      <td>0.009992</td>\n",
       "      <td>0.028336</td>\n",
       "      <td>0.008965</td>\n",
       "    </tr>\n",
       "    <tr>\n",
       "      <th>23</th>\n",
       "      <td>24</td>\n",
       "      <td>0.001</td>\n",
       "      <td>0.028084</td>\n",
       "      <td>0.009872</td>\n",
       "      <td>0.022119</td>\n",
       "      <td>0.008017</td>\n",
       "    </tr>\n",
       "    <tr>\n",
       "      <th>24</th>\n",
       "      <td>25</td>\n",
       "      <td>0.001</td>\n",
       "      <td>0.027636</td>\n",
       "      <td>0.009275</td>\n",
       "      <td>0.018146</td>\n",
       "      <td>0.007950</td>\n",
       "    </tr>\n",
       "    <tr>\n",
       "      <th>25</th>\n",
       "      <td>26</td>\n",
       "      <td>0.001</td>\n",
       "      <td>0.024527</td>\n",
       "      <td>0.009614</td>\n",
       "      <td>0.029572</td>\n",
       "      <td>0.009027</td>\n",
       "    </tr>\n",
       "    <tr>\n",
       "      <th>26</th>\n",
       "      <td>27</td>\n",
       "      <td>0.001</td>\n",
       "      <td>0.025694</td>\n",
       "      <td>0.010297</td>\n",
       "      <td>0.031382</td>\n",
       "      <td>0.009263</td>\n",
       "    </tr>\n",
       "    <tr>\n",
       "      <th>27</th>\n",
       "      <td>28</td>\n",
       "      <td>0.001</td>\n",
       "      <td>0.023612</td>\n",
       "      <td>0.009750</td>\n",
       "      <td>0.029920</td>\n",
       "      <td>0.008771</td>\n",
       "    </tr>\n",
       "    <tr>\n",
       "      <th>28</th>\n",
       "      <td>29</td>\n",
       "      <td>0.001</td>\n",
       "      <td>0.030882</td>\n",
       "      <td>0.010008</td>\n",
       "      <td>0.017416</td>\n",
       "      <td>0.007377</td>\n",
       "    </tr>\n",
       "    <tr>\n",
       "      <th>29</th>\n",
       "      <td>30</td>\n",
       "      <td>0.001</td>\n",
       "      <td>0.022316</td>\n",
       "      <td>0.009004</td>\n",
       "      <td>0.032371</td>\n",
       "      <td>0.009415</td>\n",
       "    </tr>\n",
       "    <tr>\n",
       "      <th>...</th>\n",
       "      <td>...</td>\n",
       "      <td>...</td>\n",
       "      <td>...</td>\n",
       "      <td>...</td>\n",
       "      <td>...</td>\n",
       "      <td>...</td>\n",
       "    </tr>\n",
       "    <tr>\n",
       "      <th>70</th>\n",
       "      <td>71</td>\n",
       "      <td>0.001</td>\n",
       "      <td>0.028328</td>\n",
       "      <td>0.008853</td>\n",
       "      <td>0.018120</td>\n",
       "      <td>0.006564</td>\n",
       "    </tr>\n",
       "    <tr>\n",
       "      <th>71</th>\n",
       "      <td>72</td>\n",
       "      <td>0.001</td>\n",
       "      <td>0.022730</td>\n",
       "      <td>0.008203</td>\n",
       "      <td>0.030426</td>\n",
       "      <td>0.008065</td>\n",
       "    </tr>\n",
       "    <tr>\n",
       "      <th>72</th>\n",
       "      <td>73</td>\n",
       "      <td>0.001</td>\n",
       "      <td>0.029378</td>\n",
       "      <td>0.010485</td>\n",
       "      <td>0.045153</td>\n",
       "      <td>0.010299</td>\n",
       "    </tr>\n",
       "    <tr>\n",
       "      <th>73</th>\n",
       "      <td>74</td>\n",
       "      <td>0.001</td>\n",
       "      <td>0.025162</td>\n",
       "      <td>0.009676</td>\n",
       "      <td>0.019684</td>\n",
       "      <td>0.006783</td>\n",
       "    </tr>\n",
       "    <tr>\n",
       "      <th>74</th>\n",
       "      <td>75</td>\n",
       "      <td>0.001</td>\n",
       "      <td>0.029484</td>\n",
       "      <td>0.008664</td>\n",
       "      <td>0.023559</td>\n",
       "      <td>0.007680</td>\n",
       "    </tr>\n",
       "    <tr>\n",
       "      <th>75</th>\n",
       "      <td>76</td>\n",
       "      <td>0.001</td>\n",
       "      <td>0.025065</td>\n",
       "      <td>0.008890</td>\n",
       "      <td>0.026092</td>\n",
       "      <td>0.007696</td>\n",
       "    </tr>\n",
       "    <tr>\n",
       "      <th>76</th>\n",
       "      <td>77</td>\n",
       "      <td>0.001</td>\n",
       "      <td>0.025164</td>\n",
       "      <td>0.009999</td>\n",
       "      <td>0.042418</td>\n",
       "      <td>0.009781</td>\n",
       "    </tr>\n",
       "    <tr>\n",
       "      <th>77</th>\n",
       "      <td>78</td>\n",
       "      <td>0.001</td>\n",
       "      <td>0.022495</td>\n",
       "      <td>0.009206</td>\n",
       "      <td>0.027869</td>\n",
       "      <td>0.007992</td>\n",
       "    </tr>\n",
       "    <tr>\n",
       "      <th>78</th>\n",
       "      <td>79</td>\n",
       "      <td>0.001</td>\n",
       "      <td>0.027727</td>\n",
       "      <td>0.008228</td>\n",
       "      <td>0.021665</td>\n",
       "      <td>0.006912</td>\n",
       "    </tr>\n",
       "    <tr>\n",
       "      <th>79</th>\n",
       "      <td>80</td>\n",
       "      <td>0.001</td>\n",
       "      <td>0.022949</td>\n",
       "      <td>0.008140</td>\n",
       "      <td>0.026219</td>\n",
       "      <td>0.007477</td>\n",
       "    </tr>\n",
       "    <tr>\n",
       "      <th>80</th>\n",
       "      <td>81</td>\n",
       "      <td>0.001</td>\n",
       "      <td>0.024334</td>\n",
       "      <td>0.008585</td>\n",
       "      <td>0.021449</td>\n",
       "      <td>0.007075</td>\n",
       "    </tr>\n",
       "    <tr>\n",
       "      <th>81</th>\n",
       "      <td>82</td>\n",
       "      <td>0.001</td>\n",
       "      <td>0.028360</td>\n",
       "      <td>0.008366</td>\n",
       "      <td>0.018500</td>\n",
       "      <td>0.006805</td>\n",
       "    </tr>\n",
       "    <tr>\n",
       "      <th>82</th>\n",
       "      <td>83</td>\n",
       "      <td>0.001</td>\n",
       "      <td>0.020287</td>\n",
       "      <td>0.008353</td>\n",
       "      <td>0.036661</td>\n",
       "      <td>0.008875</td>\n",
       "    </tr>\n",
       "    <tr>\n",
       "      <th>83</th>\n",
       "      <td>84</td>\n",
       "      <td>0.001</td>\n",
       "      <td>0.024184</td>\n",
       "      <td>0.009683</td>\n",
       "      <td>0.045875</td>\n",
       "      <td>0.011088</td>\n",
       "    </tr>\n",
       "    <tr>\n",
       "      <th>84</th>\n",
       "      <td>85</td>\n",
       "      <td>0.001</td>\n",
       "      <td>0.029757</td>\n",
       "      <td>0.010915</td>\n",
       "      <td>0.016366</td>\n",
       "      <td>0.006441</td>\n",
       "    </tr>\n",
       "    <tr>\n",
       "      <th>85</th>\n",
       "      <td>86</td>\n",
       "      <td>0.001</td>\n",
       "      <td>0.023392</td>\n",
       "      <td>0.008356</td>\n",
       "      <td>0.035114</td>\n",
       "      <td>0.009120</td>\n",
       "    </tr>\n",
       "    <tr>\n",
       "      <th>86</th>\n",
       "      <td>87</td>\n",
       "      <td>0.001</td>\n",
       "      <td>0.035925</td>\n",
       "      <td>0.012554</td>\n",
       "      <td>0.054494</td>\n",
       "      <td>0.011541</td>\n",
       "    </tr>\n",
       "    <tr>\n",
       "      <th>87</th>\n",
       "      <td>88</td>\n",
       "      <td>0.001</td>\n",
       "      <td>0.025777</td>\n",
       "      <td>0.010785</td>\n",
       "      <td>0.019764</td>\n",
       "      <td>0.006943</td>\n",
       "    </tr>\n",
       "    <tr>\n",
       "      <th>88</th>\n",
       "      <td>89</td>\n",
       "      <td>0.001</td>\n",
       "      <td>0.032542</td>\n",
       "      <td>0.009760</td>\n",
       "      <td>0.036304</td>\n",
       "      <td>0.009415</td>\n",
       "    </tr>\n",
       "    <tr>\n",
       "      <th>89</th>\n",
       "      <td>90</td>\n",
       "      <td>0.001</td>\n",
       "      <td>0.027929</td>\n",
       "      <td>0.009055</td>\n",
       "      <td>0.032463</td>\n",
       "      <td>0.008369</td>\n",
       "    </tr>\n",
       "    <tr>\n",
       "      <th>90</th>\n",
       "      <td>91</td>\n",
       "      <td>0.001</td>\n",
       "      <td>0.023231</td>\n",
       "      <td>0.008632</td>\n",
       "      <td>0.034794</td>\n",
       "      <td>0.008777</td>\n",
       "    </tr>\n",
       "    <tr>\n",
       "      <th>91</th>\n",
       "      <td>92</td>\n",
       "      <td>0.001</td>\n",
       "      <td>0.026374</td>\n",
       "      <td>0.008574</td>\n",
       "      <td>0.018135</td>\n",
       "      <td>0.006618</td>\n",
       "    </tr>\n",
       "    <tr>\n",
       "      <th>92</th>\n",
       "      <td>93</td>\n",
       "      <td>0.001</td>\n",
       "      <td>0.022851</td>\n",
       "      <td>0.008310</td>\n",
       "      <td>0.032754</td>\n",
       "      <td>0.008377</td>\n",
       "    </tr>\n",
       "    <tr>\n",
       "      <th>93</th>\n",
       "      <td>94</td>\n",
       "      <td>0.001</td>\n",
       "      <td>0.031663</td>\n",
       "      <td>0.010935</td>\n",
       "      <td>0.041375</td>\n",
       "      <td>0.010506</td>\n",
       "    </tr>\n",
       "    <tr>\n",
       "      <th>94</th>\n",
       "      <td>95</td>\n",
       "      <td>0.001</td>\n",
       "      <td>0.026525</td>\n",
       "      <td>0.012678</td>\n",
       "      <td>0.056806</td>\n",
       "      <td>0.014042</td>\n",
       "    </tr>\n",
       "    <tr>\n",
       "      <th>95</th>\n",
       "      <td>96</td>\n",
       "      <td>0.001</td>\n",
       "      <td>0.026611</td>\n",
       "      <td>0.011897</td>\n",
       "      <td>0.022309</td>\n",
       "      <td>0.007048</td>\n",
       "    </tr>\n",
       "    <tr>\n",
       "      <th>96</th>\n",
       "      <td>97</td>\n",
       "      <td>0.001</td>\n",
       "      <td>0.028539</td>\n",
       "      <td>0.008993</td>\n",
       "      <td>0.024824</td>\n",
       "      <td>0.008066</td>\n",
       "    </tr>\n",
       "    <tr>\n",
       "      <th>97</th>\n",
       "      <td>98</td>\n",
       "      <td>0.001</td>\n",
       "      <td>0.028358</td>\n",
       "      <td>0.008757</td>\n",
       "      <td>0.025322</td>\n",
       "      <td>0.007602</td>\n",
       "    </tr>\n",
       "    <tr>\n",
       "      <th>98</th>\n",
       "      <td>99</td>\n",
       "      <td>0.001</td>\n",
       "      <td>0.024690</td>\n",
       "      <td>0.007755</td>\n",
       "      <td>0.018857</td>\n",
       "      <td>0.006806</td>\n",
       "    </tr>\n",
       "    <tr>\n",
       "      <th>99</th>\n",
       "      <td>100</td>\n",
       "      <td>0.001</td>\n",
       "      <td>0.023928</td>\n",
       "      <td>0.008686</td>\n",
       "      <td>0.021392</td>\n",
       "      <td>0.007188</td>\n",
       "    </tr>\n",
       "  </tbody>\n",
       "</table>\n",
       "<p>100 rows × 6 columns</p>\n",
       "</div>\n",
       "</div>\n",
       "<div class=\"cas-results-key\"><hr/><b>&#167; OutputCasTables</b></div>\n",
       "<div class=\"cas-results-body\">\n",
       "<div>\n",
       "<style scoped>\n",
       "    .dataframe tbody tr th:only-of-type {\n",
       "        vertical-align: middle;\n",
       "    }\n",
       "\n",
       "    .dataframe tbody tr th {\n",
       "        vertical-align: top;\n",
       "    }\n",
       "\n",
       "    .dataframe thead th {\n",
       "        text-align: right;\n",
       "    }\n",
       "</style>\n",
       "<table border=\"1\" class=\"dataframe\">\n",
       "  <thead>\n",
       "    <tr style=\"text-align: right;\">\n",
       "      <th title=\"\"></th>\n",
       "      <th title=\"CAS Library\">casLib</th>\n",
       "      <th title=\"Name\">Name</th>\n",
       "      <th title=\"Number of Rows\">Rows</th>\n",
       "      <th title=\"Number of Columns\">Columns</th>\n",
       "      <th title=\"Table\">casTable</th>\n",
       "    </tr>\n",
       "  </thead>\n",
       "  <tbody>\n",
       "    <tr>\n",
       "      <th>0</th>\n",
       "      <td>CASUSER(sasdemo)</td>\n",
       "      <td>lstm_002_weights</td>\n",
       "      <td>81501</td>\n",
       "      <td>3</td>\n",
       "      <td>CASTable('lstm_002_weights', caslib='CASUSER(s...</td>\n",
       "    </tr>\n",
       "  </tbody>\n",
       "</table>\n",
       "</div>\n",
       "</div>\n",
       "<div class=\"cas-output-area\"></div>\n",
       "<p class=\"cas-results-performance\"><small><span class=\"cas-elapsed\">elapsed 418s</span> &#183; <span class=\"cas-user\">user 3.53e+03s</span> &#183; <span class=\"cas-sys\">sys 4.29s</span> &#183; <span class=\"cas-memory\">mem 555MB</span></small></p>"
      ],
      "text/plain": [
       "[ModelInfo]\n",
       "\n",
       "                                         Descr                     Value\n",
       " 0                                  Model Name                  lstm_002\n",
       " 1                                  Model Type  Recurrent Neural Network\n",
       " 2                            Number of Layers                         4\n",
       " 3                      Number of Input Layers                         1\n",
       " 4                     Number of Output Layers                         1\n",
       " 5              Number of Convolutional Layers                         0\n",
       " 6                    Number of Pooling Layers                         0\n",
       " 7            Number of Fully Connected Layers                         0\n",
       " 8                  Number of Recurrent Layers                         2\n",
       " 9                 Number of Weight Parameters                     80900\n",
       " 10                  Number of Bias Parameters                       601\n",
       " 11           Total Number of Model Parameters                     81501\n",
       " 12  Approximate Memory Cost for Training (MB)                       490\n",
       "\n",
       "[OptIterHistory]\n",
       "\n",
       "     Epoch  LearningRate      Loss  FitError  ValidLoss  ValidError\n",
       " 0       1         0.001  0.181589  0.086342   0.069140    0.021590\n",
       " 1       2         0.001  0.108261  0.060705   0.053524    0.016837\n",
       " 2       3         0.001  0.084118  0.028278   0.061081    0.017677\n",
       " 3       4         0.001  0.030559  0.020146   0.034991    0.010393\n",
       " 4       5         0.001  0.066664  0.018157   0.070074    0.018131\n",
       " 5       6         0.001  0.053491  0.015158   0.027392    0.010483\n",
       " 6       7         0.001  0.031760  0.011114   0.034849    0.010705\n",
       " 7       8         0.001  0.029853  0.010571   0.026939    0.009364\n",
       " 8       9         0.001  0.027616  0.009567   0.025945    0.009085\n",
       " 9      10         0.001  0.026032  0.010026   0.030167    0.009158\n",
       " 10     11         0.001  0.026068  0.010104   0.026812    0.008782\n",
       " 11     12         0.001  0.026065  0.010020   0.030548    0.009038\n",
       " 12     13         0.001  0.027041  0.009630   0.022379    0.008429\n",
       " 13     14         0.001  0.024052  0.009140   0.028345    0.008966\n",
       " 14     15         0.001  0.024912  0.009952   0.029703    0.009096\n",
       " 15     16         0.001  0.025407  0.009585   0.027855    0.008806\n",
       " 16     17         0.001  0.026684  0.009796   0.023557    0.008283\n",
       " 17     18         0.001  0.025878  0.009811   0.026821    0.008757\n",
       " 18     19         0.001  0.026094  0.009511   0.028500    0.008945\n",
       " 19     20         0.001  0.023393  0.009674   0.033939    0.009696\n",
       " 20     21         0.001  0.031459  0.010242   0.018432    0.007615\n",
       " 21     22         0.001  0.023467  0.008748   0.031719    0.009264\n",
       " 22     23         0.001  0.027046  0.009992   0.028336    0.008965\n",
       " 23     24         0.001  0.028084  0.009872   0.022119    0.008017\n",
       " 24     25         0.001  0.027636  0.009275   0.018146    0.007950\n",
       " 25     26         0.001  0.024527  0.009614   0.029572    0.009027\n",
       " 26     27         0.001  0.025694  0.010297   0.031382    0.009263\n",
       " 27     28         0.001  0.023612  0.009750   0.029920    0.008771\n",
       " 28     29         0.001  0.030882  0.010008   0.017416    0.007377\n",
       " 29     30         0.001  0.022316  0.009004   0.032371    0.009415\n",
       " ..    ...           ...       ...       ...        ...         ...\n",
       " 70     71         0.001  0.028328  0.008853   0.018120    0.006564\n",
       " 71     72         0.001  0.022730  0.008203   0.030426    0.008065\n",
       " 72     73         0.001  0.029378  0.010485   0.045153    0.010299\n",
       " 73     74         0.001  0.025162  0.009676   0.019684    0.006783\n",
       " 74     75         0.001  0.029484  0.008664   0.023559    0.007680\n",
       " 75     76         0.001  0.025065  0.008890   0.026092    0.007696\n",
       " 76     77         0.001  0.025164  0.009999   0.042418    0.009781\n",
       " 77     78         0.001  0.022495  0.009206   0.027869    0.007992\n",
       " 78     79         0.001  0.027727  0.008228   0.021665    0.006912\n",
       " 79     80         0.001  0.022949  0.008140   0.026219    0.007477\n",
       " 80     81         0.001  0.024334  0.008585   0.021449    0.007075\n",
       " 81     82         0.001  0.028360  0.008366   0.018500    0.006805\n",
       " 82     83         0.001  0.020287  0.008353   0.036661    0.008875\n",
       " 83     84         0.001  0.024184  0.009683   0.045875    0.011088\n",
       " 84     85         0.001  0.029757  0.010915   0.016366    0.006441\n",
       " 85     86         0.001  0.023392  0.008356   0.035114    0.009120\n",
       " 86     87         0.001  0.035925  0.012554   0.054494    0.011541\n",
       " 87     88         0.001  0.025777  0.010785   0.019764    0.006943\n",
       " 88     89         0.001  0.032542  0.009760   0.036304    0.009415\n",
       " 89     90         0.001  0.027929  0.009055   0.032463    0.008369\n",
       " 90     91         0.001  0.023231  0.008632   0.034794    0.008777\n",
       " 91     92         0.001  0.026374  0.008574   0.018135    0.006618\n",
       " 92     93         0.001  0.022851  0.008310   0.032754    0.008377\n",
       " 93     94         0.001  0.031663  0.010935   0.041375    0.010506\n",
       " 94     95         0.001  0.026525  0.012678   0.056806    0.014042\n",
       " 95     96         0.001  0.026611  0.011897   0.022309    0.007048\n",
       " 96     97         0.001  0.028539  0.008993   0.024824    0.008066\n",
       " 97     98         0.001  0.028358  0.008757   0.025322    0.007602\n",
       " 98     99         0.001  0.024690  0.007755   0.018857    0.006806\n",
       " 99    100         0.001  0.023928  0.008686   0.021392    0.007188\n",
       " \n",
       " [100 rows x 6 columns]\n",
       "\n",
       "[OutputCasTables]\n",
       "\n",
       "              casLib              Name   Rows  Columns  \\\n",
       " 0  CASUSER(sasdemo)  lstm_002_weights  81501        3   \n",
       " \n",
       "                                             casTable  \n",
       " 0  CASTable('lstm_002_weights', caslib='CASUSER(s...  \n",
       "\n",
       "+ Elapsed: 418s, user: 3.53e+03s, sys: 4.29s, mem: 555mb"
      ]
     },
     "execution_count": 73,
     "metadata": {},
     "output_type": "execute_result"
    }
   ],
   "source": [
    "result"
   ]
  },
  {
   "cell_type": "markdown",
   "metadata": {},
   "source": [
    "# Evaluate"
   ]
  },
  {
   "cell_type": "code",
   "execution_count": 74,
   "metadata": {},
   "outputs": [
    {
     "data": {
      "text/html": [
       "<div class=\"cas-results-key\"><b>&#167; ScoreInfo</b></div>\n",
       "<div class=\"cas-results-body\">\n",
       "<div>\n",
       "<style scoped>\n",
       "    .dataframe tbody tr th:only-of-type {\n",
       "        vertical-align: middle;\n",
       "    }\n",
       "\n",
       "    .dataframe tbody tr th {\n",
       "        vertical-align: top;\n",
       "    }\n",
       "\n",
       "    .dataframe thead th {\n",
       "        text-align: right;\n",
       "    }\n",
       "</style>\n",
       "<table border=\"1\" class=\"dataframe\">\n",
       "  <thead>\n",
       "    <tr style=\"text-align: right;\">\n",
       "      <th title=\"\"></th>\n",
       "      <th title=\"Descr\">Descr</th>\n",
       "      <th title=\"Value\">Value</th>\n",
       "    </tr>\n",
       "  </thead>\n",
       "  <tbody>\n",
       "    <tr>\n",
       "      <th>0</th>\n",
       "      <td>Number of Observations Read</td>\n",
       "      <td>8162</td>\n",
       "    </tr>\n",
       "    <tr>\n",
       "      <th>1</th>\n",
       "      <td>Number of Observations Used</td>\n",
       "      <td>8162</td>\n",
       "    </tr>\n",
       "    <tr>\n",
       "      <th>2</th>\n",
       "      <td>Mean Squared Error</td>\n",
       "      <td>0.010981</td>\n",
       "    </tr>\n",
       "    <tr>\n",
       "      <th>3</th>\n",
       "      <td>Loss Error</td>\n",
       "      <td>0</td>\n",
       "    </tr>\n",
       "  </tbody>\n",
       "</table>\n",
       "</div>\n",
       "</div>\n",
       "<div class=\"cas-results-key\"><hr/><b>&#167; OutputCasTables</b></div>\n",
       "<div class=\"cas-results-body\">\n",
       "<div>\n",
       "<style scoped>\n",
       "    .dataframe tbody tr th:only-of-type {\n",
       "        vertical-align: middle;\n",
       "    }\n",
       "\n",
       "    .dataframe tbody tr th {\n",
       "        vertical-align: top;\n",
       "    }\n",
       "\n",
       "    .dataframe thead th {\n",
       "        text-align: right;\n",
       "    }\n",
       "</style>\n",
       "<table border=\"1\" class=\"dataframe\">\n",
       "  <thead>\n",
       "    <tr style=\"text-align: right;\">\n",
       "      <th title=\"\"></th>\n",
       "      <th title=\"CAS Library\">casLib</th>\n",
       "      <th title=\"Name\">Name</th>\n",
       "      <th title=\"Number of Rows\">Rows</th>\n",
       "      <th title=\"Number of Columns\">Columns</th>\n",
       "      <th title=\"Table\">casTable</th>\n",
       "    </tr>\n",
       "  </thead>\n",
       "  <tbody>\n",
       "    <tr>\n",
       "      <th>0</th>\n",
       "      <td>CASUSER(sasdemo)</td>\n",
       "      <td>lstm_pred</td>\n",
       "      <td>8162</td>\n",
       "      <td>4</td>\n",
       "      <td>CASTable('lstm_pred', caslib='CASUSER(sasdemo)')</td>\n",
       "    </tr>\n",
       "  </tbody>\n",
       "</table>\n",
       "</div>\n",
       "</div>\n",
       "<div class=\"cas-output-area\"></div>\n",
       "<p class=\"cas-results-performance\"><small><span class=\"cas-elapsed\">elapsed 1.81s</span> &#183; <span class=\"cas-user\">user 12.2s</span> &#183; <span class=\"cas-sys\">sys 0.053s</span> &#183; <span class=\"cas-memory\">mem 41.2MB</span></small></p>"
      ],
      "text/plain": [
       "[ScoreInfo]\n",
       "\n",
       "                          Descr         Value\n",
       " 0  Number of Observations Read          8162\n",
       " 1  Number of Observations Used          8162\n",
       " 2           Mean Squared Error      0.010981\n",
       " 3                   Loss Error             0\n",
       "\n",
       "[OutputCasTables]\n",
       "\n",
       "              casLib       Name  Rows  Columns  \\\n",
       " 0  CASUSER(sasdemo)  lstm_pred  8162        4   \n",
       " \n",
       "                                            casTable  \n",
       " 0  CASTable('lstm_pred', caslib='CASUSER(sasdemo)')  \n",
       "\n",
       "+ Elapsed: 1.81s, user: 12.2s, sys: 0.053s, mem: 41.2mb"
      ]
     },
     "execution_count": 74,
     "metadata": {},
     "output_type": "execute_result"
    }
   ],
   "source": [
    "model.score(ts_test,\n",
    "            model=name,\n",
    "            init_weights=name+'_weights', \n",
    "            copy_vars=['id','cycle','nearfailure'],\n",
    "            casout={'name':'lstm_pred', 'replace':True})"
   ]
  },
  {
   "cell_type": "code",
   "execution_count": 75,
   "metadata": {},
   "outputs": [
    {
     "name": "stdout",
     "output_type": "stream",
     "text": [
      "NOTE: Table LSTM_PRED was created in caslib CASUSER(sasdemo) with 8162 rows returned.\n"
     ]
    },
    {
     "data": {
      "text/html": [
       "<div class=\"cas-output-area\"></div>\n",
       "<p class=\"cas-results-performance\"><small><span class=\"cas-elapsed\">elapsed 0.0342s</span> &#183; <span class=\"cas-user\">user 0.046s</span> &#183; <span class=\"cas-sys\">sys 0.027s</span> &#183; <span class=\"cas-memory\">mem 26.3MB</span></small></p>"
      ],
      "text/plain": [
       "+ Elapsed: 0.0342s, user: 0.046s, sys: 0.027s, mem: 26.3mb"
      ]
     },
     "execution_count": 75,
     "metadata": {},
     "output_type": "execute_result"
    }
   ],
   "source": [
    "sas.fedsql.execdirect(\n",
    "    '''\n",
    "    create table lstm_pred {options replace=true} as select\n",
    "       *,\n",
    "       case when \"_DL_Pred_\" > 0.5 then 1 else 0 end as \"_NF_Pred_\"\n",
    "    from lstm_pred\n",
    "    ''')"
   ]
  },
  {
   "cell_type": "code",
   "execution_count": 76,
   "metadata": {},
   "outputs": [],
   "source": [
    "pred = sas.CASTable('lstm_pred')"
   ]
  },
  {
   "cell_type": "code",
   "execution_count": 77,
   "metadata": {
    "scrolled": true
   },
   "outputs": [],
   "source": [
    "acc = accuracy_score(ts_test.truth, pred._NF_Pred_, id_vars='id')\n",
    "auc = roc_auc_score(ts_test.truth, pred._DL_Pred_, id_vars='id', pos_label=1)\n",
    "cmx = confusion_matrix(ts_test.truth, pred._NF_Pred_, id_vars='id', labels=[0,1])"
   ]
  },
  {
   "cell_type": "code",
   "execution_count": 78,
   "metadata": {},
   "outputs": [
    {
     "name": "stdout",
     "output_type": "stream",
     "text": [
      "Accuracy Score: 0.9733\n",
      "AUC Score: 0.9902\n",
      "\n",
      "Confusion Matrix:\n",
      "_NF_Pred_       0      1\n",
      "truth                   \n",
      "0          7825.0    5.0\n",
      "1           213.0  119.0\n"
     ]
    }
   ],
   "source": [
    "print('Accuracy Score: %.4f' % acc)\n",
    "print('AUC Score: %.4f' % auc)\n",
    "print('\\nConfusion Matrix:\\n%s' % cmx)"
   ]
  },
  {
   "cell_type": "markdown",
   "metadata": {},
   "source": [
    "# Save Model"
   ]
  },
  {
   "cell_type": "code",
   "execution_count": null,
   "metadata": {},
   "outputs": [],
   "source": [
    "model.save_to_table('/sasdata/pdm')"
   ]
  },
  {
   "cell_type": "code",
   "execution_count": null,
   "metadata": {},
   "outputs": [],
   "source": [
    "model.save_to_astore('/sasdata/pdm')"
   ]
  },
  {
   "cell_type": "markdown",
   "metadata": {},
   "source": [
    "# Save Scores"
   ]
  },
  {
   "cell_type": "code",
   "execution_count": null,
   "metadata": {},
   "outputs": [],
   "source": [
    "pred.to_csv('/sasdata/pdm/lstm_002_preds.csv', index=False)"
   ]
  },
  {
   "cell_type": "markdown",
   "metadata": {},
   "source": [
    "# Terminate SAS Viya Session"
   ]
  },
  {
   "cell_type": "code",
   "execution_count": null,
   "metadata": {},
   "outputs": [],
   "source": [
    "sas.terminate()"
   ]
  }
 ],
 "metadata": {
  "kernelspec": {
   "display_name": "Python 3",
   "language": "python",
   "name": "python3"
  },
  "language_info": {
   "codemirror_mode": {
    "name": "ipython",
    "version": 3
   },
   "file_extension": ".py",
   "mimetype": "text/x-python",
   "name": "python",
   "nbconvert_exporter": "python",
   "pygments_lexer": "ipython3",
   "version": "3.7.3"
  }
 },
 "nbformat": 4,
 "nbformat_minor": 2
}
