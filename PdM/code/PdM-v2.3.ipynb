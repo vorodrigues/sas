{
 "cells": [
  {
   "cell_type": "markdown",
   "metadata": {},
   "source": [
    "# Manutenção Preditiva (PdM)\n",
    "\n",
    "O dataset de manutenção preditiva contém dados de 21 sensores e 3 configurações operacionais de turbinas aeronáuticas. A variável target fornecida indica a `RUL` (remaining useful life) do equipamento.\n",
    "\n",
    "O objetivo deste experimento será determinar se estes equipamentos apresentarão alguma falha dentro da uma janela de tempo suficiente para que a sua manutenção seja realizada."
   ]
  },
  {
   "cell_type": "markdown",
   "metadata": {},
   "source": [
    "# Importa Bibliotecas"
   ]
  },
  {
   "cell_type": "markdown",
   "metadata": {},
   "source": [
    "#### DLPy:\n",
    "- https://sassoftware.github.io/python-dlpy/index.html\n",
    "- https://github.com/sassoftware/python-dlpy\n",
    "\n",
    "#### Swat: \n",
    "- https://sassoftware.github.io/python-swat/index.html\n",
    "- https://github.com/sassoftware/python-swat\n",
    "\n",
    "#### Exemplos:\n",
    "- https://github.com/sassoftware/sas-viya-programming\n",
    "- https://github.com/sassoftware/sas-viya-machine-learning"
   ]
  },
  {
   "cell_type": "code",
   "execution_count": 1,
   "metadata": {},
   "outputs": [],
   "source": [
    "from getpass import getpass\n",
    "import numpy as np\n",
    "import pandas as pd\n",
    "import matplotlib.pyplot as plt\n",
    "from swat import *\n",
    "import dlpy\n",
    "from dlpy.timeseries import plot_timeseries\n",
    "from dlpy.splitting import two_way_split\n",
    "from dlpy import Sequential\n",
    "from dlpy.layers import * \n",
    "from dlpy.model import Optimizer, AdamSolver, Sequence\n",
    "from dlpy.metrics import accuracy_score, roc_auc_score, confusion_matrix\n",
    "%matplotlib inline"
   ]
  },
  {
   "cell_type": "markdown",
   "metadata": {},
   "source": [
    "# Parameters"
   ]
  },
  {
   "cell_type": "code",
   "execution_count": 2,
   "metadata": {},
   "outputs": [],
   "source": [
    "period = 30\n",
    "seq_len = 50"
   ]
  },
  {
   "cell_type": "markdown",
   "metadata": {},
   "source": [
    "# Connect to SAS Viya"
   ]
  },
  {
   "cell_type": "code",
   "execution_count": 3,
   "metadata": {},
   "outputs": [
    {
     "name": "stdout",
     "output_type": "stream",
     "text": [
      "Please enter your passwod:········\n"
     ]
    }
   ],
   "source": [
    "sas = CAS('localhost', 5570, 'sasdemo', getpass('Please enter your passwod:'))"
   ]
  },
  {
   "cell_type": "markdown",
   "metadata": {},
   "source": [
    "# Load Action Sets"
   ]
  },
  {
   "cell_type": "code",
   "execution_count": 4,
   "metadata": {
    "scrolled": false
   },
   "outputs": [
    {
     "name": "stdout",
     "output_type": "stream",
     "text": [
      "NOTE: Added action set 'fedSql'.\n",
      "Done!\n"
     ]
    }
   ],
   "source": [
    "sas.loadactionset('fedSql')\n",
    "print('Done!')"
   ]
  },
  {
   "cell_type": "markdown",
   "metadata": {},
   "source": [
    "# Prepare Train Data"
   ]
  },
  {
   "cell_type": "code",
   "execution_count": 5,
   "metadata": {},
   "outputs": [
    {
     "name": "stdout",
     "output_type": "stream",
     "text": [
      "NOTE: Cloud Analytic Services made the uploaded file available as table TRAIN in caslib CASUSER(sasdemo).\n",
      "NOTE: The table TRAIN has been created in caslib CASUSER(sasdemo) from binary data uploaded to Cloud Analytic Services.\n",
      "Index(['id', 'cycle', 'setting1', 'setting2', 'setting3', 's1', 's2', 's3',\n",
      "       's4', 's5', 's6', 's7', 's8', 's9', 's10', 's11', 's12', 's13', 's14',\n",
      "       's15', 's16', 's17', 's18', 's19', 's20', 's21', 'Unnamed: 26',\n",
      "       'Unnamed: 27'],\n",
      "      dtype='object')\n",
      "(20631, 28)\n"
     ]
    }
   ],
   "source": [
    "train = sas.read_csv('/sasdata/pdm/PM_train.txt', sep=' ', casout=CASTable(name='train', replace=True))\n",
    "print(train.columns)\n",
    "print(train.shape)"
   ]
  },
  {
   "cell_type": "code",
   "execution_count": 6,
   "metadata": {},
   "outputs": [
    {
     "name": "stdout",
     "output_type": "stream",
     "text": [
      "Index(['id', 'cycle', 'setting1', 'setting2', 'setting3', 's1', 's2', 's3',\n",
      "       's4', 's5', 's6', 's7', 's8', 's9', 's10', 's11', 's12', 's13', 's14',\n",
      "       's15', 's16', 's17', 's18', 's19', 's20', 's21'],\n",
      "      dtype='object')\n",
      "(20631, 26)\n"
     ]
    }
   ],
   "source": [
    "train.altertable(columns=[{'name':'Unnamed: 26', 'drop':True},\n",
    "                          {'name':'Unnamed: 27', 'drop':True}])\n",
    "print(train.columns)\n",
    "print(train.shape)"
   ]
  },
  {
   "cell_type": "code",
   "execution_count": 7,
   "metadata": {},
   "outputs": [
    {
     "name": "stdout",
     "output_type": "stream",
     "text": [
      "NOTE: Table TRAIN was created in caslib CASUSER(sasdemo) with 20631 rows returned.\n",
      "Index(['id', 'cycle', 'setting1', 'setting2', 'setting3', 's1', 's2', 's3',\n",
      "       's4', 's5', 's6', 's7', 's8', 's9', 's10', 's11', 's12', 's13', 's14',\n",
      "       's15', 's16', 's17', 's18', 's19', 's20', 's21', 'age', 'ttf',\n",
      "       'nearfailure'],\n",
      "      dtype='object')\n",
      "(20631, 29)\n"
     ]
    }
   ],
   "source": [
    "sas.fedsql.execdirect(\n",
    "    '''\n",
    "    create table train {options replace=true} as select \n",
    "      a.*, \n",
    "      a.\"cycle\" as \"age\", \n",
    "      b.\"max_cycle\" - a.\"cycle\" as \"ttf\", \n",
    "      case when b.\"max_cycle\" - a.\"cycle\" <= %d then 1 else 0 end as \"nearfailure\" \n",
    "    from train as a \n",
    "    left join (\n",
    "      select \n",
    "        \"id\", \n",
    "        max(\"cycle\") as \"max_cycle\" \n",
    "      from train \n",
    "      group by \"id\") as b \n",
    "    on a.\"id\" = b.\"id\"\n",
    "    ''' % period)\n",
    "print(train.columns)\n",
    "print(train.shape)"
   ]
  },
  {
   "cell_type": "markdown",
   "metadata": {},
   "source": [
    "# Prepare Test Data"
   ]
  },
  {
   "cell_type": "code",
   "execution_count": 8,
   "metadata": {},
   "outputs": [
    {
     "name": "stdout",
     "output_type": "stream",
     "text": [
      "NOTE: Cloud Analytic Services made the uploaded file available as table TEST in caslib CASUSER(sasdemo).\n",
      "NOTE: The table TEST has been created in caslib CASUSER(sasdemo) from binary data uploaded to Cloud Analytic Services.\n",
      "Index(['id', 'cycle', 'setting1', 'setting2', 'setting3', 's1', 's2', 's3',\n",
      "       's4', 's5', 's6', 's7', 's8', 's9', 's10', 's11', 's12', 's13', 's14',\n",
      "       's15', 's16', 's17', 's18', 's19', 's20', 's21', 'Unnamed: 26',\n",
      "       'Unnamed: 27'],\n",
      "      dtype='object')\n",
      "(13096, 28)\n"
     ]
    }
   ],
   "source": [
    "test = sas.read_csv('/sasdata/pdm/PM_test.txt', sep=' ', casout=CASTable(name='test', replace=True))\n",
    "print(test.columns)\n",
    "print(test.shape)"
   ]
  },
  {
   "cell_type": "code",
   "execution_count": 9,
   "metadata": {},
   "outputs": [
    {
     "name": "stdout",
     "output_type": "stream",
     "text": [
      "Index(['id', 'cycle', 'setting1', 'setting2', 'setting3', 's1', 's2', 's3',\n",
      "       's4', 's5', 's6', 's7', 's8', 's9', 's10', 's11', 's12', 's13', 's14',\n",
      "       's15', 's16', 's17', 's18', 's19', 's20', 's21'],\n",
      "      dtype='object')\n",
      "(13096, 26)\n"
     ]
    }
   ],
   "source": [
    "test.altertable(columns=[{'name':'Unnamed: 26', 'drop':True},\n",
    "                         {'name':'Unnamed: 27', 'drop':True}])\n",
    "print(test.columns)\n",
    "print(test.shape)"
   ]
  },
  {
   "cell_type": "code",
   "execution_count": 10,
   "metadata": {},
   "outputs": [
    {
     "name": "stdout",
     "output_type": "stream",
     "text": [
      "NOTE: Cloud Analytic Services made the uploaded file available as table TRUTH in caslib CASUSER(sasdemo).\n",
      "NOTE: The table TRUTH has been created in caslib CASUSER(sasdemo) from binary data uploaded to Cloud Analytic Services.\n",
      "Index(['id', 'more'], dtype='object')\n",
      "(100, 2)\n"
     ]
    }
   ],
   "source": [
    "truth = sas.read_csv('/sasdata/pdm/PM_truth.txt', sep=' ', casout=CASTable(name='truth', replace=True))\n",
    "print(truth.columns)\n",
    "print(truth.shape)"
   ]
  },
  {
   "cell_type": "code",
   "execution_count": 11,
   "metadata": {},
   "outputs": [
    {
     "name": "stdout",
     "output_type": "stream",
     "text": [
      "NOTE: Table TEST was created in caslib CASUSER(sasdemo) with 13096 rows returned.\n",
      "Index(['id', 'cycle', 'setting1', 'setting2', 'setting3', 's1', 's2', 's3',\n",
      "       's4', 's5', 's6', 's7', 's8', 's9', 's10', 's11', 's12', 's13', 's14',\n",
      "       's15', 's16', 's17', 's18', 's19', 's20', 's21', 'age', 'ttf',\n",
      "       'nearfailure'],\n",
      "      dtype='object')\n",
      "(13096, 29)\n"
     ]
    }
   ],
   "source": [
    "sas.fedsql.execdirect(\n",
    "    '''\n",
    "    create table test {options replace=true} as select\n",
    "        a.*,\n",
    "        a.cycle as \"age\",\n",
    "        b.max_cycle + c.more - a.cycle as \"ttf\",\n",
    "        case when b.max_cycle + c.more - a.cycle <= %d then 1 else 0 end as \"nearfailure\"\n",
    "    from test as a\n",
    "    left join (\n",
    "        select \n",
    "            \"id\", \n",
    "            max(\"cycle\") as \"max_cycle\" \n",
    "        from test \n",
    "        group by \"id\") as b \n",
    "    on a.\"id\" = b.\"id\"\n",
    "    left join truth as c\n",
    "    on a.\"id\" = c.\"id\"\n",
    "    ''' % period)\n",
    "print(test.columns)\n",
    "print(test.shape)"
   ]
  },
  {
   "cell_type": "markdown",
   "metadata": {},
   "source": [
    "# List all series"
   ]
  },
  {
   "cell_type": "code",
   "execution_count": 12,
   "metadata": {},
   "outputs": [
    {
     "name": "stdout",
     "output_type": "stream",
     "text": [
      "['setting1', 'setting2', 'setting3', 's1', 's2', 's3', 's4', 's5', 's6', 's7', 's8', 's9', 's10', 's11', 's12', 's13', 's14', 's15', 's16', 's17', 's18', 's19', 's20', 's21', 'age']\n"
     ]
    }
   ],
   "source": [
    "series = train.columns.drop(['id','cycle','ttf','nearfailure']).values.tolist()\n",
    "print(series)"
   ]
  },
  {
   "cell_type": "markdown",
   "metadata": {},
   "source": [
    "# Preprocess Train and Validation Data"
   ]
  },
  {
   "cell_type": "code",
   "execution_count": 13,
   "metadata": {},
   "outputs": [
    {
     "data": {
      "text/plain": [
       "(20631, 29)"
      ]
     },
     "execution_count": 13,
     "metadata": {},
     "output_type": "execute_result"
    }
   ],
   "source": [
    "ts_train = dlpy.TimeseriesTable.from_table(train)\n",
    "ts_train.shape"
   ]
  },
  {
   "cell_type": "code",
   "execution_count": 14,
   "metadata": {},
   "outputs": [
    {
     "name": "stdout",
     "output_type": "stream",
     "text": [
      "NOTE: Timeseries formatting is completed.\n"
     ]
    }
   ],
   "source": [
    "ts_train.timeseries_formatting(timeid='cycle',\n",
    "                               timeseries=series,\n",
    "                               extra_columns=['id','nearfailure'])"
   ]
  },
  {
   "cell_type": "code",
   "execution_count": 15,
   "metadata": {},
   "outputs": [
    {
     "name": "stdout",
     "output_type": "stream",
     "text": [
      "NOTE: Added action set 'timeData'.\n",
      "NOTE: Timeseries are accumulated to the frequency of obs\n"
     ]
    }
   ],
   "source": [
    "ts_train.timeseries_accumlation(acc_interval='obs',\n",
    "                                extra_num_columns=['nearfailure'],\n",
    "                                groupby='id')"
   ]
  },
  {
   "cell_type": "code",
   "execution_count": 16,
   "metadata": {},
   "outputs": [
    {
     "name": "stdout",
     "output_type": "stream",
     "text": [
      "NOTE: timeseries subsequences are prepared with subsequence length = 50\n"
     ]
    },
    {
     "name": "stderr",
     "output_type": "stream",
     "text": [
      "/opt/anaconda3/lib/python3.7/site-packages/dlpy/timeseries.py:970: UserWarning: target is not in pre-formatted timeseries,\n",
      "                consider reload the data and use timeseries_formatting to format the data,\n",
      "                unless the data has already been pre-formatted.\n",
      "  unless the data has already been pre-formatted.''')\n"
     ]
    }
   ],
   "source": [
    "ts_train.prepare_subsequences(seq_len=seq_len, \n",
    "                              target='nearfailure', \n",
    "                              predictor_timeseries=series)"
   ]
  },
  {
   "cell_type": "code",
   "execution_count": 17,
   "metadata": {},
   "outputs": [
    {
     "data": {
      "text/plain": [
       "(15731, 1255)"
      ]
     },
     "execution_count": 17,
     "metadata": {},
     "output_type": "execute_result"
    }
   ],
   "source": [
    "ts_train.shape"
   ]
  },
  {
   "cell_type": "code",
   "execution_count": 18,
   "metadata": {},
   "outputs": [
    {
     "name": "stdout",
     "output_type": "stream",
     "text": [
      "(14158, 1255)\n",
      "(1573, 1255)\n"
     ]
    }
   ],
   "source": [
    "smp_train, smp_valid = two_way_split(ts_train, test_rate=10, seed=42, im_table=False, stratify_by='nearfailure')\n",
    "print(smp_train.shape)\n",
    "print(smp_valid.shape)"
   ]
  },
  {
   "cell_type": "markdown",
   "metadata": {},
   "source": [
    "# Preprocess Test Data"
   ]
  },
  {
   "cell_type": "code",
   "execution_count": 19,
   "metadata": {},
   "outputs": [
    {
     "data": {
      "text/plain": [
       "(13096, 29)"
      ]
     },
     "execution_count": 19,
     "metadata": {},
     "output_type": "execute_result"
    }
   ],
   "source": [
    "ts_test = dlpy.TimeseriesTable.from_table(test)\n",
    "ts_test.shape"
   ]
  },
  {
   "cell_type": "code",
   "execution_count": 20,
   "metadata": {},
   "outputs": [
    {
     "name": "stdout",
     "output_type": "stream",
     "text": [
      "NOTE: Timeseries formatting is completed.\n"
     ]
    }
   ],
   "source": [
    "ts_test.timeseries_formatting(timeid='cycle',\n",
    "                              timeseries=series,\n",
    "                              extra_columns=['id','nearfailure'])"
   ]
  },
  {
   "cell_type": "code",
   "execution_count": 21,
   "metadata": {},
   "outputs": [
    {
     "name": "stdout",
     "output_type": "stream",
     "text": [
      "NOTE: Added action set 'timeData'.\n",
      "NOTE: Timeseries are accumulated to the frequency of obs\n"
     ]
    }
   ],
   "source": [
    "ts_test.timeseries_accumlation(acc_interval='obs',\n",
    "                               extra_num_columns=['nearfailure'],\n",
    "                               groupby='id')"
   ]
  },
  {
   "cell_type": "code",
   "execution_count": 22,
   "metadata": {},
   "outputs": [
    {
     "name": "stdout",
     "output_type": "stream",
     "text": [
      "NOTE: timeseries subsequences are prepared with subsequence length = 50\n"
     ]
    }
   ],
   "source": [
    "ts_test.prepare_subsequences(seq_len=seq_len, \n",
    "                             target='nearfailure', \n",
    "                             predictor_timeseries=series)"
   ]
  },
  {
   "cell_type": "code",
   "execution_count": 23,
   "metadata": {},
   "outputs": [
    {
     "data": {
      "text/plain": [
       "(8255, 1255)"
      ]
     },
     "execution_count": 23,
     "metadata": {},
     "output_type": "execute_result"
    }
   ],
   "source": [
    "ts_test.shape"
   ]
  },
  {
   "cell_type": "markdown",
   "metadata": {},
   "source": [
    "# Model 1"
   ]
  },
  {
   "cell_type": "code",
   "execution_count": null,
   "metadata": {},
   "outputs": [],
   "source": [
    "name = 'lstm_001'"
   ]
  },
  {
   "cell_type": "code",
   "execution_count": null,
   "metadata": {},
   "outputs": [],
   "source": [
    "model = Sequential(sas, model_table=name)\n",
    "\n",
    "model.add(InputLayer(std='STD'))\n",
    "model.add(Recurrent(rnn_type='LSTM', output_type='samelength', n=100, dropout=0.1, act='sigmoid'))\n",
    "model.add(Recurrent(rnn_type='LSTM', output_type='encoding',  n=50, dropout=0.1, act='sigmoid'))\n",
    "model.add(OutputLayer(n=1, full_connect=True, act='sigmoid', error='entropy'))\n",
    "\n",
    "model.plot_network()"
   ]
  },
  {
   "cell_type": "code",
   "execution_count": null,
   "metadata": {},
   "outputs": [],
   "source": [
    "optimizer = Optimizer(algorithm=AdamSolver(), \n",
    "                      max_epochs=100, \n",
    "                      mini_batch_size=200,\n",
    "                      seed=1234)"
   ]
  },
  {
   "cell_type": "code",
   "execution_count": null,
   "metadata": {},
   "outputs": [],
   "source": [
    "seq_spec  = Sequence(**ts_train.sequence_opt)"
   ]
  },
  {
   "cell_type": "code",
   "execution_count": null,
   "metadata": {},
   "outputs": [],
   "source": [
    "result = model.train(smp_train,\n",
    "                     valid_table = smp_valid,\n",
    "                     optimizer=optimizer,\n",
    "                     sequence=seq_spec, \n",
    "                     **ts_train.inputs_target,\n",
    "                     model=name,\n",
    "                     model_weights=sas.CASTable(name+'_weights', replace=True))"
   ]
  },
  {
   "cell_type": "code",
   "execution_count": null,
   "metadata": {},
   "outputs": [],
   "source": [
    "# model.plot_training_history(tick_frequency=1)\n",
    "result.OptIterHistory[['Loss','FitError','ValidError']][0:].plot(figsize=(12,5))\n",
    "ax = plt.gca()\n",
    "ax.get_xaxis().set_tick_params(labelsize=14)\n",
    "ax.get_yaxis().set_tick_params(labelsize=14)\n",
    "ax.legend(['Fit Loss','Fit Error','Valid Error'], loc='upper right', prop={'size': 14})\n",
    "ax.set_xlabel('Iterations',fontsize=16)\n",
    "ax.set_ylabel('Error / Loss',fontsize=16)\n",
    "plt.show()"
   ]
  },
  {
   "cell_type": "code",
   "execution_count": null,
   "metadata": {
    "scrolled": true
   },
   "outputs": [],
   "source": [
    "result"
   ]
  },
  {
   "cell_type": "markdown",
   "metadata": {},
   "source": [
    "# Model 2"
   ]
  },
  {
   "cell_type": "code",
   "execution_count": 24,
   "metadata": {},
   "outputs": [],
   "source": [
    "name = 'lstm_002'"
   ]
  },
  {
   "cell_type": "code",
   "execution_count": 25,
   "metadata": {},
   "outputs": [
    {
     "name": "stdout",
     "output_type": "stream",
     "text": [
      "NOTE: Input layer added.\n",
      "NOTE: Recurrent layer added.\n",
      "NOTE: Recurrent layer added.\n",
      "NOTE: Output layer added.\n",
      "NOTE: Model compiled successfully.\n"
     ]
    },
    {
     "data": {
      "image/svg+xml": [
       "<?xml version=\"1.0\" encoding=\"UTF-8\" standalone=\"no\"?>\n",
       "<!DOCTYPE svg PUBLIC \"-//W3C//DTD SVG 1.1//EN\"\n",
       " \"http://www.w3.org/Graphics/SVG/1.1/DTD/svg11.dtd\">\n",
       "<!-- Generated by graphviz version 2.40.1 (20161225.0304)\n",
       " -->\n",
       "<!-- Title: lstm_002 Pages: 1 -->\n",
       "<svg width=\"157pt\" height=\"241pt\"\n",
       " viewBox=\"0.00 0.00 157.00 241.00\" xmlns=\"http://www.w3.org/2000/svg\" xmlns:xlink=\"http://www.w3.org/1999/xlink\">\n",
       "<g id=\"graph0\" class=\"graph\" transform=\"scale(1 1) rotate(0) translate(4 237)\">\n",
       "<title>lstm_002</title>\n",
       "<polygon fill=\"#ffffff\" stroke=\"transparent\" points=\"-4,4 -4,-237 153,-237 153,4 -4,4\"/>\n",
       "<!-- Input1 -->\n",
       "<g id=\"node1\" class=\"node\">\n",
       "<title>Input1</title>\n",
       "<polygon fill=\"#3288bd\" fill-opacity=\"0.250980\" stroke=\"#3288bd\" points=\"15.5,-210.5 15.5,-232.5 119.5,-232.5 119.5,-210.5 15.5,-210.5\"/>\n",
       "<text text-anchor=\"middle\" x=\"67.5\" y=\"-217.8\" font-family=\"Helvetica,sans-Serif\" font-size=\"14.00\" fill=\"#000000\">Input1(input)</text>\n",
       "</g>\n",
       "<!-- Rec.1 -->\n",
       "<g id=\"node2\" class=\"node\">\n",
       "<title>Rec.1</title>\n",
       "<polygon fill=\"#abdda4\" fill-opacity=\"0.250980\" stroke=\"#abdda4\" points=\"4,-140.5 4,-162.5 131,-162.5 131,-140.5 4,-140.5\"/>\n",
       "<text text-anchor=\"middle\" x=\"67.5\" y=\"-147.8\" font-family=\"Helvetica,sans-Serif\" font-size=\"14.00\" fill=\"#000000\">Rec.1(recurrent)</text>\n",
       "</g>\n",
       "<!-- Input1&#45;&gt;Rec.1 -->\n",
       "<g id=\"edge1\" class=\"edge\">\n",
       "<title>Input1&#45;&gt;Rec.1</title>\n",
       "<path fill=\"none\" stroke=\"#5677f3\" d=\"M67.5,-210.2533C67.5,-200.3113 67.5,-185.5277 67.5,-173.2776\"/>\n",
       "<polygon fill=\"#5677f3\" stroke=\"#5677f3\" points=\"71.0001,-172.9513 67.5,-162.9513 64.0001,-172.9514 71.0001,-172.9513\"/>\n",
       "<text text-anchor=\"middle\" x=\"73.5\" y=\"-184\" font-family=\"Helvetica,sans-Serif\" font-size=\"10.00\" fill=\"#000000\"> 0 </text>\n",
       "</g>\n",
       "<!-- Rec.1&#45;&gt;Rec.1 -->\n",
       "<g id=\"edge2\" class=\"edge\">\n",
       "<title>Rec.1&#45;&gt;Rec.1</title>\n",
       "<path fill=\"none\" stroke=\"#5677f3\" d=\"M131.058,-157.4252C141.6744,-156.5962 149,-154.6211 149,-151.5 149,-149.5005 145.9936,-147.9714 141.0415,-146.9126\"/>\n",
       "<polygon fill=\"#5677f3\" stroke=\"#5677f3\" points=\"141.4343,-143.4341 131.058,-145.5748 140.5046,-150.3721 141.4343,-143.4341\"/>\n",
       "</g>\n",
       "<!-- Rec.2 -->\n",
       "<g id=\"node3\" class=\"node\">\n",
       "<title>Rec.2</title>\n",
       "<polygon fill=\"#abdda4\" fill-opacity=\"0.250980\" stroke=\"#abdda4\" points=\"4,-70.5 4,-92.5 131,-92.5 131,-70.5 4,-70.5\"/>\n",
       "<text text-anchor=\"middle\" x=\"67.5\" y=\"-77.8\" font-family=\"Helvetica,sans-Serif\" font-size=\"14.00\" fill=\"#000000\">Rec.2(recurrent)</text>\n",
       "</g>\n",
       "<!-- Rec.1&#45;&gt;Rec.2 -->\n",
       "<g id=\"edge3\" class=\"edge\">\n",
       "<title>Rec.1&#45;&gt;Rec.2</title>\n",
       "<path fill=\"none\" stroke=\"#5677f3\" d=\"M67.5,-140.2533C67.5,-130.3113 67.5,-115.5277 67.5,-103.2776\"/>\n",
       "<polygon fill=\"#5677f3\" stroke=\"#5677f3\" points=\"71.0001,-102.9513 67.5,-92.9513 64.0001,-102.9514 71.0001,-102.9513\"/>\n",
       "<text text-anchor=\"middle\" x=\"78.5\" y=\"-114\" font-family=\"Helvetica,sans-Serif\" font-size=\"10.00\" fill=\"#000000\"> 100 </text>\n",
       "</g>\n",
       "<!-- Rec.2&#45;&gt;Rec.2 -->\n",
       "<g id=\"edge4\" class=\"edge\">\n",
       "<title>Rec.2&#45;&gt;Rec.2</title>\n",
       "<path fill=\"none\" stroke=\"#5677f3\" d=\"M131.058,-87.4252C141.6744,-86.5962 149,-84.6211 149,-81.5 149,-79.5005 145.9936,-77.9714 141.0415,-76.9126\"/>\n",
       "<polygon fill=\"#5677f3\" stroke=\"#5677f3\" points=\"141.4343,-73.4341 131.058,-75.5748 140.5046,-80.3721 141.4343,-73.4341\"/>\n",
       "</g>\n",
       "<!-- Output1 -->\n",
       "<g id=\"node4\" class=\"node\">\n",
       "<title>Output1</title>\n",
       "<polygon fill=\"#5e4fa2\" fill-opacity=\"0.125490\" stroke=\"#5e4fa2\" points=\"0,-.5 0,-22.5 135,-22.5 135,-.5 0,-.5\"/>\n",
       "<text text-anchor=\"middle\" x=\"67.5\" y=\"-7.8\" font-family=\"Helvetica,sans-Serif\" font-size=\"14.00\" fill=\"#000000\">1 Output1(output)</text>\n",
       "</g>\n",
       "<!-- Rec.2&#45;&gt;Output1 -->\n",
       "<g id=\"edge5\" class=\"edge\">\n",
       "<title>Rec.2&#45;&gt;Output1</title>\n",
       "<path fill=\"none\" stroke=\"#5677f3\" d=\"M67.5,-70.2533C67.5,-60.3113 67.5,-45.5277 67.5,-33.2776\"/>\n",
       "<polygon fill=\"#5677f3\" stroke=\"#5677f3\" points=\"71.0001,-32.9513 67.5,-22.9513 64.0001,-32.9514 71.0001,-32.9513\"/>\n",
       "<text text-anchor=\"middle\" x=\"76\" y=\"-44\" font-family=\"Helvetica,sans-Serif\" font-size=\"10.00\" fill=\"#000000\"> 50 </text>\n",
       "</g>\n",
       "</g>\n",
       "</svg>\n"
      ],
      "text/plain": [
       "<graphviz.dot.Digraph at 0x7f6f7242cba8>"
      ]
     },
     "execution_count": 25,
     "metadata": {},
     "output_type": "execute_result"
    }
   ],
   "source": [
    "model = Sequential(sas, model_table=name)\n",
    "\n",
    "model.add(InputLayer(std='STD'))\n",
    "model.add(Recurrent(rnn_type='LSTM', output_type='samelength', n=100, dropout=0.1, act='tanh'))\n",
    "model.add(Recurrent(rnn_type='LSTM', output_type='encoding',  n=50, dropout=0.1, act='tanh'))\n",
    "model.add(OutputLayer(n=1, full_connect=True, act='sigmoid', error='entropy'))\n",
    "\n",
    "model.plot_network()"
   ]
  },
  {
   "cell_type": "code",
   "execution_count": 26,
   "metadata": {},
   "outputs": [],
   "source": [
    "optimizer = Optimizer(algorithm=AdamSolver(), \n",
    "                      max_epochs=100, \n",
    "                      mini_batch_size=200,\n",
    "                      seed=1234)"
   ]
  },
  {
   "cell_type": "code",
   "execution_count": 27,
   "metadata": {},
   "outputs": [],
   "source": [
    "seq_spec  = Sequence(**ts_train.sequence_opt)"
   ]
  },
  {
   "cell_type": "code",
   "execution_count": 30,
   "metadata": {},
   "outputs": [
    {
     "name": "stdout",
     "output_type": "stream",
     "text": [
      "NOTE: Training from scratch.\n"
     ]
    }
   ],
   "source": [
    "model.fit(smp_train,\n",
    "          valid_table=smp_valid,\n",
    "          optimizer=optimizer,\n",
    "          sequence=seq_spec,\n",
    "          **ts_train.inputs_target,\n",
    "          log_level=2)"
   ]
  },
  {
   "cell_type": "code",
   "execution_count": 31,
   "metadata": {},
   "outputs": [
    {
     "data": {
      "text/plain": [
       "<matplotlib.axes._subplots.AxesSubplot at 0x7f6f722cb860>"
      ]
     },
     "execution_count": 31,
     "metadata": {},
     "output_type": "execute_result"
    },
    {
     "data": {
      "image/png": "[encoded data removed]",
      "text/plain": [
       "<Figure size 864x360 with 1 Axes>"
      ]
     },
     "metadata": {
      "needs_background": "light"
     },
     "output_type": "display_data"
    }
   ],
   "source": [
    "model.plot_training_history(tick_frequency=5)"
   ]
  },
  {
   "cell_type": "code",
   "execution_count": 32,
   "metadata": {
    "scrolled": true
   },
   "outputs": [
    {
     "data": {
      "text/html": [
       "<div class=\"cas-results-key\"><b>&#167; ModelInfo</b></div>\n",
       "<div class=\"cas-results-body\">\n",
       "<div>\n",
       "<style scoped>\n",
       "    .dataframe tbody tr th:only-of-type {\n",
       "        vertical-align: middle;\n",
       "    }\n",
       "\n",
       "    .dataframe tbody tr th {\n",
       "        vertical-align: top;\n",
       "    }\n",
       "\n",
       "    .dataframe thead th {\n",
       "        text-align: right;\n",
       "    }\n",
       "</style>\n",
       "<table border=\"1\" class=\"dataframe\">\n",
       "  <thead>\n",
       "    <tr style=\"text-align: right;\">\n",
       "      <th title=\"\"></th>\n",
       "      <th title=\"Descr\">Descr</th>\n",
       "      <th title=\"Value\">Value</th>\n",
       "    </tr>\n",
       "  </thead>\n",
       "  <tbody>\n",
       "    <tr>\n",
       "      <th>0</th>\n",
       "      <td>Model Name</td>\n",
       "      <td>lstm_002</td>\n",
       "    </tr>\n",
       "    <tr>\n",
       "      <th>1</th>\n",
       "      <td>Model Type</td>\n",
       "      <td>Recurrent Neural Network</td>\n",
       "    </tr>\n",
       "    <tr>\n",
       "      <th>2</th>\n",
       "      <td>Number of Layers</td>\n",
       "      <td>4</td>\n",
       "    </tr>\n",
       "    <tr>\n",
       "      <th>3</th>\n",
       "      <td>Number of Input Layers</td>\n",
       "      <td>1</td>\n",
       "    </tr>\n",
       "    <tr>\n",
       "      <th>4</th>\n",
       "      <td>Number of Output Layers</td>\n",
       "      <td>1</td>\n",
       "    </tr>\n",
       "    <tr>\n",
       "      <th>5</th>\n",
       "      <td>Number of Convolutional Layers</td>\n",
       "      <td>0</td>\n",
       "    </tr>\n",
       "    <tr>\n",
       "      <th>6</th>\n",
       "      <td>Number of Pooling Layers</td>\n",
       "      <td>0</td>\n",
       "    </tr>\n",
       "    <tr>\n",
       "      <th>7</th>\n",
       "      <td>Number of Fully Connected Layers</td>\n",
       "      <td>0</td>\n",
       "    </tr>\n",
       "    <tr>\n",
       "      <th>8</th>\n",
       "      <td>Number of Recurrent Layers</td>\n",
       "      <td>2</td>\n",
       "    </tr>\n",
       "    <tr>\n",
       "      <th>9</th>\n",
       "      <td>Number of Weight Parameters</td>\n",
       "      <td>80500</td>\n",
       "    </tr>\n",
       "    <tr>\n",
       "      <th>10</th>\n",
       "      <td>Number of Bias Parameters</td>\n",
       "      <td>601</td>\n",
       "    </tr>\n",
       "    <tr>\n",
       "      <th>11</th>\n",
       "      <td>Total Number of Model Parameters</td>\n",
       "      <td>81101</td>\n",
       "    </tr>\n",
       "    <tr>\n",
       "      <th>12</th>\n",
       "      <td>Approximate Memory Cost for Training (MB)</td>\n",
       "      <td>489</td>\n",
       "    </tr>\n",
       "  </tbody>\n",
       "</table>\n",
       "</div>\n",
       "</div>\n",
       "<div class=\"cas-results-key\"><hr/><b>&#167; OptIterHistory</b></div>\n",
       "<div class=\"cas-results-body\">\n",
       "<div>\n",
       "<style scoped>\n",
       "    .dataframe tbody tr th:only-of-type {\n",
       "        vertical-align: middle;\n",
       "    }\n",
       "\n",
       "    .dataframe tbody tr th {\n",
       "        vertical-align: top;\n",
       "    }\n",
       "\n",
       "    .dataframe thead th {\n",
       "        text-align: right;\n",
       "    }\n",
       "</style>\n",
       "<table border=\"1\" class=\"dataframe\">\n",
       "  <thead>\n",
       "    <tr style=\"text-align: right;\">\n",
       "      <th title=\"\"></th>\n",
       "      <th title=\"Epoch\">Epoch</th>\n",
       "      <th title=\"LearningRate\">LearningRate</th>\n",
       "      <th title=\"Loss\">Loss</th>\n",
       "      <th title=\"FitError\">FitError</th>\n",
       "      <th title=\"ValidLoss\">ValidLoss</th>\n",
       "      <th title=\"ValidError\">ValidError</th>\n",
       "    </tr>\n",
       "  </thead>\n",
       "  <tbody>\n",
       "    <tr>\n",
       "      <th>0</th>\n",
       "      <td>1</td>\n",
       "      <td>0.001</td>\n",
       "      <td>0.294160</td>\n",
       "      <td>0.163765</td>\n",
       "      <td>0.365541</td>\n",
       "      <td>0.159511</td>\n",
       "    </tr>\n",
       "    <tr>\n",
       "      <th>1</th>\n",
       "      <td>2</td>\n",
       "      <td>0.001</td>\n",
       "      <td>0.358675</td>\n",
       "      <td>0.159683</td>\n",
       "      <td>0.339223</td>\n",
       "      <td>0.158260</td>\n",
       "    </tr>\n",
       "    <tr>\n",
       "      <th>2</th>\n",
       "      <td>3</td>\n",
       "      <td>0.001</td>\n",
       "      <td>0.326594</td>\n",
       "      <td>0.158888</td>\n",
       "      <td>0.315767</td>\n",
       "      <td>0.157562</td>\n",
       "    </tr>\n",
       "    <tr>\n",
       "      <th>3</th>\n",
       "      <td>4</td>\n",
       "      <td>0.001</td>\n",
       "      <td>0.319933</td>\n",
       "      <td>0.159123</td>\n",
       "      <td>0.327779</td>\n",
       "      <td>0.157038</td>\n",
       "    </tr>\n",
       "    <tr>\n",
       "      <th>4</th>\n",
       "      <td>5</td>\n",
       "      <td>0.001</td>\n",
       "      <td>0.327877</td>\n",
       "      <td>0.157222</td>\n",
       "      <td>0.327989</td>\n",
       "      <td>0.155804</td>\n",
       "    </tr>\n",
       "    <tr>\n",
       "      <th>5</th>\n",
       "      <td>6</td>\n",
       "      <td>0.001</td>\n",
       "      <td>0.320070</td>\n",
       "      <td>0.155622</td>\n",
       "      <td>0.321235</td>\n",
       "      <td>0.153540</td>\n",
       "    </tr>\n",
       "    <tr>\n",
       "      <th>6</th>\n",
       "      <td>7</td>\n",
       "      <td>0.001</td>\n",
       "      <td>0.316259</td>\n",
       "      <td>0.152140</td>\n",
       "      <td>0.355822</td>\n",
       "      <td>0.153577</td>\n",
       "    </tr>\n",
       "    <tr>\n",
       "      <th>7</th>\n",
       "      <td>8</td>\n",
       "      <td>0.001</td>\n",
       "      <td>0.292366</td>\n",
       "      <td>0.142825</td>\n",
       "      <td>0.369953</td>\n",
       "      <td>0.151244</td>\n",
       "    </tr>\n",
       "    <tr>\n",
       "      <th>8</th>\n",
       "      <td>9</td>\n",
       "      <td>0.001</td>\n",
       "      <td>0.253742</td>\n",
       "      <td>0.125191</td>\n",
       "      <td>0.322916</td>\n",
       "      <td>0.131806</td>\n",
       "    </tr>\n",
       "    <tr>\n",
       "      <th>9</th>\n",
       "      <td>10</td>\n",
       "      <td>0.001</td>\n",
       "      <td>0.202507</td>\n",
       "      <td>0.108623</td>\n",
       "      <td>0.393054</td>\n",
       "      <td>0.141143</td>\n",
       "    </tr>\n",
       "    <tr>\n",
       "      <th>10</th>\n",
       "      <td>11</td>\n",
       "      <td>0.001</td>\n",
       "      <td>0.219024</td>\n",
       "      <td>0.105730</td>\n",
       "      <td>0.117275</td>\n",
       "      <td>0.079735</td>\n",
       "    </tr>\n",
       "    <tr>\n",
       "      <th>11</th>\n",
       "      <td>12</td>\n",
       "      <td>0.001</td>\n",
       "      <td>0.176620</td>\n",
       "      <td>0.088557</td>\n",
       "      <td>0.225417</td>\n",
       "      <td>0.083332</td>\n",
       "    </tr>\n",
       "    <tr>\n",
       "      <th>12</th>\n",
       "      <td>13</td>\n",
       "      <td>0.001</td>\n",
       "      <td>0.166592</td>\n",
       "      <td>0.080239</td>\n",
       "      <td>0.114144</td>\n",
       "      <td>0.060509</td>\n",
       "    </tr>\n",
       "    <tr>\n",
       "      <th>13</th>\n",
       "      <td>14</td>\n",
       "      <td>0.001</td>\n",
       "      <td>0.140463</td>\n",
       "      <td>0.071626</td>\n",
       "      <td>0.207830</td>\n",
       "      <td>0.076323</td>\n",
       "    </tr>\n",
       "    <tr>\n",
       "      <th>14</th>\n",
       "      <td>15</td>\n",
       "      <td>0.001</td>\n",
       "      <td>0.146794</td>\n",
       "      <td>0.070067</td>\n",
       "      <td>0.085072</td>\n",
       "      <td>0.050363</td>\n",
       "    </tr>\n",
       "    <tr>\n",
       "      <th>15</th>\n",
       "      <td>16</td>\n",
       "      <td>0.001</td>\n",
       "      <td>0.121602</td>\n",
       "      <td>0.063874</td>\n",
       "      <td>0.137513</td>\n",
       "      <td>0.052574</td>\n",
       "    </tr>\n",
       "    <tr>\n",
       "      <th>16</th>\n",
       "      <td>17</td>\n",
       "      <td>0.001</td>\n",
       "      <td>0.119181</td>\n",
       "      <td>0.061473</td>\n",
       "      <td>0.114911</td>\n",
       "      <td>0.050532</td>\n",
       "    </tr>\n",
       "    <tr>\n",
       "      <th>17</th>\n",
       "      <td>18</td>\n",
       "      <td>0.001</td>\n",
       "      <td>0.112611</td>\n",
       "      <td>0.057841</td>\n",
       "      <td>0.109190</td>\n",
       "      <td>0.043873</td>\n",
       "    </tr>\n",
       "    <tr>\n",
       "      <th>18</th>\n",
       "      <td>19</td>\n",
       "      <td>0.001</td>\n",
       "      <td>0.115597</td>\n",
       "      <td>0.056861</td>\n",
       "      <td>0.093992</td>\n",
       "      <td>0.042778</td>\n",
       "    </tr>\n",
       "    <tr>\n",
       "      <th>19</th>\n",
       "      <td>20</td>\n",
       "      <td>0.001</td>\n",
       "      <td>0.101481</td>\n",
       "      <td>0.054013</td>\n",
       "      <td>0.095723</td>\n",
       "      <td>0.038831</td>\n",
       "    </tr>\n",
       "    <tr>\n",
       "      <th>20</th>\n",
       "      <td>21</td>\n",
       "      <td>0.001</td>\n",
       "      <td>0.108558</td>\n",
       "      <td>0.055504</td>\n",
       "      <td>0.083168</td>\n",
       "      <td>0.037144</td>\n",
       "    </tr>\n",
       "    <tr>\n",
       "      <th>21</th>\n",
       "      <td>22</td>\n",
       "      <td>0.001</td>\n",
       "      <td>0.095822</td>\n",
       "      <td>0.051128</td>\n",
       "      <td>0.111776</td>\n",
       "      <td>0.043054</td>\n",
       "    </tr>\n",
       "    <tr>\n",
       "      <th>22</th>\n",
       "      <td>23</td>\n",
       "      <td>0.001</td>\n",
       "      <td>0.107281</td>\n",
       "      <td>0.051202</td>\n",
       "      <td>0.076442</td>\n",
       "      <td>0.034282</td>\n",
       "    </tr>\n",
       "    <tr>\n",
       "      <th>23</th>\n",
       "      <td>24</td>\n",
       "      <td>0.001</td>\n",
       "      <td>0.091617</td>\n",
       "      <td>0.047990</td>\n",
       "      <td>0.075783</td>\n",
       "      <td>0.032274</td>\n",
       "    </tr>\n",
       "    <tr>\n",
       "      <th>24</th>\n",
       "      <td>25</td>\n",
       "      <td>0.001</td>\n",
       "      <td>0.093798</td>\n",
       "      <td>0.049442</td>\n",
       "      <td>0.094632</td>\n",
       "      <td>0.038418</td>\n",
       "    </tr>\n",
       "    <tr>\n",
       "      <th>25</th>\n",
       "      <td>26</td>\n",
       "      <td>0.001</td>\n",
       "      <td>0.090461</td>\n",
       "      <td>0.048054</td>\n",
       "      <td>0.075575</td>\n",
       "      <td>0.032306</td>\n",
       "    </tr>\n",
       "    <tr>\n",
       "      <th>26</th>\n",
       "      <td>27</td>\n",
       "      <td>0.001</td>\n",
       "      <td>0.093963</td>\n",
       "      <td>0.046625</td>\n",
       "      <td>0.067085</td>\n",
       "      <td>0.031760</td>\n",
       "    </tr>\n",
       "    <tr>\n",
       "      <th>27</th>\n",
       "      <td>28</td>\n",
       "      <td>0.001</td>\n",
       "      <td>0.082823</td>\n",
       "      <td>0.045607</td>\n",
       "      <td>0.074313</td>\n",
       "      <td>0.030211</td>\n",
       "    </tr>\n",
       "    <tr>\n",
       "      <th>28</th>\n",
       "      <td>29</td>\n",
       "      <td>0.001</td>\n",
       "      <td>0.086250</td>\n",
       "      <td>0.044631</td>\n",
       "      <td>0.074359</td>\n",
       "      <td>0.030934</td>\n",
       "    </tr>\n",
       "    <tr>\n",
       "      <th>29</th>\n",
       "      <td>30</td>\n",
       "      <td>0.001</td>\n",
       "      <td>0.084450</td>\n",
       "      <td>0.045040</td>\n",
       "      <td>0.046550</td>\n",
       "      <td>0.028498</td>\n",
       "    </tr>\n",
       "    <tr>\n",
       "      <th>...</th>\n",
       "      <td>...</td>\n",
       "      <td>...</td>\n",
       "      <td>...</td>\n",
       "      <td>...</td>\n",
       "      <td>...</td>\n",
       "      <td>...</td>\n",
       "    </tr>\n",
       "    <tr>\n",
       "      <th>70</th>\n",
       "      <td>71</td>\n",
       "      <td>0.001</td>\n",
       "      <td>0.054022</td>\n",
       "      <td>0.032406</td>\n",
       "      <td>0.075075</td>\n",
       "      <td>0.025818</td>\n",
       "    </tr>\n",
       "    <tr>\n",
       "      <th>71</th>\n",
       "      <td>72</td>\n",
       "      <td>0.001</td>\n",
       "      <td>0.062460</td>\n",
       "      <td>0.029823</td>\n",
       "      <td>0.020994</td>\n",
       "      <td>0.022387</td>\n",
       "    </tr>\n",
       "    <tr>\n",
       "      <th>72</th>\n",
       "      <td>73</td>\n",
       "      <td>0.001</td>\n",
       "      <td>0.057675</td>\n",
       "      <td>0.037822</td>\n",
       "      <td>0.117457</td>\n",
       "      <td>0.037875</td>\n",
       "    </tr>\n",
       "    <tr>\n",
       "      <th>73</th>\n",
       "      <td>74</td>\n",
       "      <td>0.001</td>\n",
       "      <td>0.077445</td>\n",
       "      <td>0.036235</td>\n",
       "      <td>0.026573</td>\n",
       "      <td>0.020210</td>\n",
       "    </tr>\n",
       "    <tr>\n",
       "      <th>74</th>\n",
       "      <td>75</td>\n",
       "      <td>0.001</td>\n",
       "      <td>0.054800</td>\n",
       "      <td>0.034185</td>\n",
       "      <td>0.062541</td>\n",
       "      <td>0.022167</td>\n",
       "    </tr>\n",
       "    <tr>\n",
       "      <th>75</th>\n",
       "      <td>76</td>\n",
       "      <td>0.001</td>\n",
       "      <td>0.064086</td>\n",
       "      <td>0.030281</td>\n",
       "      <td>0.041323</td>\n",
       "      <td>0.018345</td>\n",
       "    </tr>\n",
       "    <tr>\n",
       "      <th>76</th>\n",
       "      <td>77</td>\n",
       "      <td>0.001</td>\n",
       "      <td>0.049081</td>\n",
       "      <td>0.027635</td>\n",
       "      <td>0.035061</td>\n",
       "      <td>0.017962</td>\n",
       "    </tr>\n",
       "    <tr>\n",
       "      <th>77</th>\n",
       "      <td>78</td>\n",
       "      <td>0.001</td>\n",
       "      <td>0.051108</td>\n",
       "      <td>0.027927</td>\n",
       "      <td>0.051445</td>\n",
       "      <td>0.019668</td>\n",
       "    </tr>\n",
       "    <tr>\n",
       "      <th>78</th>\n",
       "      <td>79</td>\n",
       "      <td>0.001</td>\n",
       "      <td>0.050902</td>\n",
       "      <td>0.027746</td>\n",
       "      <td>0.042076</td>\n",
       "      <td>0.017918</td>\n",
       "    </tr>\n",
       "    <tr>\n",
       "      <th>79</th>\n",
       "      <td>80</td>\n",
       "      <td>0.001</td>\n",
       "      <td>0.053251</td>\n",
       "      <td>0.028221</td>\n",
       "      <td>0.050160</td>\n",
       "      <td>0.019460</td>\n",
       "    </tr>\n",
       "    <tr>\n",
       "      <th>80</th>\n",
       "      <td>81</td>\n",
       "      <td>0.001</td>\n",
       "      <td>0.052131</td>\n",
       "      <td>0.027935</td>\n",
       "      <td>0.032772</td>\n",
       "      <td>0.017931</td>\n",
       "    </tr>\n",
       "    <tr>\n",
       "      <th>81</th>\n",
       "      <td>82</td>\n",
       "      <td>0.001</td>\n",
       "      <td>0.051281</td>\n",
       "      <td>0.028669</td>\n",
       "      <td>0.056119</td>\n",
       "      <td>0.020292</td>\n",
       "    </tr>\n",
       "    <tr>\n",
       "      <th>82</th>\n",
       "      <td>83</td>\n",
       "      <td>0.001</td>\n",
       "      <td>0.054305</td>\n",
       "      <td>0.028343</td>\n",
       "      <td>0.024683</td>\n",
       "      <td>0.018838</td>\n",
       "    </tr>\n",
       "    <tr>\n",
       "      <th>83</th>\n",
       "      <td>84</td>\n",
       "      <td>0.001</td>\n",
       "      <td>0.050345</td>\n",
       "      <td>0.030649</td>\n",
       "      <td>0.087644</td>\n",
       "      <td>0.028855</td>\n",
       "    </tr>\n",
       "    <tr>\n",
       "      <th>84</th>\n",
       "      <td>85</td>\n",
       "      <td>0.001</td>\n",
       "      <td>0.063100</td>\n",
       "      <td>0.030606</td>\n",
       "      <td>0.017016</td>\n",
       "      <td>0.023120</td>\n",
       "    </tr>\n",
       "    <tr>\n",
       "      <th>85</th>\n",
       "      <td>86</td>\n",
       "      <td>0.001</td>\n",
       "      <td>0.056183</td>\n",
       "      <td>0.035847</td>\n",
       "      <td>0.088785</td>\n",
       "      <td>0.027959</td>\n",
       "    </tr>\n",
       "    <tr>\n",
       "      <th>86</th>\n",
       "      <td>87</td>\n",
       "      <td>0.001</td>\n",
       "      <td>0.066568</td>\n",
       "      <td>0.032472</td>\n",
       "      <td>0.053712</td>\n",
       "      <td>0.020690</td>\n",
       "    </tr>\n",
       "    <tr>\n",
       "      <th>87</th>\n",
       "      <td>88</td>\n",
       "      <td>0.001</td>\n",
       "      <td>0.053189</td>\n",
       "      <td>0.028419</td>\n",
       "      <td>0.024569</td>\n",
       "      <td>0.020445</td>\n",
       "    </tr>\n",
       "    <tr>\n",
       "      <th>88</th>\n",
       "      <td>89</td>\n",
       "      <td>0.001</td>\n",
       "      <td>0.050122</td>\n",
       "      <td>0.031209</td>\n",
       "      <td>0.078747</td>\n",
       "      <td>0.025744</td>\n",
       "    </tr>\n",
       "    <tr>\n",
       "      <th>89</th>\n",
       "      <td>90</td>\n",
       "      <td>0.001</td>\n",
       "      <td>0.061338</td>\n",
       "      <td>0.030733</td>\n",
       "      <td>0.015067</td>\n",
       "      <td>0.024507</td>\n",
       "    </tr>\n",
       "    <tr>\n",
       "      <th>90</th>\n",
       "      <td>91</td>\n",
       "      <td>0.001</td>\n",
       "      <td>0.054810</td>\n",
       "      <td>0.036873</td>\n",
       "      <td>0.095162</td>\n",
       "      <td>0.032487</td>\n",
       "    </tr>\n",
       "    <tr>\n",
       "      <th>91</th>\n",
       "      <td>92</td>\n",
       "      <td>0.001</td>\n",
       "      <td>0.065845</td>\n",
       "      <td>0.030761</td>\n",
       "      <td>0.025903</td>\n",
       "      <td>0.018950</td>\n",
       "    </tr>\n",
       "    <tr>\n",
       "      <th>92</th>\n",
       "      <td>93</td>\n",
       "      <td>0.001</td>\n",
       "      <td>0.047429</td>\n",
       "      <td>0.030096</td>\n",
       "      <td>0.055389</td>\n",
       "      <td>0.020260</td>\n",
       "    </tr>\n",
       "    <tr>\n",
       "      <th>93</th>\n",
       "      <td>94</td>\n",
       "      <td>0.001</td>\n",
       "      <td>0.051746</td>\n",
       "      <td>0.026466</td>\n",
       "      <td>0.028235</td>\n",
       "      <td>0.018763</td>\n",
       "    </tr>\n",
       "    <tr>\n",
       "      <th>94</th>\n",
       "      <td>95</td>\n",
       "      <td>0.001</td>\n",
       "      <td>0.050953</td>\n",
       "      <td>0.031344</td>\n",
       "      <td>0.080704</td>\n",
       "      <td>0.025187</td>\n",
       "    </tr>\n",
       "    <tr>\n",
       "      <th>95</th>\n",
       "      <td>96</td>\n",
       "      <td>0.001</td>\n",
       "      <td>0.059764</td>\n",
       "      <td>0.029039</td>\n",
       "      <td>0.032081</td>\n",
       "      <td>0.016482</td>\n",
       "    </tr>\n",
       "    <tr>\n",
       "      <th>96</th>\n",
       "      <td>97</td>\n",
       "      <td>0.001</td>\n",
       "      <td>0.043653</td>\n",
       "      <td>0.028012</td>\n",
       "      <td>0.063276</td>\n",
       "      <td>0.021476</td>\n",
       "    </tr>\n",
       "    <tr>\n",
       "      <th>97</th>\n",
       "      <td>98</td>\n",
       "      <td>0.001</td>\n",
       "      <td>0.054492</td>\n",
       "      <td>0.027392</td>\n",
       "      <td>0.026710</td>\n",
       "      <td>0.016789</td>\n",
       "    </tr>\n",
       "    <tr>\n",
       "      <th>98</th>\n",
       "      <td>99</td>\n",
       "      <td>0.001</td>\n",
       "      <td>0.043166</td>\n",
       "      <td>0.026276</td>\n",
       "      <td>0.049456</td>\n",
       "      <td>0.018386</td>\n",
       "    </tr>\n",
       "    <tr>\n",
       "      <th>99</th>\n",
       "      <td>100</td>\n",
       "      <td>0.001</td>\n",
       "      <td>0.049564</td>\n",
       "      <td>0.025326</td>\n",
       "      <td>0.024249</td>\n",
       "      <td>0.017234</td>\n",
       "    </tr>\n",
       "  </tbody>\n",
       "</table>\n",
       "<p>100 rows × 6 columns</p>\n",
       "</div>\n",
       "</div>\n",
       "<div class=\"cas-results-key\"><hr/><b>&#167; OutputCasTables</b></div>\n",
       "<div class=\"cas-results-body\">\n",
       "<div>\n",
       "<style scoped>\n",
       "    .dataframe tbody tr th:only-of-type {\n",
       "        vertical-align: middle;\n",
       "    }\n",
       "\n",
       "    .dataframe tbody tr th {\n",
       "        vertical-align: top;\n",
       "    }\n",
       "\n",
       "    .dataframe thead th {\n",
       "        text-align: right;\n",
       "    }\n",
       "</style>\n",
       "<table border=\"1\" class=\"dataframe\">\n",
       "  <thead>\n",
       "    <tr style=\"text-align: right;\">\n",
       "      <th title=\"\"></th>\n",
       "      <th title=\"CAS Library\">casLib</th>\n",
       "      <th title=\"Name\">Name</th>\n",
       "      <th title=\"Number of Rows\">Rows</th>\n",
       "      <th title=\"Number of Columns\">Columns</th>\n",
       "      <th title=\"Table\">casTable</th>\n",
       "    </tr>\n",
       "  </thead>\n",
       "  <tbody>\n",
       "    <tr>\n",
       "      <th>0</th>\n",
       "      <td>CASUSER(sasdemo)</td>\n",
       "      <td>lstm_002_weights</td>\n",
       "      <td>81101</td>\n",
       "      <td>3</td>\n",
       "      <td>CASTable('lstm_002_weights', caslib='CASUSER(s...</td>\n",
       "    </tr>\n",
       "  </tbody>\n",
       "</table>\n",
       "</div>\n",
       "</div>\n",
       "<div class=\"cas-output-area\"></div>\n",
       "<p class=\"cas-results-performance\"><small><span class=\"cas-elapsed\">elapsed 419s</span> &#183; <span class=\"cas-user\">user 3.55e+03s</span> &#183; <span class=\"cas-sys\">sys 4.62s</span> &#183; <span class=\"cas-memory\">mem 554MB</span></small></p>"
      ],
      "text/plain": [
       "[ModelInfo]\n",
       "\n",
       "                                         Descr                     Value\n",
       " 0                                  Model Name                  lstm_002\n",
       " 1                                  Model Type  Recurrent Neural Network\n",
       " 2                            Number of Layers                         4\n",
       " 3                      Number of Input Layers                         1\n",
       " 4                     Number of Output Layers                         1\n",
       " 5              Number of Convolutional Layers                         0\n",
       " 6                    Number of Pooling Layers                         0\n",
       " 7            Number of Fully Connected Layers                         0\n",
       " 8                  Number of Recurrent Layers                         2\n",
       " 9                 Number of Weight Parameters                     80500\n",
       " 10                  Number of Bias Parameters                       601\n",
       " 11           Total Number of Model Parameters                     81101\n",
       " 12  Approximate Memory Cost for Training (MB)                       489\n",
       "\n",
       "[OptIterHistory]\n",
       "\n",
       "     Epoch  LearningRate      Loss  FitError  ValidLoss  ValidError\n",
       " 0       1         0.001  0.294160  0.163765   0.365541    0.159511\n",
       " 1       2         0.001  0.358675  0.159683   0.339223    0.158260\n",
       " 2       3         0.001  0.326594  0.158888   0.315767    0.157562\n",
       " 3       4         0.001  0.319933  0.159123   0.327779    0.157038\n",
       " 4       5         0.001  0.327877  0.157222   0.327989    0.155804\n",
       " 5       6         0.001  0.320070  0.155622   0.321235    0.153540\n",
       " 6       7         0.001  0.316259  0.152140   0.355822    0.153577\n",
       " 7       8         0.001  0.292366  0.142825   0.369953    0.151244\n",
       " 8       9         0.001  0.253742  0.125191   0.322916    0.131806\n",
       " 9      10         0.001  0.202507  0.108623   0.393054    0.141143\n",
       " 10     11         0.001  0.219024  0.105730   0.117275    0.079735\n",
       " 11     12         0.001  0.176620  0.088557   0.225417    0.083332\n",
       " 12     13         0.001  0.166592  0.080239   0.114144    0.060509\n",
       " 13     14         0.001  0.140463  0.071626   0.207830    0.076323\n",
       " 14     15         0.001  0.146794  0.070067   0.085072    0.050363\n",
       " 15     16         0.001  0.121602  0.063874   0.137513    0.052574\n",
       " 16     17         0.001  0.119181  0.061473   0.114911    0.050532\n",
       " 17     18         0.001  0.112611  0.057841   0.109190    0.043873\n",
       " 18     19         0.001  0.115597  0.056861   0.093992    0.042778\n",
       " 19     20         0.001  0.101481  0.054013   0.095723    0.038831\n",
       " 20     21         0.001  0.108558  0.055504   0.083168    0.037144\n",
       " 21     22         0.001  0.095822  0.051128   0.111776    0.043054\n",
       " 22     23         0.001  0.107281  0.051202   0.076442    0.034282\n",
       " 23     24         0.001  0.091617  0.047990   0.075783    0.032274\n",
       " 24     25         0.001  0.093798  0.049442   0.094632    0.038418\n",
       " 25     26         0.001  0.090461  0.048054   0.075575    0.032306\n",
       " 26     27         0.001  0.093963  0.046625   0.067085    0.031760\n",
       " 27     28         0.001  0.082823  0.045607   0.074313    0.030211\n",
       " 28     29         0.001  0.086250  0.044631   0.074359    0.030934\n",
       " 29     30         0.001  0.084450  0.045040   0.046550    0.028498\n",
       " ..    ...           ...       ...       ...        ...         ...\n",
       " 70     71         0.001  0.054022  0.032406   0.075075    0.025818\n",
       " 71     72         0.001  0.062460  0.029823   0.020994    0.022387\n",
       " 72     73         0.001  0.057675  0.037822   0.117457    0.037875\n",
       " 73     74         0.001  0.077445  0.036235   0.026573    0.020210\n",
       " 74     75         0.001  0.054800  0.034185   0.062541    0.022167\n",
       " 75     76         0.001  0.064086  0.030281   0.041323    0.018345\n",
       " 76     77         0.001  0.049081  0.027635   0.035061    0.017962\n",
       " 77     78         0.001  0.051108  0.027927   0.051445    0.019668\n",
       " 78     79         0.001  0.050902  0.027746   0.042076    0.017918\n",
       " 79     80         0.001  0.053251  0.028221   0.050160    0.019460\n",
       " 80     81         0.001  0.052131  0.027935   0.032772    0.017931\n",
       " 81     82         0.001  0.051281  0.028669   0.056119    0.020292\n",
       " 82     83         0.001  0.054305  0.028343   0.024683    0.018838\n",
       " 83     84         0.001  0.050345  0.030649   0.087644    0.028855\n",
       " 84     85         0.001  0.063100  0.030606   0.017016    0.023120\n",
       " 85     86         0.001  0.056183  0.035847   0.088785    0.027959\n",
       " 86     87         0.001  0.066568  0.032472   0.053712    0.020690\n",
       " 87     88         0.001  0.053189  0.028419   0.024569    0.020445\n",
       " 88     89         0.001  0.050122  0.031209   0.078747    0.025744\n",
       " 89     90         0.001  0.061338  0.030733   0.015067    0.024507\n",
       " 90     91         0.001  0.054810  0.036873   0.095162    0.032487\n",
       " 91     92         0.001  0.065845  0.030761   0.025903    0.018950\n",
       " 92     93         0.001  0.047429  0.030096   0.055389    0.020260\n",
       " 93     94         0.001  0.051746  0.026466   0.028235    0.018763\n",
       " 94     95         0.001  0.050953  0.031344   0.080704    0.025187\n",
       " 95     96         0.001  0.059764  0.029039   0.032081    0.016482\n",
       " 96     97         0.001  0.043653  0.028012   0.063276    0.021476\n",
       " 97     98         0.001  0.054492  0.027392   0.026710    0.016789\n",
       " 98     99         0.001  0.043166  0.026276   0.049456    0.018386\n",
       " 99    100         0.001  0.049564  0.025326   0.024249    0.017234\n",
       " \n",
       " [100 rows x 6 columns]\n",
       "\n",
       "[OutputCasTables]\n",
       "\n",
       "              casLib              Name   Rows  Columns  \\\n",
       " 0  CASUSER(sasdemo)  lstm_002_weights  81101        3   \n",
       " \n",
       "                                             casTable  \n",
       " 0  CASTable('lstm_002_weights', caslib='CASUSER(s...  \n",
       "\n",
       "+ Elapsed: 419s, user: 3.55e+03s, sys: 4.62s, mem: 554mb"
      ]
     },
     "execution_count": 32,
     "metadata": {},
     "output_type": "execute_result"
    }
   ],
   "source": [
    "result"
   ]
  },
  {
   "cell_type": "markdown",
   "metadata": {},
   "source": [
    "# Evaluate"
   ]
  },
  {
   "cell_type": "code",
   "execution_count": 83,
   "metadata": {},
   "outputs": [
    {
     "data": {
      "text/html": [
       "<div class=\"cas-results-key\"><b>&#167; ScoreInfo</b></div>\n",
       "<div class=\"cas-results-body\">\n",
       "<div>\n",
       "<style scoped>\n",
       "    .dataframe tbody tr th:only-of-type {\n",
       "        vertical-align: middle;\n",
       "    }\n",
       "\n",
       "    .dataframe tbody tr th {\n",
       "        vertical-align: top;\n",
       "    }\n",
       "\n",
       "    .dataframe thead th {\n",
       "        text-align: right;\n",
       "    }\n",
       "</style>\n",
       "<table border=\"1\" class=\"dataframe\">\n",
       "  <thead>\n",
       "    <tr style=\"text-align: right;\">\n",
       "      <th title=\"\"></th>\n",
       "      <th title=\"Descr\">Descr</th>\n",
       "      <th title=\"Value\">Value</th>\n",
       "    </tr>\n",
       "  </thead>\n",
       "  <tbody>\n",
       "    <tr>\n",
       "      <th>0</th>\n",
       "      <td>Number of Observations Read</td>\n",
       "      <td>8255</td>\n",
       "    </tr>\n",
       "    <tr>\n",
       "      <th>1</th>\n",
       "      <td>Number of Observations Used</td>\n",
       "      <td>8255</td>\n",
       "    </tr>\n",
       "    <tr>\n",
       "      <th>2</th>\n",
       "      <td>Mean Squared Error</td>\n",
       "      <td>0.009757</td>\n",
       "    </tr>\n",
       "    <tr>\n",
       "      <th>3</th>\n",
       "      <td>Loss Error</td>\n",
       "      <td>0.016945</td>\n",
       "    </tr>\n",
       "  </tbody>\n",
       "</table>\n",
       "</div>\n",
       "</div>\n",
       "<div class=\"cas-results-key\"><hr/><b>&#167; OutputCasTables</b></div>\n",
       "<div class=\"cas-results-body\">\n",
       "<div>\n",
       "<style scoped>\n",
       "    .dataframe tbody tr th:only-of-type {\n",
       "        vertical-align: middle;\n",
       "    }\n",
       "\n",
       "    .dataframe tbody tr th {\n",
       "        vertical-align: top;\n",
       "    }\n",
       "\n",
       "    .dataframe thead th {\n",
       "        text-align: right;\n",
       "    }\n",
       "</style>\n",
       "<table border=\"1\" class=\"dataframe\">\n",
       "  <thead>\n",
       "    <tr style=\"text-align: right;\">\n",
       "      <th title=\"\"></th>\n",
       "      <th title=\"CAS Library\">casLib</th>\n",
       "      <th title=\"Name\">Name</th>\n",
       "      <th title=\"Number of Rows\">Rows</th>\n",
       "      <th title=\"Number of Columns\">Columns</th>\n",
       "      <th title=\"Table\">casTable</th>\n",
       "    </tr>\n",
       "  </thead>\n",
       "  <tbody>\n",
       "    <tr>\n",
       "      <th>0</th>\n",
       "      <td>CASUSER(sasdemo)</td>\n",
       "      <td>lstm_pred</td>\n",
       "      <td>8255</td>\n",
       "      <td>4</td>\n",
       "      <td>CASTable('lstm_pred', caslib='CASUSER(sasdemo)')</td>\n",
       "    </tr>\n",
       "  </tbody>\n",
       "</table>\n",
       "</div>\n",
       "</div>\n",
       "<div class=\"cas-output-area\"></div>\n",
       "<p class=\"cas-results-performance\"><small><span class=\"cas-elapsed\">elapsed 2.24s</span> &#183; <span class=\"cas-user\">user 12.8s</span> &#183; <span class=\"cas-sys\">sys 0.055s</span> &#183; <span class=\"cas-memory\">mem 41.3MB</span></small></p>"
      ],
      "text/plain": [
       "[ScoreInfo]\n",
       "\n",
       "                          Descr         Value\n",
       " 0  Number of Observations Read          8255\n",
       " 1  Number of Observations Used          8255\n",
       " 2           Mean Squared Error      0.009757\n",
       " 3                   Loss Error      0.016945\n",
       "\n",
       "[OutputCasTables]\n",
       "\n",
       "              casLib       Name  Rows  Columns  \\\n",
       " 0  CASUSER(sasdemo)  lstm_pred  8255        4   \n",
       " \n",
       "                                            casTable  \n",
       " 0  CASTable('lstm_pred', caslib='CASUSER(sasdemo)')  \n",
       "\n",
       "+ Elapsed: 2.24s, user: 12.8s, sys: 0.055s, mem: 41.3mb"
      ]
     },
     "execution_count": 83,
     "metadata": {},
     "output_type": "execute_result"
    }
   ],
   "source": [
    "model.score(ts_test,\n",
    "            model=name,\n",
    "            init_weights=name+'_weights', \n",
    "            copy_vars=['id','cycle','nearfailure'],\n",
    "            casout={'name':'lstm_pred', 'replace':True})"
   ]
  },
  {
   "cell_type": "code",
   "execution_count": 84,
   "metadata": {},
   "outputs": [
    {
     "name": "stdout",
     "output_type": "stream",
     "text": [
      "NOTE: Table LSTM_PRED was created in caslib CASUSER(sasdemo) with 8255 rows returned.\n"
     ]
    },
    {
     "data": {
      "text/html": [
       "<div class=\"cas-output-area\"></div>\n",
       "<p class=\"cas-results-performance\"><small><span class=\"cas-elapsed\">elapsed 0.0483s</span> &#183; <span class=\"cas-user\">user 0.049s</span> &#183; <span class=\"cas-sys\">sys 0.028s</span> &#183; <span class=\"cas-memory\">mem 26.3MB</span></small></p>"
      ],
      "text/plain": [
       "+ Elapsed: 0.0483s, user: 0.049s, sys: 0.028s, mem: 26.3mb"
      ]
     },
     "execution_count": 84,
     "metadata": {},
     "output_type": "execute_result"
    }
   ],
   "source": [
    "sas.fedsql.execdirect(\n",
    "    '''\n",
    "    create table lstm_pred {options replace=true} as select\n",
    "       *,\n",
    "       case when _DL_Pred_ < 0.5 then 0 else 1 end as nf_pred\n",
    "    from lstm_pred\n",
    "    ''')"
   ]
  },
  {
   "cell_type": "code",
   "execution_count": 85,
   "metadata": {},
   "outputs": [],
   "source": [
    "pred = sas.CASTable('lstm_pred')"
   ]
  },
  {
   "cell_type": "code",
   "execution_count": 86,
   "metadata": {},
   "outputs": [],
   "source": [
    "acc = accuracy_score(ts_test.nearfailure, pred.nf_pred, id_vars='id')\n",
    "auc = roc_auc_score(ts_test.nearfailure, pred.nf_pred, id_vars='id', pos_label=1)\n",
    "cmx = confusion_matrix(ts_test.nearfailure, pred.nf_pred, id_vars='id', labels=[0,1])"
   ]
  },
  {
   "cell_type": "code",
   "execution_count": 87,
   "metadata": {},
   "outputs": [
    {
     "name": "stdout",
     "output_type": "stream",
     "text": [
      "Accuracy Score: 0.9859\n",
      "AUC Score: 0.8974\n",
      "\n",
      "Confusion Matrix:\n",
      "nf_pred           0      1\n",
      "nearfailure               \n",
      "0            7873.0   50.0\n",
      "1              66.0  266.0\n"
     ]
    }
   ],
   "source": [
    "print('Accuracy Score: %.4f' % acc)\n",
    "print('AUC Score: %.4f' % auc)\n",
    "print('\\nConfusion Matrix:\\n%s' % cmx)"
   ]
  },
  {
   "cell_type": "markdown",
   "metadata": {},
   "source": [
    "# Save Model"
   ]
  },
  {
   "cell_type": "code",
   "execution_count": 88,
   "metadata": {},
   "outputs": [
    {
     "name": "stdout",
     "output_type": "stream",
     "text": [
      "NOTE: Model table saved successfully.\n"
     ]
    }
   ],
   "source": [
    "model.save_to_table('/sasdata/pdm')"
   ]
  },
  {
   "cell_type": "code",
   "execution_count": 89,
   "metadata": {},
   "outputs": [
    {
     "name": "stdout",
     "output_type": "stream",
     "text": [
      "NOTE: Model astore file saved successfully.\n"
     ]
    }
   ],
   "source": [
    "model.save_to_astore('/sasdata/pdm')"
   ]
  },
  {
   "cell_type": "markdown",
   "metadata": {},
   "source": [
    "# Save Predictions"
   ]
  },
  {
   "cell_type": "code",
   "execution_count": 90,
   "metadata": {},
   "outputs": [],
   "source": [
    "pred.to_csv('/sasdata/pdm/lstm_002_preds.csv')"
   ]
  },
  {
   "cell_type": "code",
   "execution_count": 91,
   "metadata": {},
   "outputs": [],
   "source": [
    "ts_test.to_csv('/sasdata/pdm/test_vars.csv')"
   ]
  },
  {
   "cell_type": "markdown",
   "metadata": {},
   "source": [
    "# Terminate SAS Viya Session"
   ]
  },
  {
   "cell_type": "code",
   "execution_count": null,
   "metadata": {},
   "outputs": [],
   "source": [
    "sas.terminate()"
   ]
  }
 ],
 "metadata": {
  "kernelspec": {
   "display_name": "Python 3",
   "language": "python",
   "name": "python3"
  },
  "language_info": {
   "codemirror_mode": {
    "name": "ipython",
    "version": 3
   },
   "file_extension": ".py",
   "mimetype": "text/x-python",
   "name": "python",
   "nbconvert_exporter": "python",
   "pygments_lexer": "ipython3",
   "version": "3.7.3"
  }
 },
 "nbformat": 4,
 "nbformat_minor": 2
}
