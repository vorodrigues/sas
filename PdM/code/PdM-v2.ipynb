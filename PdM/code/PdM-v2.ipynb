{
 "cells": [
  {
   "cell_type": "markdown",
   "metadata": {},
   "source": [
    "# Manutenção Preditiva (PdM)\n",
    "\n",
    "O dataset de manutenção preditiva contém dados de 21 sensores e 3 configurações operacionais de turbinas aeronáuticas. A variável target fornecida indica a `RUL` (remaining useful life) do equipamento.\n",
    "\n",
    "O objetivo deste experimento será determinar se estes equipamentos apresentarão alguma falha dentro da uma janela de tempo suficiente para que a sua manutenção seja realizada."
   ]
  },
  {
   "cell_type": "markdown",
   "metadata": {},
   "source": [
    "# Importa Bibliotecas"
   ]
  },
  {
   "cell_type": "markdown",
   "metadata": {},
   "source": [
    "#### DLPy:\n",
    "- https://sassoftware.github.io/python-dlpy/index.html\n",
    "- https://github.com/sassoftware/python-dlpy\n",
    "\n",
    "#### Swat: \n",
    "- https://sassoftware.github.io/python-swat/index.html\n",
    "- https://github.com/sassoftware/python-swat\n",
    "\n",
    "#### Exemplos:\n",
    "- https://github.com/sassoftware/sas-viya-programming"
   ]
  },
  {
   "cell_type": "code",
   "execution_count": 1,
   "metadata": {},
   "outputs": [],
   "source": [
    "from getpass import getpass\n",
    "import numpy as np\n",
    "import pandas as pd\n",
    "import matplotlib.pyplot as plt\n",
    "import swat.cas.datamsghandlers as dmh\n",
    "from swat import *\n",
    "import dlpy\n",
    "from dlpy.timeseries import plot_timeseries\n",
    "from dlpy.splitting import two_way_split\n",
    "from dlpy import Sequential\n",
    "from dlpy.layers import * \n",
    "from dlpy.model import Optimizer, AdamSolver, Sequence\n",
    "from dlpy.metrics import accuracy_score, roc_auc_score, confusion_matrix\n",
    "%matplotlib inline"
   ]
  },
  {
   "cell_type": "markdown",
   "metadata": {},
   "source": [
    "# Parameters"
   ]
  },
  {
   "cell_type": "code",
   "execution_count": 2,
   "metadata": {},
   "outputs": [],
   "source": [
    "period = 30\n",
    "seq_len = 50"
   ]
  },
  {
   "cell_type": "markdown",
   "metadata": {},
   "source": [
    "# Connect to SAS Viya"
   ]
  },
  {
   "cell_type": "code",
   "execution_count": 3,
   "metadata": {},
   "outputs": [
    {
     "name": "stdout",
     "output_type": "stream",
     "text": [
      "Please enter your passwod:········\n"
     ]
    }
   ],
   "source": [
    "sas = CAS('localhost', 5570, 'sasdemo', getpass('Please enter your passwod:'))"
   ]
  },
  {
   "cell_type": "markdown",
   "metadata": {},
   "source": [
    "# Load Action Sets"
   ]
  },
  {
   "cell_type": "code",
   "execution_count": 4,
   "metadata": {
    "scrolled": false
   },
   "outputs": [
    {
     "name": "stdout",
     "output_type": "stream",
     "text": [
      "NOTE: Added action set 'fedSql'.\n"
     ]
    },
    {
     "data": {
      "text/html": [
       "<div class=\"cas-results-key\"><b>&#167; actionset</b></div>\n",
       "<div class=\"cas-results-body\">\n",
       "<div>fedSql</div>\n",
       "</div>\n",
       "<div class=\"cas-output-area\"></div>\n",
       "<p class=\"cas-results-performance\"><small><span class=\"cas-elapsed\">elapsed 0.0018s</span> &#183; <span class=\"cas-sys\">sys 0.002s</span> &#183; <span class=\"cas-memory\">mem 0.248MB</span></small></p>"
      ],
      "text/plain": [
       "[actionset]\n",
       "\n",
       " 'fedSql'\n",
       "\n",
       "+ Elapsed: 0.0018s, sys: 0.002s, mem: 0.248mb"
      ]
     },
     "execution_count": 4,
     "metadata": {},
     "output_type": "execute_result"
    }
   ],
   "source": [
    "sas.loadactionset('fedSql')"
   ]
  },
  {
   "cell_type": "markdown",
   "metadata": {},
   "source": [
    "# Prepare Train Data"
   ]
  },
  {
   "cell_type": "code",
   "execution_count": 5,
   "metadata": {},
   "outputs": [
    {
     "name": "stdout",
     "output_type": "stream",
     "text": [
      "NOTE: Cloud Analytic Services made the uploaded file available as table TRAIN in caslib CASUSER(sasdemo).\n",
      "NOTE: The table TRAIN has been created in caslib CASUSER(sasdemo) from binary data uploaded to Cloud Analytic Services.\n",
      "Index(['id', 'cycle', 'setting1', 'setting2', 'setting3', 's1', 's2', 's3',\n",
      "       's4', 's5', 's6', 's7', 's8', 's9', 's10', 's11', 's12', 's13', 's14',\n",
      "       's15', 's16', 's17', 's18', 's19', 's20', 's21', 'Unnamed: 26',\n",
      "       'Unnamed: 27'],\n",
      "      dtype='object')\n",
      "(20631, 28)\n"
     ]
    }
   ],
   "source": [
    "train = sas.read_csv('/sasdata/pdm/PM_train.txt', sep=' ', casout=CASTable(name='train', replace=True))\n",
    "print(train.columns)\n",
    "print(train.shape)"
   ]
  },
  {
   "cell_type": "code",
   "execution_count": 6,
   "metadata": {},
   "outputs": [
    {
     "name": "stdout",
     "output_type": "stream",
     "text": [
      "Index(['id', 'cycle', 'setting1', 'setting2', 'setting3', 's1', 's2', 's3',\n",
      "       's4', 's5', 's6', 's7', 's8', 's9', 's10', 's11', 's12', 's13', 's14',\n",
      "       's15', 's16', 's17', 's18', 's19', 's20', 's21'],\n",
      "      dtype='object')\n",
      "(20631, 26)\n"
     ]
    }
   ],
   "source": [
    "train.altertable(columns=[{'name':'Unnamed: 26', 'drop':True},\n",
    "                          {'name':'Unnamed: 27', 'drop':True}])\n",
    "print(train.columns)\n",
    "print(train.shape)"
   ]
  },
  {
   "cell_type": "code",
   "execution_count": 7,
   "metadata": {},
   "outputs": [
    {
     "name": "stdout",
     "output_type": "stream",
     "text": [
      "NOTE: Table TRAIN was created in caslib CASUSER(sasdemo) with 20631 rows returned.\n",
      "Index(['id', 'cycle', 'setting1', 'setting2', 'setting3', 's1', 's2', 's3',\n",
      "       's4', 's5', 's6', 's7', 's8', 's9', 's10', 's11', 's12', 's13', 's14',\n",
      "       's15', 's16', 's17', 's18', 's19', 's20', 's21', 'age', 'ttf',\n",
      "       'nearfailure'],\n",
      "      dtype='object')\n",
      "(20631, 29)\n"
     ]
    }
   ],
   "source": [
    "sas.fedsql.execdirect(\n",
    "    '''\n",
    "    create table train {options replace=true} as select \n",
    "      a.*, \n",
    "      a.\"cycle\" as \"age\", \n",
    "      b.\"max_cycle\" - a.\"cycle\" as \"ttf\", \n",
    "      case when b.\"max_cycle\" - a.\"cycle\" <= %d then 1 else 0 end as \"nearfailure\" \n",
    "    from train as a \n",
    "    left join (\n",
    "      select \n",
    "        \"id\", \n",
    "        max(\"cycle\") as \"max_cycle\" \n",
    "      from train \n",
    "      group by \"id\") as b \n",
    "    on a.\"id\" = b.\"id\"\n",
    "    ''' % period)\n",
    "print(train.columns)\n",
    "print(train.shape)"
   ]
  },
  {
   "cell_type": "markdown",
   "metadata": {},
   "source": [
    "# Prepare Test Data"
   ]
  },
  {
   "cell_type": "code",
   "execution_count": 64,
   "metadata": {},
   "outputs": [
    {
     "name": "stdout",
     "output_type": "stream",
     "text": [
      "NOTE: Cloud Analytic Services made the uploaded file available as table TEST in caslib CASUSER(sasdemo).\n",
      "NOTE: The table TEST has been created in caslib CASUSER(sasdemo) from binary data uploaded to Cloud Analytic Services.\n",
      "Index(['id', 'cycle', 'setting1', 'setting2', 'setting3', 's1', 's2', 's3',\n",
      "       's4', 's5', 's6', 's7', 's8', 's9', 's10', 's11', 's12', 's13', 's14',\n",
      "       's15', 's16', 's17', 's18', 's19', 's20', 's21', 'Unnamed: 26',\n",
      "       'Unnamed: 27'],\n",
      "      dtype='object')\n",
      "(13096, 28)\n"
     ]
    }
   ],
   "source": [
    "test = sas.read_csv('/sasdata/pdm/PM_test.txt', sep=' ', casout=CASTable(name='test', replace=True))\n",
    "print(test.columns)\n",
    "print(test.shape)"
   ]
  },
  {
   "cell_type": "code",
   "execution_count": 65,
   "metadata": {},
   "outputs": [
    {
     "name": "stdout",
     "output_type": "stream",
     "text": [
      "Index(['id', 'cycle', 'setting1', 'setting2', 'setting3', 's1', 's2', 's3',\n",
      "       's4', 's5', 's6', 's7', 's8', 's9', 's10', 's11', 's12', 's13', 's14',\n",
      "       's15', 's16', 's17', 's18', 's19', 's20', 's21'],\n",
      "      dtype='object')\n",
      "(13096, 26)\n"
     ]
    }
   ],
   "source": [
    "test.altertable(columns=[{'name':'Unnamed: 26', 'drop':True},\n",
    "                         {'name':'Unnamed: 27', 'drop':True}])\n",
    "print(test.columns)\n",
    "print(test.shape)"
   ]
  },
  {
   "cell_type": "code",
   "execution_count": 66,
   "metadata": {},
   "outputs": [
    {
     "name": "stdout",
     "output_type": "stream",
     "text": [
      "NOTE: Cloud Analytic Services made the uploaded file available as table TRUTH in caslib CASUSER(sasdemo).\n",
      "NOTE: The table TRUTH has been created in caslib CASUSER(sasdemo) from binary data uploaded to Cloud Analytic Services.\n",
      "Index(['id', 'more'], dtype='object')\n",
      "(100, 2)\n"
     ]
    }
   ],
   "source": [
    "truth = sas.read_csv('/sasdata/pdm/PM_truth.txt', sep=' ', casout=CASTable(name='truth', replace=True))\n",
    "print(truth.columns)\n",
    "print(truth.shape)"
   ]
  },
  {
   "cell_type": "code",
   "execution_count": 67,
   "metadata": {},
   "outputs": [
    {
     "name": "stdout",
     "output_type": "stream",
     "text": [
      "NOTE: Table TEST was created in caslib CASUSER(sasdemo) with 13096 rows returned.\n",
      "Index(['id', 'cycle', 'setting1', 'setting2', 'setting3', 's1', 's2', 's3',\n",
      "       's4', 's5', 's6', 's7', 's8', 's9', 's10', 's11', 's12', 's13', 's14',\n",
      "       's15', 's16', 's17', 's18', 's19', 's20', 's21', 'age', 'ttf',\n",
      "       'nearfailure'],\n",
      "      dtype='object')\n",
      "(13096, 29)\n"
     ]
    }
   ],
   "source": [
    "sas.fedsql.execdirect(\n",
    "    '''\n",
    "    create table test {options replace=true} as select\n",
    "        a.*,\n",
    "        a.cycle as \"age\",\n",
    "        c.more + b.max_cycle - a.cycle as \"ttf\",\n",
    "        case when c.more + b.max_cycle - a.cycle <= %d then 1 else 0 end as \"nearfailure\"\n",
    "    from test as a\n",
    "    left join (\n",
    "        select \n",
    "            \"id\", \n",
    "            max(\"cycle\") as \"max_cycle\" \n",
    "        from test \n",
    "        group by \"id\") as b \n",
    "    on a.\"id\" = b.\"id\"\n",
    "    left join truth as c\n",
    "    on a.\"id\" = c.\"id\"\n",
    "    ''' % period)\n",
    "print(test.columns)\n",
    "print(test.shape)"
   ]
  },
  {
   "cell_type": "markdown",
   "metadata": {},
   "source": [
    "# List all series"
   ]
  },
  {
   "cell_type": "code",
   "execution_count": 14,
   "metadata": {},
   "outputs": [],
   "source": [
    "series = train.columns.drop(['id','cycle','ttf']).values.tolist()"
   ]
  },
  {
   "cell_type": "markdown",
   "metadata": {},
   "source": [
    "# Preprocess Train and Validation Data"
   ]
  },
  {
   "cell_type": "code",
   "execution_count": 15,
   "metadata": {},
   "outputs": [
    {
     "data": {
      "text/plain": [
       "(20631, 29)"
      ]
     },
     "execution_count": 15,
     "metadata": {},
     "output_type": "execute_result"
    }
   ],
   "source": [
    "ts_train = dlpy.TimeseriesTable.from_table(train)\n",
    "ts_train.shape"
   ]
  },
  {
   "cell_type": "code",
   "execution_count": 16,
   "metadata": {},
   "outputs": [
    {
     "name": "stdout",
     "output_type": "stream",
     "text": [
      "NOTE: Timeseries formatting is completed.\n"
     ]
    }
   ],
   "source": [
    "ts_train.timeseries_formatting(timeid='cycle',\n",
    "                               timeseries=series)"
   ]
  },
  {
   "cell_type": "code",
   "execution_count": 17,
   "metadata": {},
   "outputs": [
    {
     "name": "stdout",
     "output_type": "stream",
     "text": [
      "NOTE: Added action set 'timeData'.\n",
      "NOTE: Timeseries are accumulated to the frequency of obs\n"
     ]
    }
   ],
   "source": [
    "ts_train.timeseries_accumlation(acc_interval='obs',\n",
    "                                groupby='id')"
   ]
  },
  {
   "cell_type": "code",
   "execution_count": 18,
   "metadata": {},
   "outputs": [
    {
     "name": "stdout",
     "output_type": "stream",
     "text": [
      "NOTE: timeseries subsequences are prepared with subsequence length = 50\n"
     ]
    }
   ],
   "source": [
    "ts_train.prepare_subsequences(seq_len=seq_len, \n",
    "                              target='nearfailure', \n",
    "                              predictor_timeseries=series)"
   ]
  },
  {
   "cell_type": "code",
   "execution_count": 19,
   "metadata": {},
   "outputs": [
    {
     "data": {
      "text/plain": [
       "(15631, 1305)"
      ]
     },
     "execution_count": 19,
     "metadata": {},
     "output_type": "execute_result"
    }
   ],
   "source": [
    "ts_train.shape"
   ]
  },
  {
   "cell_type": "code",
   "execution_count": 20,
   "metadata": {},
   "outputs": [
    {
     "name": "stdout",
     "output_type": "stream",
     "text": [
      "(14068, 1305)\n",
      "(1563, 1305)\n"
     ]
    }
   ],
   "source": [
    "smp_train, smp_valid = two_way_split(ts_train, test_rate=10, seed=42, im_table=False, stratify_by='nearfailure')\n",
    "print(smp_train.shape)\n",
    "print(smp_valid.shape)"
   ]
  },
  {
   "cell_type": "markdown",
   "metadata": {},
   "source": [
    "# Preprocess Test Data"
   ]
  },
  {
   "cell_type": "code",
   "execution_count": 69,
   "metadata": {},
   "outputs": [
    {
     "data": {
      "text/plain": [
       "(13096, 29)"
      ]
     },
     "execution_count": 69,
     "metadata": {},
     "output_type": "execute_result"
    }
   ],
   "source": [
    "ts_test = dlpy.TimeseriesTable.from_table(test)\n",
    "ts_test.shape"
   ]
  },
  {
   "cell_type": "code",
   "execution_count": 70,
   "metadata": {},
   "outputs": [
    {
     "name": "stdout",
     "output_type": "stream",
     "text": [
      "NOTE: Timeseries formatting is completed.\n"
     ]
    }
   ],
   "source": [
    "ts_test.timeseries_formatting(timeid='cycle',\n",
    "                               timeseries=series)"
   ]
  },
  {
   "cell_type": "code",
   "execution_count": 71,
   "metadata": {},
   "outputs": [
    {
     "name": "stdout",
     "output_type": "stream",
     "text": [
      "NOTE: Added action set 'timeData'.\n",
      "NOTE: Timeseries are accumulated to the frequency of obs\n"
     ]
    }
   ],
   "source": [
    "ts_test.timeseries_accumlation(acc_interval='obs',\n",
    "                                groupby='id')"
   ]
  },
  {
   "cell_type": "code",
   "execution_count": 72,
   "metadata": {},
   "outputs": [
    {
     "name": "stdout",
     "output_type": "stream",
     "text": [
      "NOTE: timeseries subsequences are prepared with subsequence length = 50\n"
     ]
    }
   ],
   "source": [
    "ts_test.prepare_subsequences(seq_len=seq_len, \n",
    "                              target='nearfailure', \n",
    "                              predictor_timeseries=series)"
   ]
  },
  {
   "cell_type": "code",
   "execution_count": 73,
   "metadata": {},
   "outputs": [
    {
     "data": {
      "text/plain": [
       "(8162, 1305)"
      ]
     },
     "execution_count": 73,
     "metadata": {},
     "output_type": "execute_result"
    }
   ],
   "source": [
    "ts_test.shape"
   ]
  },
  {
   "cell_type": "markdown",
   "metadata": {},
   "source": [
    "# Model 1"
   ]
  },
  {
   "cell_type": "code",
   "execution_count": null,
   "metadata": {},
   "outputs": [],
   "source": [
    "name = 'lstm_001'"
   ]
  },
  {
   "cell_type": "code",
   "execution_count": null,
   "metadata": {},
   "outputs": [],
   "source": [
    "model = Sequential(sas, model_table='lstm_rnn')\n",
    "\n",
    "model.add(InputLayer(std='STD'))\n",
    "model.add(Recurrent(rnn_type='LSTM', output_type='samelength', n=100, dropout=0.1, act='sigmoid'))\n",
    "model.add(Recurrent(rnn_type='LSTM', output_type='encoding',  n=50, dropout=0.1, act='sigmoid'))\n",
    "model.add(OutputLayer(n=1, full_connect=True, act='sigmoid', error='entropy'))\n",
    "\n",
    "model.plot_network()"
   ]
  },
  {
   "cell_type": "code",
   "execution_count": null,
   "metadata": {},
   "outputs": [],
   "source": [
    "optimizer = Optimizer(algorithm=AdamSolver(), \n",
    "                      max_epochs=100, \n",
    "                      mini_batch_size=200,\n",
    "                      seed=1234)"
   ]
  },
  {
   "cell_type": "code",
   "execution_count": null,
   "metadata": {},
   "outputs": [],
   "source": [
    "seq_spec  = Sequence(**ts_train.sequence_opt)"
   ]
  },
  {
   "cell_type": "code",
   "execution_count": null,
   "metadata": {},
   "outputs": [],
   "source": [
    "result = model.train(smp_train,\n",
    "                     valid_table = smp_valid,\n",
    "                     optimizer=optimizer,\n",
    "                     sequence=seq_spec, \n",
    "                     **ts_train.inputs_target,\n",
    "                     model='lstm_rnn',\n",
    "                     model_weights=sas.CASTable('rnn_weights', replace=True))"
   ]
  },
  {
   "cell_type": "code",
   "execution_count": null,
   "metadata": {},
   "outputs": [],
   "source": [
    "model.plot_training_history(tick_frequency=1)"
   ]
  },
  {
   "cell_type": "code",
   "execution_count": null,
   "metadata": {
    "scrolled": true
   },
   "outputs": [],
   "source": [
    "result"
   ]
  },
  {
   "cell_type": "markdown",
   "metadata": {},
   "source": [
    "# Model 2"
   ]
  },
  {
   "cell_type": "code",
   "execution_count": 26,
   "metadata": {},
   "outputs": [],
   "source": [
    "name = 'lstm_002'"
   ]
  },
  {
   "cell_type": "code",
   "execution_count": 27,
   "metadata": {},
   "outputs": [
    {
     "name": "stdout",
     "output_type": "stream",
     "text": [
      "NOTE: Input layer added.\n",
      "NOTE: Recurrent layer added.\n",
      "NOTE: Recurrent layer added.\n",
      "NOTE: Output layer added.\n",
      "NOTE: Model compiled successfully.\n"
     ]
    },
    {
     "data": {
      "image/svg+xml": [
       "<?xml version=\"1.0\" encoding=\"UTF-8\" standalone=\"no\"?>\n",
       "<!DOCTYPE svg PUBLIC \"-//W3C//DTD SVG 1.1//EN\"\n",
       " \"http://www.w3.org/Graphics/SVG/1.1/DTD/svg11.dtd\">\n",
       "<!-- Generated by graphviz version 2.40.1 (20161225.0304)\n",
       " -->\n",
       "<!-- Title: lstm_002 Pages: 1 -->\n",
       "<svg width=\"157pt\" height=\"241pt\"\n",
       " viewBox=\"0.00 0.00 157.00 241.00\" xmlns=\"http://www.w3.org/2000/svg\" xmlns:xlink=\"http://www.w3.org/1999/xlink\">\n",
       "<g id=\"graph0\" class=\"graph\" transform=\"scale(1 1) rotate(0) translate(4 237)\">\n",
       "<title>lstm_002</title>\n",
       "<polygon fill=\"#ffffff\" stroke=\"transparent\" points=\"-4,4 -4,-237 153,-237 153,4 -4,4\"/>\n",
       "<!-- Input1 -->\n",
       "<g id=\"node1\" class=\"node\">\n",
       "<title>Input1</title>\n",
       "<polygon fill=\"#3288bd\" fill-opacity=\"0.250980\" stroke=\"#3288bd\" points=\"15.5,-210.5 15.5,-232.5 119.5,-232.5 119.5,-210.5 15.5,-210.5\"/>\n",
       "<text text-anchor=\"middle\" x=\"67.5\" y=\"-217.8\" font-family=\"Helvetica,sans-Serif\" font-size=\"14.00\" fill=\"#000000\">Input1(input)</text>\n",
       "</g>\n",
       "<!-- Rec.1 -->\n",
       "<g id=\"node2\" class=\"node\">\n",
       "<title>Rec.1</title>\n",
       "<polygon fill=\"#abdda4\" fill-opacity=\"0.250980\" stroke=\"#abdda4\" points=\"4,-140.5 4,-162.5 131,-162.5 131,-140.5 4,-140.5\"/>\n",
       "<text text-anchor=\"middle\" x=\"67.5\" y=\"-147.8\" font-family=\"Helvetica,sans-Serif\" font-size=\"14.00\" fill=\"#000000\">Rec.1(recurrent)</text>\n",
       "</g>\n",
       "<!-- Input1&#45;&gt;Rec.1 -->\n",
       "<g id=\"edge1\" class=\"edge\">\n",
       "<title>Input1&#45;&gt;Rec.1</title>\n",
       "<path fill=\"none\" stroke=\"#5677f3\" d=\"M67.5,-210.2533C67.5,-200.3113 67.5,-185.5277 67.5,-173.2776\"/>\n",
       "<polygon fill=\"#5677f3\" stroke=\"#5677f3\" points=\"71.0001,-172.9513 67.5,-162.9513 64.0001,-172.9514 71.0001,-172.9513\"/>\n",
       "<text text-anchor=\"middle\" x=\"73.5\" y=\"-184\" font-family=\"Helvetica,sans-Serif\" font-size=\"10.00\" fill=\"#000000\"> 0 </text>\n",
       "</g>\n",
       "<!-- Rec.1&#45;&gt;Rec.1 -->\n",
       "<g id=\"edge2\" class=\"edge\">\n",
       "<title>Rec.1&#45;&gt;Rec.1</title>\n",
       "<path fill=\"none\" stroke=\"#5677f3\" d=\"M131.058,-157.4252C141.6744,-156.5962 149,-154.6211 149,-151.5 149,-149.5005 145.9936,-147.9714 141.0415,-146.9126\"/>\n",
       "<polygon fill=\"#5677f3\" stroke=\"#5677f3\" points=\"141.4343,-143.4341 131.058,-145.5748 140.5046,-150.3721 141.4343,-143.4341\"/>\n",
       "</g>\n",
       "<!-- Rec.2 -->\n",
       "<g id=\"node3\" class=\"node\">\n",
       "<title>Rec.2</title>\n",
       "<polygon fill=\"#abdda4\" fill-opacity=\"0.250980\" stroke=\"#abdda4\" points=\"4,-70.5 4,-92.5 131,-92.5 131,-70.5 4,-70.5\"/>\n",
       "<text text-anchor=\"middle\" x=\"67.5\" y=\"-77.8\" font-family=\"Helvetica,sans-Serif\" font-size=\"14.00\" fill=\"#000000\">Rec.2(recurrent)</text>\n",
       "</g>\n",
       "<!-- Rec.1&#45;&gt;Rec.2 -->\n",
       "<g id=\"edge3\" class=\"edge\">\n",
       "<title>Rec.1&#45;&gt;Rec.2</title>\n",
       "<path fill=\"none\" stroke=\"#5677f3\" d=\"M67.5,-140.2533C67.5,-130.3113 67.5,-115.5277 67.5,-103.2776\"/>\n",
       "<polygon fill=\"#5677f3\" stroke=\"#5677f3\" points=\"71.0001,-102.9513 67.5,-92.9513 64.0001,-102.9514 71.0001,-102.9513\"/>\n",
       "<text text-anchor=\"middle\" x=\"78.5\" y=\"-114\" font-family=\"Helvetica,sans-Serif\" font-size=\"10.00\" fill=\"#000000\"> 100 </text>\n",
       "</g>\n",
       "<!-- Rec.2&#45;&gt;Rec.2 -->\n",
       "<g id=\"edge4\" class=\"edge\">\n",
       "<title>Rec.2&#45;&gt;Rec.2</title>\n",
       "<path fill=\"none\" stroke=\"#5677f3\" d=\"M131.058,-87.4252C141.6744,-86.5962 149,-84.6211 149,-81.5 149,-79.5005 145.9936,-77.9714 141.0415,-76.9126\"/>\n",
       "<polygon fill=\"#5677f3\" stroke=\"#5677f3\" points=\"141.4343,-73.4341 131.058,-75.5748 140.5046,-80.3721 141.4343,-73.4341\"/>\n",
       "</g>\n",
       "<!-- Output1 -->\n",
       "<g id=\"node4\" class=\"node\">\n",
       "<title>Output1</title>\n",
       "<polygon fill=\"#5e4fa2\" fill-opacity=\"0.125490\" stroke=\"#5e4fa2\" points=\"0,-.5 0,-22.5 135,-22.5 135,-.5 0,-.5\"/>\n",
       "<text text-anchor=\"middle\" x=\"67.5\" y=\"-7.8\" font-family=\"Helvetica,sans-Serif\" font-size=\"14.00\" fill=\"#000000\">1 Output1(output)</text>\n",
       "</g>\n",
       "<!-- Rec.2&#45;&gt;Output1 -->\n",
       "<g id=\"edge5\" class=\"edge\">\n",
       "<title>Rec.2&#45;&gt;Output1</title>\n",
       "<path fill=\"none\" stroke=\"#5677f3\" d=\"M67.5,-70.2533C67.5,-60.3113 67.5,-45.5277 67.5,-33.2776\"/>\n",
       "<polygon fill=\"#5677f3\" stroke=\"#5677f3\" points=\"71.0001,-32.9513 67.5,-22.9513 64.0001,-32.9514 71.0001,-32.9513\"/>\n",
       "<text text-anchor=\"middle\" x=\"76\" y=\"-44\" font-family=\"Helvetica,sans-Serif\" font-size=\"10.00\" fill=\"#000000\"> 50 </text>\n",
       "</g>\n",
       "</g>\n",
       "</svg>\n"
      ],
      "text/plain": [
       "<graphviz.dot.Digraph at 0x7f864bfc9d30>"
      ]
     },
     "execution_count": 27,
     "metadata": {},
     "output_type": "execute_result"
    }
   ],
   "source": [
    "model = Sequential(sas, model_table=name)\n",
    "\n",
    "model.add(InputLayer(std='STD'))\n",
    "model.add(Recurrent(rnn_type='LSTM', output_type='samelength', n=100, dropout=0.1, act='tanh'))\n",
    "model.add(Recurrent(rnn_type='LSTM', output_type='encoding',  n=50, dropout=0.1, act='tanh'))\n",
    "model.add(OutputLayer(n=1, full_connect=True, act='sigmoid', error='entropy'))\n",
    "\n",
    "model.plot_network()"
   ]
  },
  {
   "cell_type": "code",
   "execution_count": 28,
   "metadata": {},
   "outputs": [],
   "source": [
    "optimizer = Optimizer(algorithm=AdamSolver(), \n",
    "                      max_epochs=100, \n",
    "                      mini_batch_size=200,\n",
    "                      seed=1234)"
   ]
  },
  {
   "cell_type": "code",
   "execution_count": 29,
   "metadata": {},
   "outputs": [],
   "source": [
    "seq_spec  = Sequence(**ts_train.sequence_opt)"
   ]
  },
  {
   "cell_type": "code",
   "execution_count": 30,
   "metadata": {},
   "outputs": [],
   "source": [
    "result = model.train(smp_train,\n",
    "                     valid_table = smp_valid,\n",
    "                     optimizer=optimizer,\n",
    "                     sequence=seq_spec, \n",
    "                     **ts_train.inputs_target,\n",
    "                     model=name,\n",
    "                     model_weights=name+'_weights',\n",
    "                     best_weights=name+'_weights_best')"
   ]
  },
  {
   "cell_type": "code",
   "execution_count": 31,
   "metadata": {},
   "outputs": [
    {
     "data": {
      "image/png": "[encoded data removed]",
      "text/plain": [
       "<Figure size 864x360 with 1 Axes>"
      ]
     },
     "metadata": {
      "needs_background": "light"
     },
     "output_type": "display_data"
    }
   ],
   "source": [
    "# model.plot_training_history(tick_frequency=1)\n",
    "result.OptIterHistory[['Loss','FitError','ValidError']][0:].plot(figsize=(12,5))\n",
    "ax = plt.gca()\n",
    "ax.get_xaxis().set_tick_params(labelsize=14)\n",
    "ax.get_yaxis().set_tick_params(labelsize=14)\n",
    "ax.legend(['Fit Loss','Fit Error','Valid Error'], loc='upper right', prop={'size': 14})\n",
    "ax.set_xlabel('Iterations',fontsize=16)\n",
    "ax.set_ylabel('Error / Loss',fontsize=16)\n",
    "plt.show()"
   ]
  },
  {
   "cell_type": "code",
   "execution_count": 32,
   "metadata": {
    "scrolled": true
   },
   "outputs": [
    {
     "data": {
      "text/html": [
       "<div class=\"cas-results-key\"><b>&#167; ModelInfo</b></div>\n",
       "<div class=\"cas-results-body\">\n",
       "<div>\n",
       "<style scoped>\n",
       "    .dataframe tbody tr th:only-of-type {\n",
       "        vertical-align: middle;\n",
       "    }\n",
       "\n",
       "    .dataframe tbody tr th {\n",
       "        vertical-align: top;\n",
       "    }\n",
       "\n",
       "    .dataframe thead th {\n",
       "        text-align: right;\n",
       "    }\n",
       "</style>\n",
       "<table border=\"1\" class=\"dataframe\">\n",
       "  <thead>\n",
       "    <tr style=\"text-align: right;\">\n",
       "      <th title=\"\"></th>\n",
       "      <th title=\"Descr\">Descr</th>\n",
       "      <th title=\"Value\">Value</th>\n",
       "    </tr>\n",
       "  </thead>\n",
       "  <tbody>\n",
       "    <tr>\n",
       "      <th>0</th>\n",
       "      <td>Model Name</td>\n",
       "      <td>lstm_002</td>\n",
       "    </tr>\n",
       "    <tr>\n",
       "      <th>1</th>\n",
       "      <td>Model Type</td>\n",
       "      <td>Recurrent Neural Network</td>\n",
       "    </tr>\n",
       "    <tr>\n",
       "      <th>2</th>\n",
       "      <td>Number of Layers</td>\n",
       "      <td>4</td>\n",
       "    </tr>\n",
       "    <tr>\n",
       "      <th>3</th>\n",
       "      <td>Number of Input Layers</td>\n",
       "      <td>1</td>\n",
       "    </tr>\n",
       "    <tr>\n",
       "      <th>4</th>\n",
       "      <td>Number of Output Layers</td>\n",
       "      <td>1</td>\n",
       "    </tr>\n",
       "    <tr>\n",
       "      <th>5</th>\n",
       "      <td>Number of Convolutional Layers</td>\n",
       "      <td>0</td>\n",
       "    </tr>\n",
       "    <tr>\n",
       "      <th>6</th>\n",
       "      <td>Number of Pooling Layers</td>\n",
       "      <td>0</td>\n",
       "    </tr>\n",
       "    <tr>\n",
       "      <th>7</th>\n",
       "      <td>Number of Fully Connected Layers</td>\n",
       "      <td>0</td>\n",
       "    </tr>\n",
       "    <tr>\n",
       "      <th>8</th>\n",
       "      <td>Number of Recurrent Layers</td>\n",
       "      <td>2</td>\n",
       "    </tr>\n",
       "    <tr>\n",
       "      <th>9</th>\n",
       "      <td>Number of Weight Parameters</td>\n",
       "      <td>80900</td>\n",
       "    </tr>\n",
       "    <tr>\n",
       "      <th>10</th>\n",
       "      <td>Number of Bias Parameters</td>\n",
       "      <td>601</td>\n",
       "    </tr>\n",
       "    <tr>\n",
       "      <th>11</th>\n",
       "      <td>Total Number of Model Parameters</td>\n",
       "      <td>81501</td>\n",
       "    </tr>\n",
       "    <tr>\n",
       "      <th>12</th>\n",
       "      <td>Approximate Memory Cost for Training (MB)</td>\n",
       "      <td>490</td>\n",
       "    </tr>\n",
       "  </tbody>\n",
       "</table>\n",
       "</div>\n",
       "</div>\n",
       "<div class=\"cas-results-key\"><hr/><b>&#167; OptIterHistory</b></div>\n",
       "<div class=\"cas-results-body\">\n",
       "<div>\n",
       "<style scoped>\n",
       "    .dataframe tbody tr th:only-of-type {\n",
       "        vertical-align: middle;\n",
       "    }\n",
       "\n",
       "    .dataframe tbody tr th {\n",
       "        vertical-align: top;\n",
       "    }\n",
       "\n",
       "    .dataframe thead th {\n",
       "        text-align: right;\n",
       "    }\n",
       "</style>\n",
       "<table border=\"1\" class=\"dataframe\">\n",
       "  <thead>\n",
       "    <tr style=\"text-align: right;\">\n",
       "      <th title=\"\"></th>\n",
       "      <th title=\"Epoch\">Epoch</th>\n",
       "      <th title=\"LearningRate\">LearningRate</th>\n",
       "      <th title=\"Loss\">Loss</th>\n",
       "      <th title=\"FitError\">FitError</th>\n",
       "      <th title=\"ValidLoss\">ValidLoss</th>\n",
       "      <th title=\"ValidError\">ValidError</th>\n",
       "    </tr>\n",
       "  </thead>\n",
       "  <tbody>\n",
       "    <tr>\n",
       "      <th>0</th>\n",
       "      <td>0.0</td>\n",
       "      <td>0.001</td>\n",
       "      <td>0.287984</td>\n",
       "      <td>0.164065</td>\n",
       "      <td>0.297195</td>\n",
       "      <td>0.149195</td>\n",
       "    </tr>\n",
       "    <tr>\n",
       "      <th>1</th>\n",
       "      <td>1.0</td>\n",
       "      <td>0.001</td>\n",
       "      <td>0.271803</td>\n",
       "      <td>0.136733</td>\n",
       "      <td>0.198111</td>\n",
       "      <td>0.133516</td>\n",
       "    </tr>\n",
       "    <tr>\n",
       "      <th>2</th>\n",
       "      <td>2.0</td>\n",
       "      <td>0.001</td>\n",
       "      <td>0.208211</td>\n",
       "      <td>0.116683</td>\n",
       "      <td>0.202621</td>\n",
       "      <td>0.094099</td>\n",
       "    </tr>\n",
       "    <tr>\n",
       "      <th>3</th>\n",
       "      <td>3.0</td>\n",
       "      <td>0.001</td>\n",
       "      <td>0.184779</td>\n",
       "      <td>0.086552</td>\n",
       "      <td>0.120375</td>\n",
       "      <td>0.079995</td>\n",
       "    </tr>\n",
       "    <tr>\n",
       "      <th>4</th>\n",
       "      <td>4.0</td>\n",
       "      <td>0.001</td>\n",
       "      <td>0.158199</td>\n",
       "      <td>0.074649</td>\n",
       "      <td>0.109838</td>\n",
       "      <td>0.057806</td>\n",
       "    </tr>\n",
       "    <tr>\n",
       "      <th>5</th>\n",
       "      <td>5.0</td>\n",
       "      <td>0.001</td>\n",
       "      <td>0.116359</td>\n",
       "      <td>0.051646</td>\n",
       "      <td>0.048163</td>\n",
       "      <td>0.122131</td>\n",
       "    </tr>\n",
       "    <tr>\n",
       "      <th>6</th>\n",
       "      <td>6.0</td>\n",
       "      <td>0.001</td>\n",
       "      <td>0.128802</td>\n",
       "      <td>0.063157</td>\n",
       "      <td>0.070743</td>\n",
       "      <td>0.044312</td>\n",
       "    </tr>\n",
       "    <tr>\n",
       "      <th>7</th>\n",
       "      <td>7.0</td>\n",
       "      <td>0.001</td>\n",
       "      <td>0.098709</td>\n",
       "      <td>0.043616</td>\n",
       "      <td>0.087317</td>\n",
       "      <td>0.041365</td>\n",
       "    </tr>\n",
       "    <tr>\n",
       "      <th>8</th>\n",
       "      <td>8.0</td>\n",
       "      <td>0.001</td>\n",
       "      <td>0.087556</td>\n",
       "      <td>0.039336</td>\n",
       "      <td>0.091208</td>\n",
       "      <td>0.034408</td>\n",
       "    </tr>\n",
       "    <tr>\n",
       "      <th>9</th>\n",
       "      <td>9.0</td>\n",
       "      <td>0.001</td>\n",
       "      <td>0.081630</td>\n",
       "      <td>0.034457</td>\n",
       "      <td>0.062818</td>\n",
       "      <td>0.037361</td>\n",
       "    </tr>\n",
       "    <tr>\n",
       "      <th>10</th>\n",
       "      <td>10.0</td>\n",
       "      <td>0.001</td>\n",
       "      <td>0.077432</td>\n",
       "      <td>0.032480</td>\n",
       "      <td>0.061951</td>\n",
       "      <td>0.031683</td>\n",
       "    </tr>\n",
       "    <tr>\n",
       "      <th>11</th>\n",
       "      <td>11.0</td>\n",
       "      <td>0.001</td>\n",
       "      <td>0.073132</td>\n",
       "      <td>0.031555</td>\n",
       "      <td>0.057672</td>\n",
       "      <td>0.030865</td>\n",
       "    </tr>\n",
       "    <tr>\n",
       "      <th>12</th>\n",
       "      <td>12.0</td>\n",
       "      <td>0.001</td>\n",
       "      <td>0.066834</td>\n",
       "      <td>0.029586</td>\n",
       "      <td>0.053633</td>\n",
       "      <td>0.029416</td>\n",
       "    </tr>\n",
       "    <tr>\n",
       "      <th>13</th>\n",
       "      <td>13.0</td>\n",
       "      <td>0.001</td>\n",
       "      <td>0.070850</td>\n",
       "      <td>0.031635</td>\n",
       "      <td>0.072591</td>\n",
       "      <td>0.026507</td>\n",
       "    </tr>\n",
       "    <tr>\n",
       "      <th>14</th>\n",
       "      <td>14.0</td>\n",
       "      <td>0.001</td>\n",
       "      <td>0.060325</td>\n",
       "      <td>0.026021</td>\n",
       "      <td>0.027656</td>\n",
       "      <td>0.044479</td>\n",
       "    </tr>\n",
       "    <tr>\n",
       "      <th>15</th>\n",
       "      <td>15.0</td>\n",
       "      <td>0.001</td>\n",
       "      <td>0.077842</td>\n",
       "      <td>0.034905</td>\n",
       "      <td>0.103152</td>\n",
       "      <td>0.033482</td>\n",
       "    </tr>\n",
       "    <tr>\n",
       "      <th>16</th>\n",
       "      <td>16.0</td>\n",
       "      <td>0.001</td>\n",
       "      <td>0.079636</td>\n",
       "      <td>0.032059</td>\n",
       "      <td>0.033662</td>\n",
       "      <td>0.038508</td>\n",
       "    </tr>\n",
       "    <tr>\n",
       "      <th>17</th>\n",
       "      <td>17.0</td>\n",
       "      <td>0.001</td>\n",
       "      <td>0.061728</td>\n",
       "      <td>0.028266</td>\n",
       "      <td>0.082444</td>\n",
       "      <td>0.027154</td>\n",
       "    </tr>\n",
       "    <tr>\n",
       "      <th>18</th>\n",
       "      <td>18.0</td>\n",
       "      <td>0.001</td>\n",
       "      <td>0.064025</td>\n",
       "      <td>0.026371</td>\n",
       "      <td>0.037744</td>\n",
       "      <td>0.025875</td>\n",
       "    </tr>\n",
       "    <tr>\n",
       "      <th>19</th>\n",
       "      <td>19.0</td>\n",
       "      <td>0.001</td>\n",
       "      <td>0.054540</td>\n",
       "      <td>0.024698</td>\n",
       "      <td>0.078706</td>\n",
       "      <td>0.025853</td>\n",
       "    </tr>\n",
       "    <tr>\n",
       "      <th>20</th>\n",
       "      <td>20.0</td>\n",
       "      <td>0.001</td>\n",
       "      <td>0.056370</td>\n",
       "      <td>0.022865</td>\n",
       "      <td>0.035826</td>\n",
       "      <td>0.026210</td>\n",
       "    </tr>\n",
       "    <tr>\n",
       "      <th>21</th>\n",
       "      <td>21.0</td>\n",
       "      <td>0.001</td>\n",
       "      <td>0.061250</td>\n",
       "      <td>0.026571</td>\n",
       "      <td>0.092332</td>\n",
       "      <td>0.029002</td>\n",
       "    </tr>\n",
       "    <tr>\n",
       "      <th>22</th>\n",
       "      <td>22.0</td>\n",
       "      <td>0.001</td>\n",
       "      <td>0.059170</td>\n",
       "      <td>0.022974</td>\n",
       "      <td>0.033155</td>\n",
       "      <td>0.026788</td>\n",
       "    </tr>\n",
       "    <tr>\n",
       "      <th>23</th>\n",
       "      <td>23.0</td>\n",
       "      <td>0.001</td>\n",
       "      <td>0.048350</td>\n",
       "      <td>0.022596</td>\n",
       "      <td>0.067235</td>\n",
       "      <td>0.022348</td>\n",
       "    </tr>\n",
       "    <tr>\n",
       "      <th>24</th>\n",
       "      <td>24.0</td>\n",
       "      <td>0.001</td>\n",
       "      <td>0.054086</td>\n",
       "      <td>0.021410</td>\n",
       "      <td>0.023119</td>\n",
       "      <td>0.029691</td>\n",
       "    </tr>\n",
       "    <tr>\n",
       "      <th>25</th>\n",
       "      <td>25.0</td>\n",
       "      <td>0.001</td>\n",
       "      <td>0.052671</td>\n",
       "      <td>0.023785</td>\n",
       "      <td>0.063785</td>\n",
       "      <td>0.021437</td>\n",
       "    </tr>\n",
       "    <tr>\n",
       "      <th>26</th>\n",
       "      <td>26.0</td>\n",
       "      <td>0.001</td>\n",
       "      <td>0.061204</td>\n",
       "      <td>0.023641</td>\n",
       "      <td>0.042576</td>\n",
       "      <td>0.018519</td>\n",
       "    </tr>\n",
       "    <tr>\n",
       "      <th>27</th>\n",
       "      <td>27.0</td>\n",
       "      <td>0.001</td>\n",
       "      <td>0.047073</td>\n",
       "      <td>0.019863</td>\n",
       "      <td>0.024051</td>\n",
       "      <td>0.028653</td>\n",
       "    </tr>\n",
       "    <tr>\n",
       "      <th>28</th>\n",
       "      <td>28.0</td>\n",
       "      <td>0.001</td>\n",
       "      <td>0.055714</td>\n",
       "      <td>0.024439</td>\n",
       "      <td>0.116789</td>\n",
       "      <td>0.033198</td>\n",
       "    </tr>\n",
       "    <tr>\n",
       "      <th>29</th>\n",
       "      <td>29.0</td>\n",
       "      <td>0.001</td>\n",
       "      <td>0.063020</td>\n",
       "      <td>0.024808</td>\n",
       "      <td>0.125499</td>\n",
       "      <td>0.036246</td>\n",
       "    </tr>\n",
       "    <tr>\n",
       "      <th>...</th>\n",
       "      <td>...</td>\n",
       "      <td>...</td>\n",
       "      <td>...</td>\n",
       "      <td>...</td>\n",
       "      <td>...</td>\n",
       "      <td>...</td>\n",
       "    </tr>\n",
       "    <tr>\n",
       "      <th>70</th>\n",
       "      <td>70.0</td>\n",
       "      <td>0.001</td>\n",
       "      <td>0.033435</td>\n",
       "      <td>0.012330</td>\n",
       "      <td>0.052478</td>\n",
       "      <td>0.014275</td>\n",
       "    </tr>\n",
       "    <tr>\n",
       "      <th>71</th>\n",
       "      <td>71.0</td>\n",
       "      <td>0.001</td>\n",
       "      <td>0.030241</td>\n",
       "      <td>0.011630</td>\n",
       "      <td>0.050998</td>\n",
       "      <td>0.013727</td>\n",
       "    </tr>\n",
       "    <tr>\n",
       "      <th>72</th>\n",
       "      <td>72.0</td>\n",
       "      <td>0.001</td>\n",
       "      <td>0.033018</td>\n",
       "      <td>0.012961</td>\n",
       "      <td>0.060441</td>\n",
       "      <td>0.016441</td>\n",
       "    </tr>\n",
       "    <tr>\n",
       "      <th>73</th>\n",
       "      <td>73.0</td>\n",
       "      <td>0.001</td>\n",
       "      <td>0.033502</td>\n",
       "      <td>0.012630</td>\n",
       "      <td>0.039245</td>\n",
       "      <td>0.011921</td>\n",
       "    </tr>\n",
       "    <tr>\n",
       "      <th>74</th>\n",
       "      <td>74.0</td>\n",
       "      <td>0.001</td>\n",
       "      <td>0.032292</td>\n",
       "      <td>0.011961</td>\n",
       "      <td>0.057831</td>\n",
       "      <td>0.014951</td>\n",
       "    </tr>\n",
       "    <tr>\n",
       "      <th>75</th>\n",
       "      <td>75.0</td>\n",
       "      <td>0.001</td>\n",
       "      <td>0.030119</td>\n",
       "      <td>0.012133</td>\n",
       "      <td>0.054063</td>\n",
       "      <td>0.014298</td>\n",
       "    </tr>\n",
       "    <tr>\n",
       "      <th>76</th>\n",
       "      <td>76.0</td>\n",
       "      <td>0.001</td>\n",
       "      <td>0.032063</td>\n",
       "      <td>0.012151</td>\n",
       "      <td>0.049248</td>\n",
       "      <td>0.013721</td>\n",
       "    </tr>\n",
       "    <tr>\n",
       "      <th>77</th>\n",
       "      <td>77.0</td>\n",
       "      <td>0.001</td>\n",
       "      <td>0.030946</td>\n",
       "      <td>0.011408</td>\n",
       "      <td>0.041414</td>\n",
       "      <td>0.011915</td>\n",
       "    </tr>\n",
       "    <tr>\n",
       "      <th>78</th>\n",
       "      <td>78.0</td>\n",
       "      <td>0.001</td>\n",
       "      <td>0.029472</td>\n",
       "      <td>0.011022</td>\n",
       "      <td>0.042257</td>\n",
       "      <td>0.011882</td>\n",
       "    </tr>\n",
       "    <tr>\n",
       "      <th>79</th>\n",
       "      <td>79.0</td>\n",
       "      <td>0.001</td>\n",
       "      <td>0.027731</td>\n",
       "      <td>0.010625</td>\n",
       "      <td>0.035919</td>\n",
       "      <td>0.010999</td>\n",
       "    </tr>\n",
       "    <tr>\n",
       "      <th>80</th>\n",
       "      <td>80.0</td>\n",
       "      <td>0.001</td>\n",
       "      <td>0.026298</td>\n",
       "      <td>0.010296</td>\n",
       "      <td>0.033994</td>\n",
       "      <td>0.010653</td>\n",
       "    </tr>\n",
       "    <tr>\n",
       "      <th>81</th>\n",
       "      <td>81.0</td>\n",
       "      <td>0.001</td>\n",
       "      <td>0.027191</td>\n",
       "      <td>0.010890</td>\n",
       "      <td>0.024432</td>\n",
       "      <td>0.009498</td>\n",
       "    </tr>\n",
       "    <tr>\n",
       "      <th>82</th>\n",
       "      <td>82.0</td>\n",
       "      <td>0.001</td>\n",
       "      <td>0.024583</td>\n",
       "      <td>0.010465</td>\n",
       "      <td>0.032017</td>\n",
       "      <td>0.010161</td>\n",
       "    </tr>\n",
       "    <tr>\n",
       "      <th>83</th>\n",
       "      <td>83.0</td>\n",
       "      <td>0.001</td>\n",
       "      <td>0.025552</td>\n",
       "      <td>0.010387</td>\n",
       "      <td>0.030357</td>\n",
       "      <td>0.009945</td>\n",
       "    </tr>\n",
       "    <tr>\n",
       "      <th>84</th>\n",
       "      <td>84.0</td>\n",
       "      <td>0.001</td>\n",
       "      <td>0.025792</td>\n",
       "      <td>0.010319</td>\n",
       "      <td>0.029949</td>\n",
       "      <td>0.009825</td>\n",
       "    </tr>\n",
       "    <tr>\n",
       "      <th>85</th>\n",
       "      <td>85.0</td>\n",
       "      <td>0.001</td>\n",
       "      <td>0.025294</td>\n",
       "      <td>0.009937</td>\n",
       "      <td>0.032577</td>\n",
       "      <td>0.010171</td>\n",
       "    </tr>\n",
       "    <tr>\n",
       "      <th>86</th>\n",
       "      <td>86.0</td>\n",
       "      <td>0.001</td>\n",
       "      <td>0.024425</td>\n",
       "      <td>0.010112</td>\n",
       "      <td>0.032646</td>\n",
       "      <td>0.010261</td>\n",
       "    </tr>\n",
       "    <tr>\n",
       "      <th>87</th>\n",
       "      <td>87.0</td>\n",
       "      <td>0.001</td>\n",
       "      <td>0.026262</td>\n",
       "      <td>0.010595</td>\n",
       "      <td>0.025008</td>\n",
       "      <td>0.009370</td>\n",
       "    </tr>\n",
       "    <tr>\n",
       "      <th>88</th>\n",
       "      <td>88.0</td>\n",
       "      <td>0.001</td>\n",
       "      <td>0.023763</td>\n",
       "      <td>0.009834</td>\n",
       "      <td>0.028722</td>\n",
       "      <td>0.009689</td>\n",
       "    </tr>\n",
       "    <tr>\n",
       "      <th>89</th>\n",
       "      <td>89.0</td>\n",
       "      <td>0.001</td>\n",
       "      <td>0.024636</td>\n",
       "      <td>0.010072</td>\n",
       "      <td>0.024708</td>\n",
       "      <td>0.009279</td>\n",
       "    </tr>\n",
       "    <tr>\n",
       "      <th>90</th>\n",
       "      <td>90.0</td>\n",
       "      <td>0.001</td>\n",
       "      <td>0.023714</td>\n",
       "      <td>0.009819</td>\n",
       "      <td>0.028392</td>\n",
       "      <td>0.009540</td>\n",
       "    </tr>\n",
       "    <tr>\n",
       "      <th>91</th>\n",
       "      <td>91.0</td>\n",
       "      <td>0.001</td>\n",
       "      <td>0.025207</td>\n",
       "      <td>0.010256</td>\n",
       "      <td>0.019847</td>\n",
       "      <td>0.009000</td>\n",
       "    </tr>\n",
       "    <tr>\n",
       "      <th>92</th>\n",
       "      <td>92.0</td>\n",
       "      <td>0.001</td>\n",
       "      <td>0.022903</td>\n",
       "      <td>0.009648</td>\n",
       "      <td>0.021330</td>\n",
       "      <td>0.009767</td>\n",
       "    </tr>\n",
       "    <tr>\n",
       "      <th>93</th>\n",
       "      <td>93.0</td>\n",
       "      <td>0.001</td>\n",
       "      <td>0.023846</td>\n",
       "      <td>0.009993</td>\n",
       "      <td>0.037224</td>\n",
       "      <td>0.010624</td>\n",
       "    </tr>\n",
       "    <tr>\n",
       "      <th>94</th>\n",
       "      <td>94.0</td>\n",
       "      <td>0.001</td>\n",
       "      <td>0.026412</td>\n",
       "      <td>0.010365</td>\n",
       "      <td>0.017816</td>\n",
       "      <td>0.009327</td>\n",
       "    </tr>\n",
       "    <tr>\n",
       "      <th>95</th>\n",
       "      <td>95.0</td>\n",
       "      <td>0.001</td>\n",
       "      <td>0.023564</td>\n",
       "      <td>0.009893</td>\n",
       "      <td>0.017502</td>\n",
       "      <td>0.011571</td>\n",
       "    </tr>\n",
       "    <tr>\n",
       "      <th>96</th>\n",
       "      <td>96.0</td>\n",
       "      <td>0.001</td>\n",
       "      <td>0.024204</td>\n",
       "      <td>0.010370</td>\n",
       "      <td>0.027209</td>\n",
       "      <td>0.009389</td>\n",
       "    </tr>\n",
       "    <tr>\n",
       "      <th>97</th>\n",
       "      <td>97.0</td>\n",
       "      <td>0.001</td>\n",
       "      <td>0.025077</td>\n",
       "      <td>0.009822</td>\n",
       "      <td>0.020629</td>\n",
       "      <td>0.011073</td>\n",
       "    </tr>\n",
       "    <tr>\n",
       "      <th>98</th>\n",
       "      <td>98.0</td>\n",
       "      <td>0.001</td>\n",
       "      <td>0.024541</td>\n",
       "      <td>0.010106</td>\n",
       "      <td>0.025283</td>\n",
       "      <td>0.009333</td>\n",
       "    </tr>\n",
       "    <tr>\n",
       "      <th>99</th>\n",
       "      <td>99.0</td>\n",
       "      <td>0.001</td>\n",
       "      <td>0.023548</td>\n",
       "      <td>0.009367</td>\n",
       "      <td>0.021689</td>\n",
       "      <td>0.009823</td>\n",
       "    </tr>\n",
       "  </tbody>\n",
       "</table>\n",
       "<p>100 rows × 6 columns</p>\n",
       "</div>\n",
       "</div>\n",
       "<div class=\"cas-results-key\"><hr/><b>&#167; OutputCasTables</b></div>\n",
       "<div class=\"cas-results-body\">\n",
       "<div>\n",
       "<style scoped>\n",
       "    .dataframe tbody tr th:only-of-type {\n",
       "        vertical-align: middle;\n",
       "    }\n",
       "\n",
       "    .dataframe tbody tr th {\n",
       "        vertical-align: top;\n",
       "    }\n",
       "\n",
       "    .dataframe thead th {\n",
       "        text-align: right;\n",
       "    }\n",
       "</style>\n",
       "<table border=\"1\" class=\"dataframe\">\n",
       "  <thead>\n",
       "    <tr style=\"text-align: right;\">\n",
       "      <th title=\"\"></th>\n",
       "      <th title=\"CAS Library\">casLib</th>\n",
       "      <th title=\"Name\">Name</th>\n",
       "      <th title=\"Number of Rows\">Rows</th>\n",
       "      <th title=\"Number of Columns\">Columns</th>\n",
       "      <th title=\"Table\">casTable</th>\n",
       "    </tr>\n",
       "  </thead>\n",
       "  <tbody>\n",
       "    <tr>\n",
       "      <th>0</th>\n",
       "      <td>CASUSER(sasdemo)</td>\n",
       "      <td>lstm_002_weights_best</td>\n",
       "      <td>81501</td>\n",
       "      <td>3</td>\n",
       "      <td>CASTable('lstm_002_weights_best', caslib='CASU...</td>\n",
       "    </tr>\n",
       "    <tr>\n",
       "      <th>1</th>\n",
       "      <td>CASUSER(sasdemo)</td>\n",
       "      <td>lstm_002_weights</td>\n",
       "      <td>81501</td>\n",
       "      <td>3</td>\n",
       "      <td>CASTable('lstm_002_weights', caslib='CASUSER(s...</td>\n",
       "    </tr>\n",
       "  </tbody>\n",
       "</table>\n",
       "</div>\n",
       "</div>\n",
       "<div class=\"cas-output-area\"></div>\n",
       "<p class=\"cas-results-performance\"><small><span class=\"cas-elapsed\">elapsed 391s</span> &#183; <span class=\"cas-user\">user 3.24e+03s</span> &#183; <span class=\"cas-sys\">sys 3.73s</span> &#183; <span class=\"cas-memory\">mem 558MB</span></small></p>"
      ],
      "text/plain": [
       "[ModelInfo]\n",
       "\n",
       "                                         Descr                     Value\n",
       " 0                                  Model Name                  lstm_002\n",
       " 1                                  Model Type  Recurrent Neural Network\n",
       " 2                            Number of Layers                         4\n",
       " 3                      Number of Input Layers                         1\n",
       " 4                     Number of Output Layers                         1\n",
       " 5              Number of Convolutional Layers                         0\n",
       " 6                    Number of Pooling Layers                         0\n",
       " 7            Number of Fully Connected Layers                         0\n",
       " 8                  Number of Recurrent Layers                         2\n",
       " 9                 Number of Weight Parameters                     80900\n",
       " 10                  Number of Bias Parameters                       601\n",
       " 11           Total Number of Model Parameters                     81501\n",
       " 12  Approximate Memory Cost for Training (MB)                       490\n",
       "\n",
       "[OptIterHistory]\n",
       "\n",
       "     Epoch  LearningRate      Loss  FitError  ValidLoss  ValidError\n",
       " 0     0.0         0.001  0.287984  0.164065   0.297195    0.149195\n",
       " 1     1.0         0.001  0.271803  0.136733   0.198111    0.133516\n",
       " 2     2.0         0.001  0.208211  0.116683   0.202621    0.094099\n",
       " 3     3.0         0.001  0.184779  0.086552   0.120375    0.079995\n",
       " 4     4.0         0.001  0.158199  0.074649   0.109838    0.057806\n",
       " 5     5.0         0.001  0.116359  0.051646   0.048163    0.122131\n",
       " 6     6.0         0.001  0.128802  0.063157   0.070743    0.044312\n",
       " 7     7.0         0.001  0.098709  0.043616   0.087317    0.041365\n",
       " 8     8.0         0.001  0.087556  0.039336   0.091208    0.034408\n",
       " 9     9.0         0.001  0.081630  0.034457   0.062818    0.037361\n",
       " 10   10.0         0.001  0.077432  0.032480   0.061951    0.031683\n",
       " 11   11.0         0.001  0.073132  0.031555   0.057672    0.030865\n",
       " 12   12.0         0.001  0.066834  0.029586   0.053633    0.029416\n",
       " 13   13.0         0.001  0.070850  0.031635   0.072591    0.026507\n",
       " 14   14.0         0.001  0.060325  0.026021   0.027656    0.044479\n",
       " 15   15.0         0.001  0.077842  0.034905   0.103152    0.033482\n",
       " 16   16.0         0.001  0.079636  0.032059   0.033662    0.038508\n",
       " 17   17.0         0.001  0.061728  0.028266   0.082444    0.027154\n",
       " 18   18.0         0.001  0.064025  0.026371   0.037744    0.025875\n",
       " 19   19.0         0.001  0.054540  0.024698   0.078706    0.025853\n",
       " 20   20.0         0.001  0.056370  0.022865   0.035826    0.026210\n",
       " 21   21.0         0.001  0.061250  0.026571   0.092332    0.029002\n",
       " 22   22.0         0.001  0.059170  0.022974   0.033155    0.026788\n",
       " 23   23.0         0.001  0.048350  0.022596   0.067235    0.022348\n",
       " 24   24.0         0.001  0.054086  0.021410   0.023119    0.029691\n",
       " 25   25.0         0.001  0.052671  0.023785   0.063785    0.021437\n",
       " 26   26.0         0.001  0.061204  0.023641   0.042576    0.018519\n",
       " 27   27.0         0.001  0.047073  0.019863   0.024051    0.028653\n",
       " 28   28.0         0.001  0.055714  0.024439   0.116789    0.033198\n",
       " 29   29.0         0.001  0.063020  0.024808   0.125499    0.036246\n",
       " ..    ...           ...       ...       ...        ...         ...\n",
       " 70   70.0         0.001  0.033435  0.012330   0.052478    0.014275\n",
       " 71   71.0         0.001  0.030241  0.011630   0.050998    0.013727\n",
       " 72   72.0         0.001  0.033018  0.012961   0.060441    0.016441\n",
       " 73   73.0         0.001  0.033502  0.012630   0.039245    0.011921\n",
       " 74   74.0         0.001  0.032292  0.011961   0.057831    0.014951\n",
       " 75   75.0         0.001  0.030119  0.012133   0.054063    0.014298\n",
       " 76   76.0         0.001  0.032063  0.012151   0.049248    0.013721\n",
       " 77   77.0         0.001  0.030946  0.011408   0.041414    0.011915\n",
       " 78   78.0         0.001  0.029472  0.011022   0.042257    0.011882\n",
       " 79   79.0         0.001  0.027731  0.010625   0.035919    0.010999\n",
       " 80   80.0         0.001  0.026298  0.010296   0.033994    0.010653\n",
       " 81   81.0         0.001  0.027191  0.010890   0.024432    0.009498\n",
       " 82   82.0         0.001  0.024583  0.010465   0.032017    0.010161\n",
       " 83   83.0         0.001  0.025552  0.010387   0.030357    0.009945\n",
       " 84   84.0         0.001  0.025792  0.010319   0.029949    0.009825\n",
       " 85   85.0         0.001  0.025294  0.009937   0.032577    0.010171\n",
       " 86   86.0         0.001  0.024425  0.010112   0.032646    0.010261\n",
       " 87   87.0         0.001  0.026262  0.010595   0.025008    0.009370\n",
       " 88   88.0         0.001  0.023763  0.009834   0.028722    0.009689\n",
       " 89   89.0         0.001  0.024636  0.010072   0.024708    0.009279\n",
       " 90   90.0         0.001  0.023714  0.009819   0.028392    0.009540\n",
       " 91   91.0         0.001  0.025207  0.010256   0.019847    0.009000\n",
       " 92   92.0         0.001  0.022903  0.009648   0.021330    0.009767\n",
       " 93   93.0         0.001  0.023846  0.009993   0.037224    0.010624\n",
       " 94   94.0         0.001  0.026412  0.010365   0.017816    0.009327\n",
       " 95   95.0         0.001  0.023564  0.009893   0.017502    0.011571\n",
       " 96   96.0         0.001  0.024204  0.010370   0.027209    0.009389\n",
       " 97   97.0         0.001  0.025077  0.009822   0.020629    0.011073\n",
       " 98   98.0         0.001  0.024541  0.010106   0.025283    0.009333\n",
       " 99   99.0         0.001  0.023548  0.009367   0.021689    0.009823\n",
       " \n",
       " [100 rows x 6 columns]\n",
       "\n",
       "[OutputCasTables]\n",
       "\n",
       "              casLib                   Name   Rows  Columns  \\\n",
       " 0  CASUSER(sasdemo)  lstm_002_weights_best  81501        3   \n",
       " 1  CASUSER(sasdemo)       lstm_002_weights  81501        3   \n",
       " \n",
       "                                             casTable  \n",
       " 0  CASTable('lstm_002_weights_best', caslib='CASU...  \n",
       " 1  CASTable('lstm_002_weights', caslib='CASUSER(s...  \n",
       "\n",
       "+ Elapsed: 391s, user: 3.24e+03s, sys: 3.73s, mem: 558mb"
      ]
     },
     "execution_count": 32,
     "metadata": {},
     "output_type": "execute_result"
    }
   ],
   "source": [
    "result"
   ]
  },
  {
   "cell_type": "markdown",
   "metadata": {},
   "source": [
    "# Evaluate"
   ]
  },
  {
   "cell_type": "code",
   "execution_count": 79,
   "metadata": {},
   "outputs": [
    {
     "data": {
      "text/html": [
       "<div class=\"cas-results-key\"><b>&#167; ScoreInfo</b></div>\n",
       "<div class=\"cas-results-body\">\n",
       "<div>\n",
       "<style scoped>\n",
       "    .dataframe tbody tr th:only-of-type {\n",
       "        vertical-align: middle;\n",
       "    }\n",
       "\n",
       "    .dataframe tbody tr th {\n",
       "        vertical-align: top;\n",
       "    }\n",
       "\n",
       "    .dataframe thead th {\n",
       "        text-align: right;\n",
       "    }\n",
       "</style>\n",
       "<table border=\"1\" class=\"dataframe\">\n",
       "  <thead>\n",
       "    <tr style=\"text-align: right;\">\n",
       "      <th title=\"\"></th>\n",
       "      <th title=\"Descr\">Descr</th>\n",
       "      <th title=\"Value\">Value</th>\n",
       "    </tr>\n",
       "  </thead>\n",
       "  <tbody>\n",
       "    <tr>\n",
       "      <th>0</th>\n",
       "      <td>Number of Observations Read</td>\n",
       "      <td>8162</td>\n",
       "    </tr>\n",
       "    <tr>\n",
       "      <th>1</th>\n",
       "      <td>Number of Observations Used</td>\n",
       "      <td>8162</td>\n",
       "    </tr>\n",
       "    <tr>\n",
       "      <th>2</th>\n",
       "      <td>Mean Squared Error</td>\n",
       "      <td>0.004631</td>\n",
       "    </tr>\n",
       "    <tr>\n",
       "      <th>3</th>\n",
       "      <td>Loss Error</td>\n",
       "      <td>0.010086</td>\n",
       "    </tr>\n",
       "  </tbody>\n",
       "</table>\n",
       "</div>\n",
       "</div>\n",
       "<div class=\"cas-results-key\"><hr/><b>&#167; OutputCasTables</b></div>\n",
       "<div class=\"cas-results-body\">\n",
       "<div>\n",
       "<style scoped>\n",
       "    .dataframe tbody tr th:only-of-type {\n",
       "        vertical-align: middle;\n",
       "    }\n",
       "\n",
       "    .dataframe tbody tr th {\n",
       "        vertical-align: top;\n",
       "    }\n",
       "\n",
       "    .dataframe thead th {\n",
       "        text-align: right;\n",
       "    }\n",
       "</style>\n",
       "<table border=\"1\" class=\"dataframe\">\n",
       "  <thead>\n",
       "    <tr style=\"text-align: right;\">\n",
       "      <th title=\"\"></th>\n",
       "      <th title=\"CAS Library\">casLib</th>\n",
       "      <th title=\"Name\">Name</th>\n",
       "      <th title=\"Number of Rows\">Rows</th>\n",
       "      <th title=\"Number of Columns\">Columns</th>\n",
       "      <th title=\"Table\">casTable</th>\n",
       "    </tr>\n",
       "  </thead>\n",
       "  <tbody>\n",
       "    <tr>\n",
       "      <th>0</th>\n",
       "      <td>CASUSER(sasdemo)</td>\n",
       "      <td>lstm_pred</td>\n",
       "      <td>8162</td>\n",
       "      <td>4</td>\n",
       "      <td>CASTable('lstm_pred', caslib='CASUSER(sasdemo)')</td>\n",
       "    </tr>\n",
       "  </tbody>\n",
       "</table>\n",
       "</div>\n",
       "</div>\n",
       "<div class=\"cas-output-area\"></div>\n",
       "<p class=\"cas-results-performance\"><small><span class=\"cas-elapsed\">elapsed 1.78s</span> &#183; <span class=\"cas-user\">user 12s</span> &#183; <span class=\"cas-sys\">sys 0.061s</span> &#183; <span class=\"cas-memory\">mem 41.2MB</span></small></p>"
      ],
      "text/plain": [
       "[ScoreInfo]\n",
       "\n",
       "                          Descr         Value\n",
       " 0  Number of Observations Read          8162\n",
       " 1  Number of Observations Used          8162\n",
       " 2           Mean Squared Error      0.004631\n",
       " 3                   Loss Error      0.010086\n",
       "\n",
       "[OutputCasTables]\n",
       "\n",
       "              casLib       Name  Rows  Columns  \\\n",
       " 0  CASUSER(sasdemo)  lstm_pred  8162        4   \n",
       " \n",
       "                                            casTable  \n",
       " 0  CASTable('lstm_pred', caslib='CASUSER(sasdemo)')  \n",
       "\n",
       "+ Elapsed: 1.78s, user: 12s, sys: 0.061s, mem: 41.2mb"
      ]
     },
     "execution_count": 79,
     "metadata": {},
     "output_type": "execute_result"
    }
   ],
   "source": [
    "model.score(ts_test,\n",
    "            model=name,\n",
    "            init_weights=name+'_weights', \n",
    "            copy_vars=['id','cycle','nearfailure'],\n",
    "            casout={'name':'lstm_pred', 'replace':True})"
   ]
  },
  {
   "cell_type": "code",
   "execution_count": 80,
   "metadata": {},
   "outputs": [
    {
     "name": "stdout",
     "output_type": "stream",
     "text": [
      "NOTE: Table LSTM_PRED was created in caslib CASUSER(sasdemo) with 8162 rows returned.\n"
     ]
    },
    {
     "data": {
      "text/html": [
       "<div class=\"cas-output-area\"></div>\n",
       "<p class=\"cas-results-performance\"><small><span class=\"cas-elapsed\">elapsed 0.0356s</span> &#183; <span class=\"cas-user\">user 0.053s</span> &#183; <span class=\"cas-sys\">sys 0.024s</span> &#183; <span class=\"cas-memory\">mem 26.2MB</span></small></p>"
      ],
      "text/plain": [
       "+ Elapsed: 0.0356s, user: 0.053s, sys: 0.024s, mem: 26.2mb"
      ]
     },
     "execution_count": 80,
     "metadata": {},
     "output_type": "execute_result"
    }
   ],
   "source": [
    "sas.fedsql.execdirect(\n",
    "    '''\n",
    "    create table lstm_pred {options replace=true} as select\n",
    "       *,\n",
    "       case when _DL_Pred_ < 0.5 then 0 else 1 end as nf_pred\n",
    "    from lstm_pred\n",
    "    ''')"
   ]
  },
  {
   "cell_type": "code",
   "execution_count": 81,
   "metadata": {},
   "outputs": [],
   "source": [
    "pred = sas.CASTable('lstm_pred')"
   ]
  },
  {
   "cell_type": "code",
   "execution_count": 82,
   "metadata": {},
   "outputs": [],
   "source": [
    "acc = accuracy_score(ts_test.nearfailure, pred.nf_pred, id_vars='id')\n",
    "auc = roc_auc_score(ts_test.nearfailure, pred._DL_Pred_, id_vars='id', pos_label=1)\n",
    "cmx = confusion_matrix(ts_test.nearfailure, pred.nf_pred, id_vars='id', labels=[0,1])"
   ]
  },
  {
   "cell_type": "code",
   "execution_count": 83,
   "metadata": {},
   "outputs": [
    {
     "name": "stdout",
     "output_type": "stream",
     "text": [
      "Accuracy Score: 0.9938\n",
      "AUC Score: 0.9982\n",
      "\n",
      "Confusion Matrix:\n",
      "nf_pred           0      1\n",
      "nearfailure               \n",
      "0            7816.0   14.0\n",
      "1              37.0  295.0\n"
     ]
    }
   ],
   "source": [
    "print('Accuracy Score: %.4f' % acc)\n",
    "print('AUC Score: %.4f' % auc)\n",
    "print('\\nConfusion Matrix:\\n%s' % cmx)"
   ]
  },
  {
   "cell_type": "markdown",
   "metadata": {},
   "source": [
    "# Save Model"
   ]
  },
  {
   "cell_type": "code",
   "execution_count": 104,
   "metadata": {},
   "outputs": [
    {
     "name": "stdout",
     "output_type": "stream",
     "text": [
      "NOTE: Model table saved successfully.\n"
     ]
    }
   ],
   "source": [
    "model.save_to_table('/sasdata/pdm')"
   ]
  }
 ],
 "metadata": {
  "kernelspec": {
   "display_name": "Python 3",
   "language": "python",
   "name": "python3"
  },
  "language_info": {
   "codemirror_mode": {
    "name": "ipython",
    "version": 3
   },
   "file_extension": ".py",
   "mimetype": "text/x-python",
   "name": "python",
   "nbconvert_exporter": "python",
   "pygments_lexer": "ipython3",
   "version": "3.7.3"
  }
 },
 "nbformat": 4,
 "nbformat_minor": 2
}
