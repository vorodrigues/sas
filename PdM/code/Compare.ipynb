{
 "cells": [
  {
   "cell_type": "code",
   "execution_count": 1,
   "metadata": {},
   "outputs": [],
   "source": [
    "import pandas as pd"
   ]
  },
  {
   "cell_type": "code",
   "execution_count": 2,
   "metadata": {},
   "outputs": [],
   "source": [
    "from swat import *\n",
    "import dlpy\n",
    "from dlpy.timeseries import plot_timeseries\n",
    "from dlpy.splitting import two_way_split\n",
    "from dlpy import Sequential\n",
    "from dlpy.layers import * \n",
    "from dlpy.model import Optimizer, AdamSolver, Sequence\n",
    "from dlpy.metrics import accuracy_score, roc_auc_score, confusion_matrix\n",
    "from getpass import getpass"
   ]
  },
  {
   "cell_type": "markdown",
   "metadata": {},
   "source": [
    "# Connect to SAS  Viya"
   ]
  },
  {
   "cell_type": "code",
   "execution_count": 3,
   "metadata": {
    "scrolled": true
   },
   "outputs": [
    {
     "name": "stdout",
     "output_type": "stream",
     "text": [
      "Please enter your passwod:········\n"
     ]
    }
   ],
   "source": [
    "sas = CAS('localhost', 5570, 'sasdemo', getpass('Please enter your passwod:'))"
   ]
  },
  {
   "cell_type": "code",
   "execution_count": 4,
   "metadata": {},
   "outputs": [
    {
     "name": "stdout",
     "output_type": "stream",
     "text": [
      "NOTE: Added action set 'fedSql'.\n",
      "Done!\n"
     ]
    }
   ],
   "source": [
    "sas.loadactionset('fedSql')\n",
    "print('Done!')"
   ]
  },
  {
   "cell_type": "markdown",
   "metadata": {},
   "source": [
    "# Test Vars"
   ]
  },
  {
   "cell_type": "code",
   "execution_count": null,
   "metadata": {},
   "outputs": [],
   "source": [
    "test_vars = sas.read_csv('/sasdata/pdm/test_vars.csv', casout='test_vars')"
   ]
  },
  {
   "cell_type": "markdown",
   "metadata": {},
   "source": [
    "# ESP Vars"
   ]
  },
  {
   "cell_type": "code",
   "execution_count": null,
   "metadata": {},
   "outputs": [],
   "source": [
    "esp_vars = sas.read_csv('/sasdata/pdm/stream_out_vars.csv', casout='esp_vars')\n",
    "esp_vars.shape"
   ]
  },
  {
   "cell_type": "markdown",
   "metadata": {},
   "source": [
    "# Compare Vars"
   ]
  },
  {
   "cell_type": "code",
   "execution_count": null,
   "metadata": {},
   "outputs": [],
   "source": [
    "sas.fedsql.execdirect(\n",
    "    '''\n",
    "    create table t1 {options replace=true} as select\n",
    "        a.\"id\",\n",
    "        a.\"cycle\",\n",
    "        a.\"setting1\" as \"a_setting1\",\n",
    "        b.\"setting1\" as \"b_setting1\",\n",
    "        a.\"setting1_lag49\" as \"a_setting1_lag49\",\n",
    "        b.\"setting1_lag49\" as \"b_setting1_lag49\",\n",
    "        a.\"s2\" as \"a_s2\",\n",
    "        b.\"s2\" as \"b_s2\",\n",
    "        a.\"s2_lag49\" as \"a_s2_lag49\",\n",
    "        b.\"s2_lag49\" as \"b_s2_lag49\",\n",
    "        a.\"age\" as \"a_age\",\n",
    "        b.\"age\" as \"b_age\",\n",
    "        a.\"age_lag49\" as \"a_age_lag49\",\n",
    "        b.\"age_lag49\" as \"b_age_lag49\",\n",
    "        a.\"nearfailure\" as \"a_nearfailure\",\n",
    "        b.\"nearfailure\" as \"b_nearfailure\",\n",
    "        a.\"nearfailure_lag49\" as \"a_nearfailure_lag49\",\n",
    "        b.\"nearfailure_lag49\" as \"b_nearfailure_lag49\"\n",
    "    from test_vars as a\n",
    "    inner join esp_vars as b\n",
    "    on\n",
    "        a.\"id\" = b.\"id\" and\n",
    "        a.\"cycle\" = b.\"cycle\"\n",
    "    '''\n",
    ")\n",
    "t1 = sas.CASTable('t1')"
   ]
  },
  {
   "cell_type": "code",
   "execution_count": null,
   "metadata": {
    "scrolled": true
   },
   "outputs": [],
   "source": [
    "t1.head(200)"
   ]
  },
  {
   "cell_type": "code",
   "execution_count": null,
   "metadata": {},
   "outputs": [],
   "source": [
    "sas.fedsql.execdirect(\n",
    "    '''\n",
    "    create table t2 {options replace=true} as select\n",
    "        sum(case when a.\"setting1\" <> b.\"setting1\" then 1 else 0 end) as \"setting1\",\n",
    "        sum(case when a.\"setting1_lag49\" <> b.\"setting1_lag49\" then 1 else 0 end) as \"setting1_lag49\",\n",
    "        sum(case when a.\"s2\" <> b.\"s2\" then 1 else 0 end) as \"s2\",\n",
    "        sum(case when a.\"s2_lag49\" <> b.\"s2_lag49\" then 1 else 0 end) as \"s2_lag49\",\n",
    "        sum(case when a.\"age\" <> b.\"age\" then 1 else 0 end) as \"age\",\n",
    "        sum(case when a.\"age_lag49\" <> b.\"age_lag49\" then 1 else 0 end) as \"age_lag49\",\n",
    "        sum(case when a.\"nearfailure\" <> b.\"nearfailure\" then 1 else 0 end) as \"nearfailure\",\n",
    "        sum(case when a.\"nearfailure_lag49\" <> b.\"nearfailure_lag49\" then 1 else 0 end) as \"nearfailure_lag49\"\n",
    "    from test_vars as a\n",
    "    inner join esp_vars as b\n",
    "    on\n",
    "        a.\"id\" = b.\"id\" and\n",
    "        a.\"cycle\" = b.\"cycle\"\n",
    "    '''\n",
    ")\n",
    "t2 = sas.CASTable('t2')"
   ]
  },
  {
   "cell_type": "code",
   "execution_count": null,
   "metadata": {},
   "outputs": [],
   "source": [
    "t2.head()"
   ]
  },
  {
   "cell_type": "markdown",
   "metadata": {},
   "source": [
    "# Test Scores"
   ]
  },
  {
   "cell_type": "code",
   "execution_count": 11,
   "metadata": {},
   "outputs": [
    {
     "name": "stdout",
     "output_type": "stream",
     "text": [
      "NOTE: Cloud Analytic Services made the uploaded file available as table TEST1_SCORES in caslib CASUSER(sasdemo).\n",
      "NOTE: The table TEST1_SCORES has been created in caslib CASUSER(sasdemo) from binary data uploaded to Cloud Analytic Services.\n",
      "Index(['Unnamed: 0', 'id', 'cycle', 'nearfailure', '_DL_Pred_', 'NF_PRED'], dtype='object')\n",
      "(8255, 6)\n"
     ]
    }
   ],
   "source": [
    "test1_scores = sas.read_csv('/sasdata/pdm/lstm_002_preds.csv',\n",
    "                           casout=CASTable(name='test1_scores', replace=True))\n",
    "print(test1_scores.columns)\n",
    "print(test1_scores.shape)"
   ]
  },
  {
   "cell_type": "markdown",
   "metadata": {},
   "source": [
    "# ESP Scores"
   ]
  },
  {
   "cell_type": "code",
   "execution_count": 12,
   "metadata": {},
   "outputs": [
    {
     "name": "stdout",
     "output_type": "stream",
     "text": [
      "NOTE: Cloud Analytic Services made the uploaded file available as table ESP_SCORES in caslib CASUSER(sasdemo).\n",
      "NOTE: The table ESP_SCORES has been created in caslib CASUSER(sasdemo) from binary data uploaded to Cloud Analytic Services.\n",
      "Index(['key', 'id', 'cycle', 'P_nearfailure'], dtype='object')\n",
      "(8162, 4)\n"
     ]
    }
   ],
   "source": [
    "esp_scores = sas.read_csv('/sasdata/pdm/stream_out_score.csv',\n",
    "                           casout=CASTable(name='esp_scores', replace=True))\n",
    "print(esp_scores.columns)\n",
    "print(esp_scores.shape)"
   ]
  },
  {
   "cell_type": "markdown",
   "metadata": {},
   "source": [
    "# Compare Scores"
   ]
  },
  {
   "cell_type": "code",
   "execution_count": 13,
   "metadata": {},
   "outputs": [
    {
     "name": "stdout",
     "output_type": "stream",
     "text": [
      "NOTE: Table T3 was created in caslib CASUSER(sasdemo) with 8255 rows returned.\n"
     ]
    }
   ],
   "source": [
    "sas.fedsql.execdirect(\n",
    "    '''\n",
    "    create table t3 {options replace=true} as select\n",
    "        a.id,\n",
    "        a.cycle,\n",
    "        a._DL_Pred_ as p_test1,\n",
    "        c.P_nearfailure as p_esp\n",
    "    from test1_scores as a\n",
    "    left join esp_scores as c\n",
    "    on\n",
    "        a.id = c.id and\n",
    "        a.cycle = c.cycle\n",
    "    '''\n",
    ")\n",
    "t3 = sas.CASTable('t3')"
   ]
  },
  {
   "cell_type": "code",
   "execution_count": 14,
   "metadata": {},
   "outputs": [
    {
     "data": {
      "text/html": [
       "<div>\n",
       "<style scoped>\n",
       "    .dataframe tbody tr th:only-of-type {\n",
       "        vertical-align: middle;\n",
       "    }\n",
       "\n",
       "    .dataframe tbody tr th {\n",
       "        vertical-align: top;\n",
       "    }\n",
       "\n",
       "    .dataframe thead th {\n",
       "        text-align: right;\n",
       "    }\n",
       "</style>\n",
       "<table border=\"1\" class=\"dataframe\"><caption>Selected Rows from Table T3</caption>\n",
       "  <thead>\n",
       "    <tr style=\"text-align: right;\">\n",
       "      <th title=\"\"></th>\n",
       "      <th title=\"id\">id</th>\n",
       "      <th title=\"cycle\">cycle</th>\n",
       "      <th title=\"P_TEST1\">P_TEST1</th>\n",
       "      <th title=\"P_ESP\">P_ESP</th>\n",
       "    </tr>\n",
       "  </thead>\n",
       "  <tbody>\n",
       "    <tr>\n",
       "      <th>0</th>\n",
       "      <td>76.0</td>\n",
       "      <td>97.0</td>\n",
       "      <td>0.001030</td>\n",
       "      <td>0.001030</td>\n",
       "    </tr>\n",
       "    <tr>\n",
       "      <th>1</th>\n",
       "      <td>76.0</td>\n",
       "      <td>98.0</td>\n",
       "      <td>0.001031</td>\n",
       "      <td>0.001031</td>\n",
       "    </tr>\n",
       "    <tr>\n",
       "      <th>2</th>\n",
       "      <td>76.0</td>\n",
       "      <td>99.0</td>\n",
       "      <td>0.001033</td>\n",
       "      <td>0.001033</td>\n",
       "    </tr>\n",
       "    <tr>\n",
       "      <th>3</th>\n",
       "      <td>76.0</td>\n",
       "      <td>100.0</td>\n",
       "      <td>0.001035</td>\n",
       "      <td>0.001035</td>\n",
       "    </tr>\n",
       "    <tr>\n",
       "      <th>4</th>\n",
       "      <td>76.0</td>\n",
       "      <td>101.0</td>\n",
       "      <td>0.001035</td>\n",
       "      <td>0.001035</td>\n",
       "    </tr>\n",
       "  </tbody>\n",
       "</table>\n",
       "</div>"
      ],
      "text/plain": [
       "Selected Rows from Table T3\n",
       "\n",
       "     id  cycle   P_TEST1     P_ESP\n",
       "0  76.0   97.0  0.001030  0.001030\n",
       "1  76.0   98.0  0.001031  0.001031\n",
       "2  76.0   99.0  0.001033  0.001033\n",
       "3  76.0  100.0  0.001035  0.001035\n",
       "4  76.0  101.0  0.001035  0.001035"
      ]
     },
     "execution_count": 14,
     "metadata": {},
     "output_type": "execute_result"
    }
   ],
   "source": [
    "t3.head()"
   ]
  },
  {
   "cell_type": "code",
   "execution_count": 15,
   "metadata": {},
   "outputs": [
    {
     "name": "stdout",
     "output_type": "stream",
     "text": [
      "NOTE: Table T4 was created in caslib CASUSER(sasdemo) with 1 rows returned.\n"
     ]
    }
   ],
   "source": [
    "sas.fedsql.execdirect(\n",
    "    '''\n",
    "    create table t4 {options replace=true} as select\n",
    "        sum(case when a._DL_Pred_ - c.P_nearfailure > 0.001 then 1 else 0 end) as diff_cnt,\n",
    "        sum(case when a._DL_Pred_ > 0.5 then 1 else 0 end) as test1_pos,\n",
    "        sum(case when c.P_nearfailure > 0.5 then 1 else 0 end) as esp_pos\n",
    "    from test1_scores as a\n",
    "    left join esp_scores as c\n",
    "    on\n",
    "        a.id = c.id and\n",
    "        a.cycle = c.cycle\n",
    "    '''\n",
    ")\n",
    "t4 = sas.CASTable('t4')"
   ]
  },
  {
   "cell_type": "code",
   "execution_count": 16,
   "metadata": {},
   "outputs": [
    {
     "data": {
      "text/html": [
       "<div>\n",
       "<style scoped>\n",
       "    .dataframe tbody tr th:only-of-type {\n",
       "        vertical-align: middle;\n",
       "    }\n",
       "\n",
       "    .dataframe tbody tr th {\n",
       "        vertical-align: top;\n",
       "    }\n",
       "\n",
       "    .dataframe thead th {\n",
       "        text-align: right;\n",
       "    }\n",
       "</style>\n",
       "<table border=\"1\" class=\"dataframe\"><caption>Selected Rows from Table T4</caption>\n",
       "  <thead>\n",
       "    <tr style=\"text-align: right;\">\n",
       "      <th title=\"\"></th>\n",
       "      <th title=\"DIFF_CNT\">DIFF_CNT</th>\n",
       "      <th title=\"TEST1_POS\">TEST1_POS</th>\n",
       "      <th title=\"ESP_POS\">ESP_POS</th>\n",
       "    </tr>\n",
       "  </thead>\n",
       "  <tbody>\n",
       "    <tr>\n",
       "      <th>0</th>\n",
       "      <td>0</td>\n",
       "      <td>316</td>\n",
       "      <td>316</td>\n",
       "    </tr>\n",
       "  </tbody>\n",
       "</table>\n",
       "</div>"
      ],
      "text/plain": [
       "Selected Rows from Table T4\n",
       "\n",
       "   DIFF_CNT  TEST1_POS  ESP_POS\n",
       "0         0        316      316"
      ]
     },
     "execution_count": 16,
     "metadata": {},
     "output_type": "execute_result"
    }
   ],
   "source": [
    "t4.head()"
   ]
  },
  {
   "cell_type": "markdown",
   "metadata": {},
   "source": [
    "# Difference"
   ]
  },
  {
   "cell_type": "code",
   "execution_count": 17,
   "metadata": {},
   "outputs": [
    {
     "data": {
      "text/html": [
       "<div class=\"cas-results-key\"><b>&#167; Fetch</b></div>\n",
       "<div class=\"cas-results-body\">\n",
       "<div>\n",
       "<style scoped>\n",
       "    .dataframe tbody tr th:only-of-type {\n",
       "        vertical-align: middle;\n",
       "    }\n",
       "\n",
       "    .dataframe tbody tr th {\n",
       "        vertical-align: top;\n",
       "    }\n",
       "\n",
       "    .dataframe thead th {\n",
       "        text-align: right;\n",
       "    }\n",
       "</style>\n",
       "<table border=\"1\" class=\"dataframe\"><caption>Selected Rows from Table T3</caption>\n",
       "  <thead>\n",
       "    <tr style=\"text-align: right;\">\n",
       "      <th title=\"\"></th>\n",
       "      <th title=\"id\">id</th>\n",
       "      <th title=\"cycle\">cycle</th>\n",
       "      <th title=\"P_TEST1\">P_TEST1</th>\n",
       "      <th title=\"P_ESP\">P_ESP</th>\n",
       "    </tr>\n",
       "  </thead>\n",
       "  <tbody>\n",
       "  </tbody>\n",
       "</table>\n",
       "</div>\n",
       "</div>\n",
       "<div class=\"cas-output-area\"></div>\n",
       "<p class=\"cas-results-performance\"><small><span class=\"cas-elapsed\">elapsed 0.00224s</span> &#183; <span class=\"cas-user\">user 0.001s</span> &#183; <span class=\"cas-sys\">sys 0.001s</span> &#183; <span class=\"cas-memory\">mem 1.14MB</span></small></p>"
      ],
      "text/plain": [
       "[Fetch]\n",
       "\n",
       " Selected Rows from Table T3\n",
       " \n",
       " Empty DataFrame\n",
       " Columns: [id, cycle, P_TEST1, P_ESP]\n",
       " Index: []\n",
       "\n",
       "+ Elapsed: 0.00224s, user: 0.001s, sys: 0.001s, mem: 1.14mb"
      ]
     },
     "execution_count": 17,
     "metadata": {},
     "output_type": "execute_result"
    }
   ],
   "source": [
    "t3.query('P_TEST1 - P_ESP > 0.001').fetch()"
   ]
  },
  {
   "cell_type": "code",
   "execution_count": 19,
   "metadata": {},
   "outputs": [
    {
     "name": "stdout",
     "output_type": "stream",
     "text": [
      "NOTE: Table T5 was created in caslib CASUSER(sasdemo) with 25 rows returned.\n"
     ]
    }
   ],
   "source": [
    "sas.fedsql.execdirect(\n",
    "    '''\n",
    "    create table t5 {options replace=true} as select\n",
    "        a.id,\n",
    "        min(a.cycle) as test1_first,\n",
    "        min(c.cycle) as esp_first\n",
    "    from (select * from test1_scores where _DL_Pred_ > 0.5) as a\n",
    "    left join (select * from esp_scores where P_nearfailure > 0.5) as c\n",
    "    on\n",
    "        a.id = c.id and\n",
    "        a.cycle = c.cycle\n",
    "    group by a.id\n",
    "    '''\n",
    ")\n",
    "t5 = sas.CASTable('t5')"
   ]
  },
  {
   "cell_type": "code",
   "execution_count": 20,
   "metadata": {},
   "outputs": [
    {
     "data": {
      "text/html": [
       "<div>\n",
       "<style scoped>\n",
       "    .dataframe tbody tr th:only-of-type {\n",
       "        vertical-align: middle;\n",
       "    }\n",
       "\n",
       "    .dataframe tbody tr th {\n",
       "        vertical-align: top;\n",
       "    }\n",
       "\n",
       "    .dataframe thead th {\n",
       "        text-align: right;\n",
       "    }\n",
       "</style>\n",
       "<table border=\"1\" class=\"dataframe\"><caption>Selected Rows from Table T5</caption>\n",
       "  <thead>\n",
       "    <tr style=\"text-align: right;\">\n",
       "      <th title=\"\"></th>\n",
       "      <th title=\"id\">id</th>\n",
       "      <th title=\"TEST1_FIRST\">TEST1_FIRST</th>\n",
       "      <th title=\"ESP_FIRST\">ESP_FIRST</th>\n",
       "    </tr>\n",
       "  </thead>\n",
       "  <tbody>\n",
       "    <tr>\n",
       "      <th>0</th>\n",
       "      <td>31.0</td>\n",
       "      <td>169.0</td>\n",
       "      <td>169.0</td>\n",
       "    </tr>\n",
       "    <tr>\n",
       "      <th>1</th>\n",
       "      <td>56.0</td>\n",
       "      <td>126.0</td>\n",
       "      <td>126.0</td>\n",
       "    </tr>\n",
       "    <tr>\n",
       "      <th>2</th>\n",
       "      <td>42.0</td>\n",
       "      <td>141.0</td>\n",
       "      <td>141.0</td>\n",
       "    </tr>\n",
       "    <tr>\n",
       "      <th>3</th>\n",
       "      <td>68.0</td>\n",
       "      <td>166.0</td>\n",
       "      <td>166.0</td>\n",
       "    </tr>\n",
       "    <tr>\n",
       "      <th>4</th>\n",
       "      <td>41.0</td>\n",
       "      <td>121.0</td>\n",
       "      <td>121.0</td>\n",
       "    </tr>\n",
       "    <tr>\n",
       "      <th>5</th>\n",
       "      <td>24.0</td>\n",
       "      <td>174.0</td>\n",
       "      <td>174.0</td>\n",
       "    </tr>\n",
       "    <tr>\n",
       "      <th>6</th>\n",
       "      <td>37.0</td>\n",
       "      <td>119.0</td>\n",
       "      <td>119.0</td>\n",
       "    </tr>\n",
       "    <tr>\n",
       "      <th>7</th>\n",
       "      <td>40.0</td>\n",
       "      <td>128.0</td>\n",
       "      <td>128.0</td>\n",
       "    </tr>\n",
       "    <tr>\n",
       "      <th>8</th>\n",
       "      <td>66.0</td>\n",
       "      <td>130.0</td>\n",
       "      <td>130.0</td>\n",
       "    </tr>\n",
       "    <tr>\n",
       "      <th>9</th>\n",
       "      <td>82.0</td>\n",
       "      <td>149.0</td>\n",
       "      <td>149.0</td>\n",
       "    </tr>\n",
       "    <tr>\n",
       "      <th>10</th>\n",
       "      <td>36.0</td>\n",
       "      <td>120.0</td>\n",
       "      <td>120.0</td>\n",
       "    </tr>\n",
       "    <tr>\n",
       "      <th>11</th>\n",
       "      <td>49.0</td>\n",
       "      <td>294.0</td>\n",
       "      <td>294.0</td>\n",
       "    </tr>\n",
       "    <tr>\n",
       "      <th>12</th>\n",
       "      <td>52.0</td>\n",
       "      <td>187.0</td>\n",
       "      <td>187.0</td>\n",
       "    </tr>\n",
       "    <tr>\n",
       "      <th>13</th>\n",
       "      <td>81.0</td>\n",
       "      <td>181.0</td>\n",
       "      <td>181.0</td>\n",
       "    </tr>\n",
       "    <tr>\n",
       "      <th>14</th>\n",
       "      <td>100.0</td>\n",
       "      <td>190.0</td>\n",
       "      <td>190.0</td>\n",
       "    </tr>\n",
       "    <tr>\n",
       "      <th>15</th>\n",
       "      <td>35.0</td>\n",
       "      <td>176.0</td>\n",
       "      <td>176.0</td>\n",
       "    </tr>\n",
       "    <tr>\n",
       "      <th>16</th>\n",
       "      <td>64.0</td>\n",
       "      <td>165.0</td>\n",
       "      <td>165.0</td>\n",
       "    </tr>\n",
       "    <tr>\n",
       "      <th>17</th>\n",
       "      <td>18.0</td>\n",
       "      <td>133.0</td>\n",
       "      <td>133.0</td>\n",
       "    </tr>\n",
       "    <tr>\n",
       "      <th>18</th>\n",
       "      <td>34.0</td>\n",
       "      <td>181.0</td>\n",
       "      <td>181.0</td>\n",
       "    </tr>\n",
       "    <tr>\n",
       "      <th>19</th>\n",
       "      <td>76.0</td>\n",
       "      <td>175.0</td>\n",
       "      <td>175.0</td>\n",
       "    </tr>\n",
       "    <tr>\n",
       "      <th>20</th>\n",
       "      <td>92.0</td>\n",
       "      <td>143.0</td>\n",
       "      <td>143.0</td>\n",
       "    </tr>\n",
       "    <tr>\n",
       "      <th>21</th>\n",
       "      <td>20.0</td>\n",
       "      <td>164.0</td>\n",
       "      <td>164.0</td>\n",
       "    </tr>\n",
       "    <tr>\n",
       "      <th>22</th>\n",
       "      <td>91.0</td>\n",
       "      <td>228.0</td>\n",
       "      <td>228.0</td>\n",
       "    </tr>\n",
       "    <tr>\n",
       "      <th>23</th>\n",
       "      <td>61.0</td>\n",
       "      <td>153.0</td>\n",
       "      <td>153.0</td>\n",
       "    </tr>\n",
       "    <tr>\n",
       "      <th>24</th>\n",
       "      <td>90.0</td>\n",
       "      <td>143.0</td>\n",
       "      <td>143.0</td>\n",
       "    </tr>\n",
       "  </tbody>\n",
       "</table>\n",
       "</div>"
      ],
      "text/plain": [
       "Selected Rows from Table T5\n",
       "\n",
       "       id  TEST1_FIRST  ESP_FIRST\n",
       "0    31.0        169.0      169.0\n",
       "1    56.0        126.0      126.0\n",
       "2    42.0        141.0      141.0\n",
       "3    68.0        166.0      166.0\n",
       "4    41.0        121.0      121.0\n",
       "5    24.0        174.0      174.0\n",
       "6    37.0        119.0      119.0\n",
       "7    40.0        128.0      128.0\n",
       "8    66.0        130.0      130.0\n",
       "9    82.0        149.0      149.0\n",
       "10   36.0        120.0      120.0\n",
       "11   49.0        294.0      294.0\n",
       "12   52.0        187.0      187.0\n",
       "13   81.0        181.0      181.0\n",
       "14  100.0        190.0      190.0\n",
       "15   35.0        176.0      176.0\n",
       "16   64.0        165.0      165.0\n",
       "17   18.0        133.0      133.0\n",
       "18   34.0        181.0      181.0\n",
       "19   76.0        175.0      175.0\n",
       "20   92.0        143.0      143.0\n",
       "21   20.0        164.0      164.0\n",
       "22   91.0        228.0      228.0\n",
       "23   61.0        153.0      153.0\n",
       "24   90.0        143.0      143.0"
      ]
     },
     "execution_count": 20,
     "metadata": {},
     "output_type": "execute_result"
    }
   ],
   "source": [
    "t5.head(1000)"
   ]
  },
  {
   "cell_type": "code",
   "execution_count": null,
   "metadata": {},
   "outputs": [],
   "source": []
  }
 ],
 "metadata": {
  "kernelspec": {
   "display_name": "Python 3",
   "language": "python",
   "name": "python3"
  },
  "language_info": {
   "codemirror_mode": {
    "name": "ipython",
    "version": 3
   },
   "file_extension": ".py",
   "mimetype": "text/x-python",
   "name": "python",
   "nbconvert_exporter": "python",
   "pygments_lexer": "ipython3",
   "version": "3.7.3"
  }
 },
 "nbformat": 4,
 "nbformat_minor": 2
}
